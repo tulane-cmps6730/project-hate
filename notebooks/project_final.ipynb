{
 "cells": [
  {
   "cell_type": "code",
   "execution_count": 114,
   "metadata": {},
   "outputs": [],
   "source": [
    "from scipy import spatial\n",
    "import gensim.downloader as api\n",
    "from sklearn.decomposition import PCA\n",
    "import torch\n",
    "import torch.nn as nn\n",
    "import pandas as pd\n",
    "import numpy as np\n",
    "import matplotlib.pyplot as plt\n",
    "from sklearn.cluster import KMeans\n",
    "import seaborn as sns\n",
    "from seaborn.colors import crayons\n",
    "from sklearn.metrics.pairwise import paired_cosine_distances,cosine_distances\n",
    "import scipy as sp\n",
    "from sklearn.utils.extmath import stable_cumsum\n",
    "from sentence_transformers import SentenceTransformer\n",
    "import tqdm\n",
    "import plotly.express as px\n",
    "import torch\n",
    "from torcheval.metrics.functional import multiclass_confusion_matrix\n",
    "from torch.optim.lr_scheduler import StepLR"
   ]
  },
  {
   "cell_type": "markdown",
   "metadata": {},
   "source": [
    "<h1>Toolbox</h1>"
   ]
  },
  {
   "cell_type": "code",
   "execution_count": 2,
   "metadata": {},
   "outputs": [],
   "source": [
    "def z(x):\n",
    "    n = x.shape[0]\n",
    "    mean = torch.sum(x,dim=0)/n # X.mean()\n",
    "    std = torch.std(x,dim=0)\n",
    "    z_scores = (x - mean)/std\n",
    "    return z_scores"
   ]
  },
  {
   "cell_type": "markdown",
   "metadata": {},
   "source": [
    "<h1>Data</h1>"
   ]
  },
  {
   "cell_type": "markdown",
   "metadata": {},
   "source": [
    "384-length embeddings"
   ]
  },
  {
   "cell_type": "markdown",
   "metadata": {},
   "source": [
    "Okay, we're going to take an even training shuffle first of 1000 of each, and then test on the last 89 unseen, along with 89 unseen of implicit, and 89 not hate. "
   ]
  },
  {
   "cell_type": "code",
   "execution_count": 3,
   "metadata": {},
   "outputs": [
    {
     "name": "stderr",
     "output_type": "stream",
     "text": [
      "/var/folders/4z/bnyz3w2s6lg97h_fm4lt5ksr0000gn/T/ipykernel_1280/165316287.py:6: PerformanceWarning: DataFrame is highly fragmented.  This is usually the result of calling `frame.insert` many times, which has poor performance.  Consider joining all columns at once using pd.concat(axis=1) instead. To get a de-fragmented frame, use `newframe = frame.copy()`\n",
      "  data1['v_'+str(i)] = [j[i] for j in embeddings]\n",
      "/var/folders/4z/bnyz3w2s6lg97h_fm4lt5ksr0000gn/T/ipykernel_1280/165316287.py:6: PerformanceWarning: DataFrame is highly fragmented.  This is usually the result of calling `frame.insert` many times, which has poor performance.  Consider joining all columns at once using pd.concat(axis=1) instead. To get a de-fragmented frame, use `newframe = frame.copy()`\n",
      "  data1['v_'+str(i)] = [j[i] for j in embeddings]\n",
      "/var/folders/4z/bnyz3w2s6lg97h_fm4lt5ksr0000gn/T/ipykernel_1280/165316287.py:6: PerformanceWarning: DataFrame is highly fragmented.  This is usually the result of calling `frame.insert` many times, which has poor performance.  Consider joining all columns at once using pd.concat(axis=1) instead. To get a de-fragmented frame, use `newframe = frame.copy()`\n",
      "  data1['v_'+str(i)] = [j[i] for j in embeddings]\n",
      "/var/folders/4z/bnyz3w2s6lg97h_fm4lt5ksr0000gn/T/ipykernel_1280/165316287.py:6: PerformanceWarning: DataFrame is highly fragmented.  This is usually the result of calling `frame.insert` many times, which has poor performance.  Consider joining all columns at once using pd.concat(axis=1) instead. To get a de-fragmented frame, use `newframe = frame.copy()`\n",
      "  data1['v_'+str(i)] = [j[i] for j in embeddings]\n",
      "/var/folders/4z/bnyz3w2s6lg97h_fm4lt5ksr0000gn/T/ipykernel_1280/165316287.py:6: PerformanceWarning: DataFrame is highly fragmented.  This is usually the result of calling `frame.insert` many times, which has poor performance.  Consider joining all columns at once using pd.concat(axis=1) instead. To get a de-fragmented frame, use `newframe = frame.copy()`\n",
      "  data1['v_'+str(i)] = [j[i] for j in embeddings]\n",
      "/var/folders/4z/bnyz3w2s6lg97h_fm4lt5ksr0000gn/T/ipykernel_1280/165316287.py:6: PerformanceWarning: DataFrame is highly fragmented.  This is usually the result of calling `frame.insert` many times, which has poor performance.  Consider joining all columns at once using pd.concat(axis=1) instead. To get a de-fragmented frame, use `newframe = frame.copy()`\n",
      "  data1['v_'+str(i)] = [j[i] for j in embeddings]\n",
      "/var/folders/4z/bnyz3w2s6lg97h_fm4lt5ksr0000gn/T/ipykernel_1280/165316287.py:6: PerformanceWarning: DataFrame is highly fragmented.  This is usually the result of calling `frame.insert` many times, which has poor performance.  Consider joining all columns at once using pd.concat(axis=1) instead. To get a de-fragmented frame, use `newframe = frame.copy()`\n",
      "  data1['v_'+str(i)] = [j[i] for j in embeddings]\n",
      "/var/folders/4z/bnyz3w2s6lg97h_fm4lt5ksr0000gn/T/ipykernel_1280/165316287.py:6: PerformanceWarning: DataFrame is highly fragmented.  This is usually the result of calling `frame.insert` many times, which has poor performance.  Consider joining all columns at once using pd.concat(axis=1) instead. To get a de-fragmented frame, use `newframe = frame.copy()`\n",
      "  data1['v_'+str(i)] = [j[i] for j in embeddings]\n",
      "/var/folders/4z/bnyz3w2s6lg97h_fm4lt5ksr0000gn/T/ipykernel_1280/165316287.py:6: PerformanceWarning: DataFrame is highly fragmented.  This is usually the result of calling `frame.insert` many times, which has poor performance.  Consider joining all columns at once using pd.concat(axis=1) instead. To get a de-fragmented frame, use `newframe = frame.copy()`\n",
      "  data1['v_'+str(i)] = [j[i] for j in embeddings]\n",
      "/var/folders/4z/bnyz3w2s6lg97h_fm4lt5ksr0000gn/T/ipykernel_1280/165316287.py:6: PerformanceWarning: DataFrame is highly fragmented.  This is usually the result of calling `frame.insert` many times, which has poor performance.  Consider joining all columns at once using pd.concat(axis=1) instead. To get a de-fragmented frame, use `newframe = frame.copy()`\n",
      "  data1['v_'+str(i)] = [j[i] for j in embeddings]\n",
      "/var/folders/4z/bnyz3w2s6lg97h_fm4lt5ksr0000gn/T/ipykernel_1280/165316287.py:6: PerformanceWarning: DataFrame is highly fragmented.  This is usually the result of calling `frame.insert` many times, which has poor performance.  Consider joining all columns at once using pd.concat(axis=1) instead. To get a de-fragmented frame, use `newframe = frame.copy()`\n",
      "  data1['v_'+str(i)] = [j[i] for j in embeddings]\n",
      "/var/folders/4z/bnyz3w2s6lg97h_fm4lt5ksr0000gn/T/ipykernel_1280/165316287.py:6: PerformanceWarning: DataFrame is highly fragmented.  This is usually the result of calling `frame.insert` many times, which has poor performance.  Consider joining all columns at once using pd.concat(axis=1) instead. To get a de-fragmented frame, use `newframe = frame.copy()`\n",
      "  data1['v_'+str(i)] = [j[i] for j in embeddings]\n",
      "/var/folders/4z/bnyz3w2s6lg97h_fm4lt5ksr0000gn/T/ipykernel_1280/165316287.py:6: PerformanceWarning: DataFrame is highly fragmented.  This is usually the result of calling `frame.insert` many times, which has poor performance.  Consider joining all columns at once using pd.concat(axis=1) instead. To get a de-fragmented frame, use `newframe = frame.copy()`\n",
      "  data1['v_'+str(i)] = [j[i] for j in embeddings]\n",
      "/var/folders/4z/bnyz3w2s6lg97h_fm4lt5ksr0000gn/T/ipykernel_1280/165316287.py:6: PerformanceWarning: DataFrame is highly fragmented.  This is usually the result of calling `frame.insert` many times, which has poor performance.  Consider joining all columns at once using pd.concat(axis=1) instead. To get a de-fragmented frame, use `newframe = frame.copy()`\n",
      "  data1['v_'+str(i)] = [j[i] for j in embeddings]\n",
      "/var/folders/4z/bnyz3w2s6lg97h_fm4lt5ksr0000gn/T/ipykernel_1280/165316287.py:6: PerformanceWarning: DataFrame is highly fragmented.  This is usually the result of calling `frame.insert` many times, which has poor performance.  Consider joining all columns at once using pd.concat(axis=1) instead. To get a de-fragmented frame, use `newframe = frame.copy()`\n",
      "  data1['v_'+str(i)] = [j[i] for j in embeddings]\n",
      "/var/folders/4z/bnyz3w2s6lg97h_fm4lt5ksr0000gn/T/ipykernel_1280/165316287.py:6: PerformanceWarning: DataFrame is highly fragmented.  This is usually the result of calling `frame.insert` many times, which has poor performance.  Consider joining all columns at once using pd.concat(axis=1) instead. To get a de-fragmented frame, use `newframe = frame.copy()`\n",
      "  data1['v_'+str(i)] = [j[i] for j in embeddings]\n",
      "/var/folders/4z/bnyz3w2s6lg97h_fm4lt5ksr0000gn/T/ipykernel_1280/165316287.py:6: PerformanceWarning: DataFrame is highly fragmented.  This is usually the result of calling `frame.insert` many times, which has poor performance.  Consider joining all columns at once using pd.concat(axis=1) instead. To get a de-fragmented frame, use `newframe = frame.copy()`\n",
      "  data1['v_'+str(i)] = [j[i] for j in embeddings]\n",
      "/var/folders/4z/bnyz3w2s6lg97h_fm4lt5ksr0000gn/T/ipykernel_1280/165316287.py:6: PerformanceWarning: DataFrame is highly fragmented.  This is usually the result of calling `frame.insert` many times, which has poor performance.  Consider joining all columns at once using pd.concat(axis=1) instead. To get a de-fragmented frame, use `newframe = frame.copy()`\n",
      "  data1['v_'+str(i)] = [j[i] for j in embeddings]\n",
      "/var/folders/4z/bnyz3w2s6lg97h_fm4lt5ksr0000gn/T/ipykernel_1280/165316287.py:6: PerformanceWarning: DataFrame is highly fragmented.  This is usually the result of calling `frame.insert` many times, which has poor performance.  Consider joining all columns at once using pd.concat(axis=1) instead. To get a de-fragmented frame, use `newframe = frame.copy()`\n",
      "  data1['v_'+str(i)] = [j[i] for j in embeddings]\n",
      "/var/folders/4z/bnyz3w2s6lg97h_fm4lt5ksr0000gn/T/ipykernel_1280/165316287.py:6: PerformanceWarning: DataFrame is highly fragmented.  This is usually the result of calling `frame.insert` many times, which has poor performance.  Consider joining all columns at once using pd.concat(axis=1) instead. To get a de-fragmented frame, use `newframe = frame.copy()`\n",
      "  data1['v_'+str(i)] = [j[i] for j in embeddings]\n",
      "/var/folders/4z/bnyz3w2s6lg97h_fm4lt5ksr0000gn/T/ipykernel_1280/165316287.py:6: PerformanceWarning: DataFrame is highly fragmented.  This is usually the result of calling `frame.insert` many times, which has poor performance.  Consider joining all columns at once using pd.concat(axis=1) instead. To get a de-fragmented frame, use `newframe = frame.copy()`\n",
      "  data1['v_'+str(i)] = [j[i] for j in embeddings]\n",
      "/var/folders/4z/bnyz3w2s6lg97h_fm4lt5ksr0000gn/T/ipykernel_1280/165316287.py:6: PerformanceWarning: DataFrame is highly fragmented.  This is usually the result of calling `frame.insert` many times, which has poor performance.  Consider joining all columns at once using pd.concat(axis=1) instead. To get a de-fragmented frame, use `newframe = frame.copy()`\n",
      "  data1['v_'+str(i)] = [j[i] for j in embeddings]\n",
      "/var/folders/4z/bnyz3w2s6lg97h_fm4lt5ksr0000gn/T/ipykernel_1280/165316287.py:6: PerformanceWarning: DataFrame is highly fragmented.  This is usually the result of calling `frame.insert` many times, which has poor performance.  Consider joining all columns at once using pd.concat(axis=1) instead. To get a de-fragmented frame, use `newframe = frame.copy()`\n",
      "  data1['v_'+str(i)] = [j[i] for j in embeddings]\n",
      "/var/folders/4z/bnyz3w2s6lg97h_fm4lt5ksr0000gn/T/ipykernel_1280/165316287.py:6: PerformanceWarning: DataFrame is highly fragmented.  This is usually the result of calling `frame.insert` many times, which has poor performance.  Consider joining all columns at once using pd.concat(axis=1) instead. To get a de-fragmented frame, use `newframe = frame.copy()`\n",
      "  data1['v_'+str(i)] = [j[i] for j in embeddings]\n",
      "/var/folders/4z/bnyz3w2s6lg97h_fm4lt5ksr0000gn/T/ipykernel_1280/165316287.py:6: PerformanceWarning: DataFrame is highly fragmented.  This is usually the result of calling `frame.insert` many times, which has poor performance.  Consider joining all columns at once using pd.concat(axis=1) instead. To get a de-fragmented frame, use `newframe = frame.copy()`\n",
      "  data1['v_'+str(i)] = [j[i] for j in embeddings]\n",
      "/var/folders/4z/bnyz3w2s6lg97h_fm4lt5ksr0000gn/T/ipykernel_1280/165316287.py:6: PerformanceWarning: DataFrame is highly fragmented.  This is usually the result of calling `frame.insert` many times, which has poor performance.  Consider joining all columns at once using pd.concat(axis=1) instead. To get a de-fragmented frame, use `newframe = frame.copy()`\n",
      "  data1['v_'+str(i)] = [j[i] for j in embeddings]\n",
      "/var/folders/4z/bnyz3w2s6lg97h_fm4lt5ksr0000gn/T/ipykernel_1280/165316287.py:6: PerformanceWarning: DataFrame is highly fragmented.  This is usually the result of calling `frame.insert` many times, which has poor performance.  Consider joining all columns at once using pd.concat(axis=1) instead. To get a de-fragmented frame, use `newframe = frame.copy()`\n",
      "  data1['v_'+str(i)] = [j[i] for j in embeddings]\n",
      "/var/folders/4z/bnyz3w2s6lg97h_fm4lt5ksr0000gn/T/ipykernel_1280/165316287.py:6: PerformanceWarning: DataFrame is highly fragmented.  This is usually the result of calling `frame.insert` many times, which has poor performance.  Consider joining all columns at once using pd.concat(axis=1) instead. To get a de-fragmented frame, use `newframe = frame.copy()`\n",
      "  data1['v_'+str(i)] = [j[i] for j in embeddings]\n",
      "/var/folders/4z/bnyz3w2s6lg97h_fm4lt5ksr0000gn/T/ipykernel_1280/165316287.py:6: PerformanceWarning: DataFrame is highly fragmented.  This is usually the result of calling `frame.insert` many times, which has poor performance.  Consider joining all columns at once using pd.concat(axis=1) instead. To get a de-fragmented frame, use `newframe = frame.copy()`\n",
      "  data1['v_'+str(i)] = [j[i] for j in embeddings]\n",
      "/var/folders/4z/bnyz3w2s6lg97h_fm4lt5ksr0000gn/T/ipykernel_1280/165316287.py:6: PerformanceWarning: DataFrame is highly fragmented.  This is usually the result of calling `frame.insert` many times, which has poor performance.  Consider joining all columns at once using pd.concat(axis=1) instead. To get a de-fragmented frame, use `newframe = frame.copy()`\n",
      "  data1['v_'+str(i)] = [j[i] for j in embeddings]\n",
      "/var/folders/4z/bnyz3w2s6lg97h_fm4lt5ksr0000gn/T/ipykernel_1280/165316287.py:6: PerformanceWarning: DataFrame is highly fragmented.  This is usually the result of calling `frame.insert` many times, which has poor performance.  Consider joining all columns at once using pd.concat(axis=1) instead. To get a de-fragmented frame, use `newframe = frame.copy()`\n",
      "  data1['v_'+str(i)] = [j[i] for j in embeddings]\n",
      "/var/folders/4z/bnyz3w2s6lg97h_fm4lt5ksr0000gn/T/ipykernel_1280/165316287.py:6: PerformanceWarning: DataFrame is highly fragmented.  This is usually the result of calling `frame.insert` many times, which has poor performance.  Consider joining all columns at once using pd.concat(axis=1) instead. To get a de-fragmented frame, use `newframe = frame.copy()`\n",
      "  data1['v_'+str(i)] = [j[i] for j in embeddings]\n",
      "/var/folders/4z/bnyz3w2s6lg97h_fm4lt5ksr0000gn/T/ipykernel_1280/165316287.py:6: PerformanceWarning: DataFrame is highly fragmented.  This is usually the result of calling `frame.insert` many times, which has poor performance.  Consider joining all columns at once using pd.concat(axis=1) instead. To get a de-fragmented frame, use `newframe = frame.copy()`\n",
      "  data1['v_'+str(i)] = [j[i] for j in embeddings]\n",
      "/var/folders/4z/bnyz3w2s6lg97h_fm4lt5ksr0000gn/T/ipykernel_1280/165316287.py:6: PerformanceWarning: DataFrame is highly fragmented.  This is usually the result of calling `frame.insert` many times, which has poor performance.  Consider joining all columns at once using pd.concat(axis=1) instead. To get a de-fragmented frame, use `newframe = frame.copy()`\n",
      "  data1['v_'+str(i)] = [j[i] for j in embeddings]\n",
      "/var/folders/4z/bnyz3w2s6lg97h_fm4lt5ksr0000gn/T/ipykernel_1280/165316287.py:6: PerformanceWarning: DataFrame is highly fragmented.  This is usually the result of calling `frame.insert` many times, which has poor performance.  Consider joining all columns at once using pd.concat(axis=1) instead. To get a de-fragmented frame, use `newframe = frame.copy()`\n",
      "  data1['v_'+str(i)] = [j[i] for j in embeddings]\n",
      "/var/folders/4z/bnyz3w2s6lg97h_fm4lt5ksr0000gn/T/ipykernel_1280/165316287.py:6: PerformanceWarning: DataFrame is highly fragmented.  This is usually the result of calling `frame.insert` many times, which has poor performance.  Consider joining all columns at once using pd.concat(axis=1) instead. To get a de-fragmented frame, use `newframe = frame.copy()`\n",
      "  data1['v_'+str(i)] = [j[i] for j in embeddings]\n",
      "/var/folders/4z/bnyz3w2s6lg97h_fm4lt5ksr0000gn/T/ipykernel_1280/165316287.py:6: PerformanceWarning: DataFrame is highly fragmented.  This is usually the result of calling `frame.insert` many times, which has poor performance.  Consider joining all columns at once using pd.concat(axis=1) instead. To get a de-fragmented frame, use `newframe = frame.copy()`\n",
      "  data1['v_'+str(i)] = [j[i] for j in embeddings]\n",
      "/var/folders/4z/bnyz3w2s6lg97h_fm4lt5ksr0000gn/T/ipykernel_1280/165316287.py:6: PerformanceWarning: DataFrame is highly fragmented.  This is usually the result of calling `frame.insert` many times, which has poor performance.  Consider joining all columns at once using pd.concat(axis=1) instead. To get a de-fragmented frame, use `newframe = frame.copy()`\n",
      "  data1['v_'+str(i)] = [j[i] for j in embeddings]\n",
      "/var/folders/4z/bnyz3w2s6lg97h_fm4lt5ksr0000gn/T/ipykernel_1280/165316287.py:6: PerformanceWarning: DataFrame is highly fragmented.  This is usually the result of calling `frame.insert` many times, which has poor performance.  Consider joining all columns at once using pd.concat(axis=1) instead. To get a de-fragmented frame, use `newframe = frame.copy()`\n",
      "  data1['v_'+str(i)] = [j[i] for j in embeddings]\n",
      "/var/folders/4z/bnyz3w2s6lg97h_fm4lt5ksr0000gn/T/ipykernel_1280/165316287.py:6: PerformanceWarning: DataFrame is highly fragmented.  This is usually the result of calling `frame.insert` many times, which has poor performance.  Consider joining all columns at once using pd.concat(axis=1) instead. To get a de-fragmented frame, use `newframe = frame.copy()`\n",
      "  data1['v_'+str(i)] = [j[i] for j in embeddings]\n",
      "/var/folders/4z/bnyz3w2s6lg97h_fm4lt5ksr0000gn/T/ipykernel_1280/165316287.py:6: PerformanceWarning: DataFrame is highly fragmented.  This is usually the result of calling `frame.insert` many times, which has poor performance.  Consider joining all columns at once using pd.concat(axis=1) instead. To get a de-fragmented frame, use `newframe = frame.copy()`\n",
      "  data1['v_'+str(i)] = [j[i] for j in embeddings]\n",
      "/var/folders/4z/bnyz3w2s6lg97h_fm4lt5ksr0000gn/T/ipykernel_1280/165316287.py:6: PerformanceWarning: DataFrame is highly fragmented.  This is usually the result of calling `frame.insert` many times, which has poor performance.  Consider joining all columns at once using pd.concat(axis=1) instead. To get a de-fragmented frame, use `newframe = frame.copy()`\n",
      "  data1['v_'+str(i)] = [j[i] for j in embeddings]\n",
      "/var/folders/4z/bnyz3w2s6lg97h_fm4lt5ksr0000gn/T/ipykernel_1280/165316287.py:6: PerformanceWarning: DataFrame is highly fragmented.  This is usually the result of calling `frame.insert` many times, which has poor performance.  Consider joining all columns at once using pd.concat(axis=1) instead. To get a de-fragmented frame, use `newframe = frame.copy()`\n",
      "  data1['v_'+str(i)] = [j[i] for j in embeddings]\n",
      "/var/folders/4z/bnyz3w2s6lg97h_fm4lt5ksr0000gn/T/ipykernel_1280/165316287.py:6: PerformanceWarning: DataFrame is highly fragmented.  This is usually the result of calling `frame.insert` many times, which has poor performance.  Consider joining all columns at once using pd.concat(axis=1) instead. To get a de-fragmented frame, use `newframe = frame.copy()`\n",
      "  data1['v_'+str(i)] = [j[i] for j in embeddings]\n",
      "/var/folders/4z/bnyz3w2s6lg97h_fm4lt5ksr0000gn/T/ipykernel_1280/165316287.py:6: PerformanceWarning: DataFrame is highly fragmented.  This is usually the result of calling `frame.insert` many times, which has poor performance.  Consider joining all columns at once using pd.concat(axis=1) instead. To get a de-fragmented frame, use `newframe = frame.copy()`\n",
      "  data1['v_'+str(i)] = [j[i] for j in embeddings]\n",
      "/var/folders/4z/bnyz3w2s6lg97h_fm4lt5ksr0000gn/T/ipykernel_1280/165316287.py:6: PerformanceWarning: DataFrame is highly fragmented.  This is usually the result of calling `frame.insert` many times, which has poor performance.  Consider joining all columns at once using pd.concat(axis=1) instead. To get a de-fragmented frame, use `newframe = frame.copy()`\n",
      "  data1['v_'+str(i)] = [j[i] for j in embeddings]\n",
      "/var/folders/4z/bnyz3w2s6lg97h_fm4lt5ksr0000gn/T/ipykernel_1280/165316287.py:6: PerformanceWarning: DataFrame is highly fragmented.  This is usually the result of calling `frame.insert` many times, which has poor performance.  Consider joining all columns at once using pd.concat(axis=1) instead. To get a de-fragmented frame, use `newframe = frame.copy()`\n",
      "  data1['v_'+str(i)] = [j[i] for j in embeddings]\n",
      "/var/folders/4z/bnyz3w2s6lg97h_fm4lt5ksr0000gn/T/ipykernel_1280/165316287.py:6: PerformanceWarning: DataFrame is highly fragmented.  This is usually the result of calling `frame.insert` many times, which has poor performance.  Consider joining all columns at once using pd.concat(axis=1) instead. To get a de-fragmented frame, use `newframe = frame.copy()`\n",
      "  data1['v_'+str(i)] = [j[i] for j in embeddings]\n",
      "/var/folders/4z/bnyz3w2s6lg97h_fm4lt5ksr0000gn/T/ipykernel_1280/165316287.py:6: PerformanceWarning: DataFrame is highly fragmented.  This is usually the result of calling `frame.insert` many times, which has poor performance.  Consider joining all columns at once using pd.concat(axis=1) instead. To get a de-fragmented frame, use `newframe = frame.copy()`\n",
      "  data1['v_'+str(i)] = [j[i] for j in embeddings]\n",
      "/var/folders/4z/bnyz3w2s6lg97h_fm4lt5ksr0000gn/T/ipykernel_1280/165316287.py:6: PerformanceWarning: DataFrame is highly fragmented.  This is usually the result of calling `frame.insert` many times, which has poor performance.  Consider joining all columns at once using pd.concat(axis=1) instead. To get a de-fragmented frame, use `newframe = frame.copy()`\n",
      "  data1['v_'+str(i)] = [j[i] for j in embeddings]\n",
      "/var/folders/4z/bnyz3w2s6lg97h_fm4lt5ksr0000gn/T/ipykernel_1280/165316287.py:6: PerformanceWarning: DataFrame is highly fragmented.  This is usually the result of calling `frame.insert` many times, which has poor performance.  Consider joining all columns at once using pd.concat(axis=1) instead. To get a de-fragmented frame, use `newframe = frame.copy()`\n",
      "  data1['v_'+str(i)] = [j[i] for j in embeddings]\n",
      "/var/folders/4z/bnyz3w2s6lg97h_fm4lt5ksr0000gn/T/ipykernel_1280/165316287.py:6: PerformanceWarning: DataFrame is highly fragmented.  This is usually the result of calling `frame.insert` many times, which has poor performance.  Consider joining all columns at once using pd.concat(axis=1) instead. To get a de-fragmented frame, use `newframe = frame.copy()`\n",
      "  data1['v_'+str(i)] = [j[i] for j in embeddings]\n",
      "/var/folders/4z/bnyz3w2s6lg97h_fm4lt5ksr0000gn/T/ipykernel_1280/165316287.py:6: PerformanceWarning: DataFrame is highly fragmented.  This is usually the result of calling `frame.insert` many times, which has poor performance.  Consider joining all columns at once using pd.concat(axis=1) instead. To get a de-fragmented frame, use `newframe = frame.copy()`\n",
      "  data1['v_'+str(i)] = [j[i] for j in embeddings]\n",
      "/var/folders/4z/bnyz3w2s6lg97h_fm4lt5ksr0000gn/T/ipykernel_1280/165316287.py:6: PerformanceWarning: DataFrame is highly fragmented.  This is usually the result of calling `frame.insert` many times, which has poor performance.  Consider joining all columns at once using pd.concat(axis=1) instead. To get a de-fragmented frame, use `newframe = frame.copy()`\n",
      "  data1['v_'+str(i)] = [j[i] for j in embeddings]\n",
      "/var/folders/4z/bnyz3w2s6lg97h_fm4lt5ksr0000gn/T/ipykernel_1280/165316287.py:6: PerformanceWarning: DataFrame is highly fragmented.  This is usually the result of calling `frame.insert` many times, which has poor performance.  Consider joining all columns at once using pd.concat(axis=1) instead. To get a de-fragmented frame, use `newframe = frame.copy()`\n",
      "  data1['v_'+str(i)] = [j[i] for j in embeddings]\n",
      "/var/folders/4z/bnyz3w2s6lg97h_fm4lt5ksr0000gn/T/ipykernel_1280/165316287.py:6: PerformanceWarning: DataFrame is highly fragmented.  This is usually the result of calling `frame.insert` many times, which has poor performance.  Consider joining all columns at once using pd.concat(axis=1) instead. To get a de-fragmented frame, use `newframe = frame.copy()`\n",
      "  data1['v_'+str(i)] = [j[i] for j in embeddings]\n",
      "/var/folders/4z/bnyz3w2s6lg97h_fm4lt5ksr0000gn/T/ipykernel_1280/165316287.py:6: PerformanceWarning: DataFrame is highly fragmented.  This is usually the result of calling `frame.insert` many times, which has poor performance.  Consider joining all columns at once using pd.concat(axis=1) instead. To get a de-fragmented frame, use `newframe = frame.copy()`\n",
      "  data1['v_'+str(i)] = [j[i] for j in embeddings]\n",
      "/var/folders/4z/bnyz3w2s6lg97h_fm4lt5ksr0000gn/T/ipykernel_1280/165316287.py:6: PerformanceWarning: DataFrame is highly fragmented.  This is usually the result of calling `frame.insert` many times, which has poor performance.  Consider joining all columns at once using pd.concat(axis=1) instead. To get a de-fragmented frame, use `newframe = frame.copy()`\n",
      "  data1['v_'+str(i)] = [j[i] for j in embeddings]\n",
      "/var/folders/4z/bnyz3w2s6lg97h_fm4lt5ksr0000gn/T/ipykernel_1280/165316287.py:6: PerformanceWarning: DataFrame is highly fragmented.  This is usually the result of calling `frame.insert` many times, which has poor performance.  Consider joining all columns at once using pd.concat(axis=1) instead. To get a de-fragmented frame, use `newframe = frame.copy()`\n",
      "  data1['v_'+str(i)] = [j[i] for j in embeddings]\n",
      "/var/folders/4z/bnyz3w2s6lg97h_fm4lt5ksr0000gn/T/ipykernel_1280/165316287.py:6: PerformanceWarning: DataFrame is highly fragmented.  This is usually the result of calling `frame.insert` many times, which has poor performance.  Consider joining all columns at once using pd.concat(axis=1) instead. To get a de-fragmented frame, use `newframe = frame.copy()`\n",
      "  data1['v_'+str(i)] = [j[i] for j in embeddings]\n",
      "/var/folders/4z/bnyz3w2s6lg97h_fm4lt5ksr0000gn/T/ipykernel_1280/165316287.py:6: PerformanceWarning: DataFrame is highly fragmented.  This is usually the result of calling `frame.insert` many times, which has poor performance.  Consider joining all columns at once using pd.concat(axis=1) instead. To get a de-fragmented frame, use `newframe = frame.copy()`\n",
      "  data1['v_'+str(i)] = [j[i] for j in embeddings]\n",
      "/var/folders/4z/bnyz3w2s6lg97h_fm4lt5ksr0000gn/T/ipykernel_1280/165316287.py:6: PerformanceWarning: DataFrame is highly fragmented.  This is usually the result of calling `frame.insert` many times, which has poor performance.  Consider joining all columns at once using pd.concat(axis=1) instead. To get a de-fragmented frame, use `newframe = frame.copy()`\n",
      "  data1['v_'+str(i)] = [j[i] for j in embeddings]\n",
      "/var/folders/4z/bnyz3w2s6lg97h_fm4lt5ksr0000gn/T/ipykernel_1280/165316287.py:6: PerformanceWarning: DataFrame is highly fragmented.  This is usually the result of calling `frame.insert` many times, which has poor performance.  Consider joining all columns at once using pd.concat(axis=1) instead. To get a de-fragmented frame, use `newframe = frame.copy()`\n",
      "  data1['v_'+str(i)] = [j[i] for j in embeddings]\n",
      "/var/folders/4z/bnyz3w2s6lg97h_fm4lt5ksr0000gn/T/ipykernel_1280/165316287.py:6: PerformanceWarning: DataFrame is highly fragmented.  This is usually the result of calling `frame.insert` many times, which has poor performance.  Consider joining all columns at once using pd.concat(axis=1) instead. To get a de-fragmented frame, use `newframe = frame.copy()`\n",
      "  data1['v_'+str(i)] = [j[i] for j in embeddings]\n",
      "/var/folders/4z/bnyz3w2s6lg97h_fm4lt5ksr0000gn/T/ipykernel_1280/165316287.py:6: PerformanceWarning: DataFrame is highly fragmented.  This is usually the result of calling `frame.insert` many times, which has poor performance.  Consider joining all columns at once using pd.concat(axis=1) instead. To get a de-fragmented frame, use `newframe = frame.copy()`\n",
      "  data1['v_'+str(i)] = [j[i] for j in embeddings]\n",
      "/var/folders/4z/bnyz3w2s6lg97h_fm4lt5ksr0000gn/T/ipykernel_1280/165316287.py:6: PerformanceWarning: DataFrame is highly fragmented.  This is usually the result of calling `frame.insert` many times, which has poor performance.  Consider joining all columns at once using pd.concat(axis=1) instead. To get a de-fragmented frame, use `newframe = frame.copy()`\n",
      "  data1['v_'+str(i)] = [j[i] for j in embeddings]\n",
      "/var/folders/4z/bnyz3w2s6lg97h_fm4lt5ksr0000gn/T/ipykernel_1280/165316287.py:6: PerformanceWarning: DataFrame is highly fragmented.  This is usually the result of calling `frame.insert` many times, which has poor performance.  Consider joining all columns at once using pd.concat(axis=1) instead. To get a de-fragmented frame, use `newframe = frame.copy()`\n",
      "  data1['v_'+str(i)] = [j[i] for j in embeddings]\n",
      "/var/folders/4z/bnyz3w2s6lg97h_fm4lt5ksr0000gn/T/ipykernel_1280/165316287.py:6: PerformanceWarning: DataFrame is highly fragmented.  This is usually the result of calling `frame.insert` many times, which has poor performance.  Consider joining all columns at once using pd.concat(axis=1) instead. To get a de-fragmented frame, use `newframe = frame.copy()`\n",
      "  data1['v_'+str(i)] = [j[i] for j in embeddings]\n",
      "/var/folders/4z/bnyz3w2s6lg97h_fm4lt5ksr0000gn/T/ipykernel_1280/165316287.py:6: PerformanceWarning: DataFrame is highly fragmented.  This is usually the result of calling `frame.insert` many times, which has poor performance.  Consider joining all columns at once using pd.concat(axis=1) instead. To get a de-fragmented frame, use `newframe = frame.copy()`\n",
      "  data1['v_'+str(i)] = [j[i] for j in embeddings]\n",
      "/var/folders/4z/bnyz3w2s6lg97h_fm4lt5ksr0000gn/T/ipykernel_1280/165316287.py:6: PerformanceWarning: DataFrame is highly fragmented.  This is usually the result of calling `frame.insert` many times, which has poor performance.  Consider joining all columns at once using pd.concat(axis=1) instead. To get a de-fragmented frame, use `newframe = frame.copy()`\n",
      "  data1['v_'+str(i)] = [j[i] for j in embeddings]\n",
      "/var/folders/4z/bnyz3w2s6lg97h_fm4lt5ksr0000gn/T/ipykernel_1280/165316287.py:6: PerformanceWarning: DataFrame is highly fragmented.  This is usually the result of calling `frame.insert` many times, which has poor performance.  Consider joining all columns at once using pd.concat(axis=1) instead. To get a de-fragmented frame, use `newframe = frame.copy()`\n",
      "  data1['v_'+str(i)] = [j[i] for j in embeddings]\n",
      "/var/folders/4z/bnyz3w2s6lg97h_fm4lt5ksr0000gn/T/ipykernel_1280/165316287.py:6: PerformanceWarning: DataFrame is highly fragmented.  This is usually the result of calling `frame.insert` many times, which has poor performance.  Consider joining all columns at once using pd.concat(axis=1) instead. To get a de-fragmented frame, use `newframe = frame.copy()`\n",
      "  data1['v_'+str(i)] = [j[i] for j in embeddings]\n",
      "/var/folders/4z/bnyz3w2s6lg97h_fm4lt5ksr0000gn/T/ipykernel_1280/165316287.py:6: PerformanceWarning: DataFrame is highly fragmented.  This is usually the result of calling `frame.insert` many times, which has poor performance.  Consider joining all columns at once using pd.concat(axis=1) instead. To get a de-fragmented frame, use `newframe = frame.copy()`\n",
      "  data1['v_'+str(i)] = [j[i] for j in embeddings]\n",
      "/var/folders/4z/bnyz3w2s6lg97h_fm4lt5ksr0000gn/T/ipykernel_1280/165316287.py:6: PerformanceWarning: DataFrame is highly fragmented.  This is usually the result of calling `frame.insert` many times, which has poor performance.  Consider joining all columns at once using pd.concat(axis=1) instead. To get a de-fragmented frame, use `newframe = frame.copy()`\n",
      "  data1['v_'+str(i)] = [j[i] for j in embeddings]\n",
      "/var/folders/4z/bnyz3w2s6lg97h_fm4lt5ksr0000gn/T/ipykernel_1280/165316287.py:6: PerformanceWarning: DataFrame is highly fragmented.  This is usually the result of calling `frame.insert` many times, which has poor performance.  Consider joining all columns at once using pd.concat(axis=1) instead. To get a de-fragmented frame, use `newframe = frame.copy()`\n",
      "  data1['v_'+str(i)] = [j[i] for j in embeddings]\n",
      "/var/folders/4z/bnyz3w2s6lg97h_fm4lt5ksr0000gn/T/ipykernel_1280/165316287.py:6: PerformanceWarning: DataFrame is highly fragmented.  This is usually the result of calling `frame.insert` many times, which has poor performance.  Consider joining all columns at once using pd.concat(axis=1) instead. To get a de-fragmented frame, use `newframe = frame.copy()`\n",
      "  data1['v_'+str(i)] = [j[i] for j in embeddings]\n",
      "/var/folders/4z/bnyz3w2s6lg97h_fm4lt5ksr0000gn/T/ipykernel_1280/165316287.py:6: PerformanceWarning: DataFrame is highly fragmented.  This is usually the result of calling `frame.insert` many times, which has poor performance.  Consider joining all columns at once using pd.concat(axis=1) instead. To get a de-fragmented frame, use `newframe = frame.copy()`\n",
      "  data1['v_'+str(i)] = [j[i] for j in embeddings]\n",
      "/var/folders/4z/bnyz3w2s6lg97h_fm4lt5ksr0000gn/T/ipykernel_1280/165316287.py:6: PerformanceWarning: DataFrame is highly fragmented.  This is usually the result of calling `frame.insert` many times, which has poor performance.  Consider joining all columns at once using pd.concat(axis=1) instead. To get a de-fragmented frame, use `newframe = frame.copy()`\n",
      "  data1['v_'+str(i)] = [j[i] for j in embeddings]\n",
      "/var/folders/4z/bnyz3w2s6lg97h_fm4lt5ksr0000gn/T/ipykernel_1280/165316287.py:6: PerformanceWarning: DataFrame is highly fragmented.  This is usually the result of calling `frame.insert` many times, which has poor performance.  Consider joining all columns at once using pd.concat(axis=1) instead. To get a de-fragmented frame, use `newframe = frame.copy()`\n",
      "  data1['v_'+str(i)] = [j[i] for j in embeddings]\n",
      "/var/folders/4z/bnyz3w2s6lg97h_fm4lt5ksr0000gn/T/ipykernel_1280/165316287.py:6: PerformanceWarning: DataFrame is highly fragmented.  This is usually the result of calling `frame.insert` many times, which has poor performance.  Consider joining all columns at once using pd.concat(axis=1) instead. To get a de-fragmented frame, use `newframe = frame.copy()`\n",
      "  data1['v_'+str(i)] = [j[i] for j in embeddings]\n",
      "/var/folders/4z/bnyz3w2s6lg97h_fm4lt5ksr0000gn/T/ipykernel_1280/165316287.py:6: PerformanceWarning: DataFrame is highly fragmented.  This is usually the result of calling `frame.insert` many times, which has poor performance.  Consider joining all columns at once using pd.concat(axis=1) instead. To get a de-fragmented frame, use `newframe = frame.copy()`\n",
      "  data1['v_'+str(i)] = [j[i] for j in embeddings]\n",
      "/var/folders/4z/bnyz3w2s6lg97h_fm4lt5ksr0000gn/T/ipykernel_1280/165316287.py:6: PerformanceWarning: DataFrame is highly fragmented.  This is usually the result of calling `frame.insert` many times, which has poor performance.  Consider joining all columns at once using pd.concat(axis=1) instead. To get a de-fragmented frame, use `newframe = frame.copy()`\n",
      "  data1['v_'+str(i)] = [j[i] for j in embeddings]\n",
      "/var/folders/4z/bnyz3w2s6lg97h_fm4lt5ksr0000gn/T/ipykernel_1280/165316287.py:6: PerformanceWarning: DataFrame is highly fragmented.  This is usually the result of calling `frame.insert` many times, which has poor performance.  Consider joining all columns at once using pd.concat(axis=1) instead. To get a de-fragmented frame, use `newframe = frame.copy()`\n",
      "  data1['v_'+str(i)] = [j[i] for j in embeddings]\n",
      "/var/folders/4z/bnyz3w2s6lg97h_fm4lt5ksr0000gn/T/ipykernel_1280/165316287.py:6: PerformanceWarning: DataFrame is highly fragmented.  This is usually the result of calling `frame.insert` many times, which has poor performance.  Consider joining all columns at once using pd.concat(axis=1) instead. To get a de-fragmented frame, use `newframe = frame.copy()`\n",
      "  data1['v_'+str(i)] = [j[i] for j in embeddings]\n",
      "/var/folders/4z/bnyz3w2s6lg97h_fm4lt5ksr0000gn/T/ipykernel_1280/165316287.py:6: PerformanceWarning: DataFrame is highly fragmented.  This is usually the result of calling `frame.insert` many times, which has poor performance.  Consider joining all columns at once using pd.concat(axis=1) instead. To get a de-fragmented frame, use `newframe = frame.copy()`\n",
      "  data1['v_'+str(i)] = [j[i] for j in embeddings]\n",
      "/var/folders/4z/bnyz3w2s6lg97h_fm4lt5ksr0000gn/T/ipykernel_1280/165316287.py:6: PerformanceWarning: DataFrame is highly fragmented.  This is usually the result of calling `frame.insert` many times, which has poor performance.  Consider joining all columns at once using pd.concat(axis=1) instead. To get a de-fragmented frame, use `newframe = frame.copy()`\n",
      "  data1['v_'+str(i)] = [j[i] for j in embeddings]\n",
      "/var/folders/4z/bnyz3w2s6lg97h_fm4lt5ksr0000gn/T/ipykernel_1280/165316287.py:6: PerformanceWarning: DataFrame is highly fragmented.  This is usually the result of calling `frame.insert` many times, which has poor performance.  Consider joining all columns at once using pd.concat(axis=1) instead. To get a de-fragmented frame, use `newframe = frame.copy()`\n",
      "  data1['v_'+str(i)] = [j[i] for j in embeddings]\n",
      "/var/folders/4z/bnyz3w2s6lg97h_fm4lt5ksr0000gn/T/ipykernel_1280/165316287.py:6: PerformanceWarning: DataFrame is highly fragmented.  This is usually the result of calling `frame.insert` many times, which has poor performance.  Consider joining all columns at once using pd.concat(axis=1) instead. To get a de-fragmented frame, use `newframe = frame.copy()`\n",
      "  data1['v_'+str(i)] = [j[i] for j in embeddings]\n",
      "/var/folders/4z/bnyz3w2s6lg97h_fm4lt5ksr0000gn/T/ipykernel_1280/165316287.py:6: PerformanceWarning: DataFrame is highly fragmented.  This is usually the result of calling `frame.insert` many times, which has poor performance.  Consider joining all columns at once using pd.concat(axis=1) instead. To get a de-fragmented frame, use `newframe = frame.copy()`\n",
      "  data1['v_'+str(i)] = [j[i] for j in embeddings]\n",
      "/var/folders/4z/bnyz3w2s6lg97h_fm4lt5ksr0000gn/T/ipykernel_1280/165316287.py:6: PerformanceWarning: DataFrame is highly fragmented.  This is usually the result of calling `frame.insert` many times, which has poor performance.  Consider joining all columns at once using pd.concat(axis=1) instead. To get a de-fragmented frame, use `newframe = frame.copy()`\n",
      "  data1['v_'+str(i)] = [j[i] for j in embeddings]\n",
      "/var/folders/4z/bnyz3w2s6lg97h_fm4lt5ksr0000gn/T/ipykernel_1280/165316287.py:6: PerformanceWarning: DataFrame is highly fragmented.  This is usually the result of calling `frame.insert` many times, which has poor performance.  Consider joining all columns at once using pd.concat(axis=1) instead. To get a de-fragmented frame, use `newframe = frame.copy()`\n",
      "  data1['v_'+str(i)] = [j[i] for j in embeddings]\n",
      "/var/folders/4z/bnyz3w2s6lg97h_fm4lt5ksr0000gn/T/ipykernel_1280/165316287.py:6: PerformanceWarning: DataFrame is highly fragmented.  This is usually the result of calling `frame.insert` many times, which has poor performance.  Consider joining all columns at once using pd.concat(axis=1) instead. To get a de-fragmented frame, use `newframe = frame.copy()`\n",
      "  data1['v_'+str(i)] = [j[i] for j in embeddings]\n",
      "/var/folders/4z/bnyz3w2s6lg97h_fm4lt5ksr0000gn/T/ipykernel_1280/165316287.py:6: PerformanceWarning: DataFrame is highly fragmented.  This is usually the result of calling `frame.insert` many times, which has poor performance.  Consider joining all columns at once using pd.concat(axis=1) instead. To get a de-fragmented frame, use `newframe = frame.copy()`\n",
      "  data1['v_'+str(i)] = [j[i] for j in embeddings]\n",
      "/var/folders/4z/bnyz3w2s6lg97h_fm4lt5ksr0000gn/T/ipykernel_1280/165316287.py:6: PerformanceWarning: DataFrame is highly fragmented.  This is usually the result of calling `frame.insert` many times, which has poor performance.  Consider joining all columns at once using pd.concat(axis=1) instead. To get a de-fragmented frame, use `newframe = frame.copy()`\n",
      "  data1['v_'+str(i)] = [j[i] for j in embeddings]\n",
      "/var/folders/4z/bnyz3w2s6lg97h_fm4lt5ksr0000gn/T/ipykernel_1280/165316287.py:6: PerformanceWarning: DataFrame is highly fragmented.  This is usually the result of calling `frame.insert` many times, which has poor performance.  Consider joining all columns at once using pd.concat(axis=1) instead. To get a de-fragmented frame, use `newframe = frame.copy()`\n",
      "  data1['v_'+str(i)] = [j[i] for j in embeddings]\n",
      "/var/folders/4z/bnyz3w2s6lg97h_fm4lt5ksr0000gn/T/ipykernel_1280/165316287.py:6: PerformanceWarning: DataFrame is highly fragmented.  This is usually the result of calling `frame.insert` many times, which has poor performance.  Consider joining all columns at once using pd.concat(axis=1) instead. To get a de-fragmented frame, use `newframe = frame.copy()`\n",
      "  data1['v_'+str(i)] = [j[i] for j in embeddings]\n",
      "/var/folders/4z/bnyz3w2s6lg97h_fm4lt5ksr0000gn/T/ipykernel_1280/165316287.py:6: PerformanceWarning: DataFrame is highly fragmented.  This is usually the result of calling `frame.insert` many times, which has poor performance.  Consider joining all columns at once using pd.concat(axis=1) instead. To get a de-fragmented frame, use `newframe = frame.copy()`\n",
      "  data1['v_'+str(i)] = [j[i] for j in embeddings]\n",
      "/var/folders/4z/bnyz3w2s6lg97h_fm4lt5ksr0000gn/T/ipykernel_1280/165316287.py:6: PerformanceWarning: DataFrame is highly fragmented.  This is usually the result of calling `frame.insert` many times, which has poor performance.  Consider joining all columns at once using pd.concat(axis=1) instead. To get a de-fragmented frame, use `newframe = frame.copy()`\n",
      "  data1['v_'+str(i)] = [j[i] for j in embeddings]\n",
      "/var/folders/4z/bnyz3w2s6lg97h_fm4lt5ksr0000gn/T/ipykernel_1280/165316287.py:6: PerformanceWarning: DataFrame is highly fragmented.  This is usually the result of calling `frame.insert` many times, which has poor performance.  Consider joining all columns at once using pd.concat(axis=1) instead. To get a de-fragmented frame, use `newframe = frame.copy()`\n",
      "  data1['v_'+str(i)] = [j[i] for j in embeddings]\n",
      "/var/folders/4z/bnyz3w2s6lg97h_fm4lt5ksr0000gn/T/ipykernel_1280/165316287.py:6: PerformanceWarning: DataFrame is highly fragmented.  This is usually the result of calling `frame.insert` many times, which has poor performance.  Consider joining all columns at once using pd.concat(axis=1) instead. To get a de-fragmented frame, use `newframe = frame.copy()`\n",
      "  data1['v_'+str(i)] = [j[i] for j in embeddings]\n",
      "/var/folders/4z/bnyz3w2s6lg97h_fm4lt5ksr0000gn/T/ipykernel_1280/165316287.py:6: PerformanceWarning: DataFrame is highly fragmented.  This is usually the result of calling `frame.insert` many times, which has poor performance.  Consider joining all columns at once using pd.concat(axis=1) instead. To get a de-fragmented frame, use `newframe = frame.copy()`\n",
      "  data1['v_'+str(i)] = [j[i] for j in embeddings]\n",
      "/var/folders/4z/bnyz3w2s6lg97h_fm4lt5ksr0000gn/T/ipykernel_1280/165316287.py:6: PerformanceWarning: DataFrame is highly fragmented.  This is usually the result of calling `frame.insert` many times, which has poor performance.  Consider joining all columns at once using pd.concat(axis=1) instead. To get a de-fragmented frame, use `newframe = frame.copy()`\n",
      "  data1['v_'+str(i)] = [j[i] for j in embeddings]\n",
      "/var/folders/4z/bnyz3w2s6lg97h_fm4lt5ksr0000gn/T/ipykernel_1280/165316287.py:6: PerformanceWarning: DataFrame is highly fragmented.  This is usually the result of calling `frame.insert` many times, which has poor performance.  Consider joining all columns at once using pd.concat(axis=1) instead. To get a de-fragmented frame, use `newframe = frame.copy()`\n",
      "  data1['v_'+str(i)] = [j[i] for j in embeddings]\n",
      "/var/folders/4z/bnyz3w2s6lg97h_fm4lt5ksr0000gn/T/ipykernel_1280/165316287.py:6: PerformanceWarning: DataFrame is highly fragmented.  This is usually the result of calling `frame.insert` many times, which has poor performance.  Consider joining all columns at once using pd.concat(axis=1) instead. To get a de-fragmented frame, use `newframe = frame.copy()`\n",
      "  data1['v_'+str(i)] = [j[i] for j in embeddings]\n",
      "/var/folders/4z/bnyz3w2s6lg97h_fm4lt5ksr0000gn/T/ipykernel_1280/165316287.py:6: PerformanceWarning: DataFrame is highly fragmented.  This is usually the result of calling `frame.insert` many times, which has poor performance.  Consider joining all columns at once using pd.concat(axis=1) instead. To get a de-fragmented frame, use `newframe = frame.copy()`\n",
      "  data1['v_'+str(i)] = [j[i] for j in embeddings]\n",
      "/var/folders/4z/bnyz3w2s6lg97h_fm4lt5ksr0000gn/T/ipykernel_1280/165316287.py:6: PerformanceWarning: DataFrame is highly fragmented.  This is usually the result of calling `frame.insert` many times, which has poor performance.  Consider joining all columns at once using pd.concat(axis=1) instead. To get a de-fragmented frame, use `newframe = frame.copy()`\n",
      "  data1['v_'+str(i)] = [j[i] for j in embeddings]\n",
      "/var/folders/4z/bnyz3w2s6lg97h_fm4lt5ksr0000gn/T/ipykernel_1280/165316287.py:6: PerformanceWarning: DataFrame is highly fragmented.  This is usually the result of calling `frame.insert` many times, which has poor performance.  Consider joining all columns at once using pd.concat(axis=1) instead. To get a de-fragmented frame, use `newframe = frame.copy()`\n",
      "  data1['v_'+str(i)] = [j[i] for j in embeddings]\n",
      "/var/folders/4z/bnyz3w2s6lg97h_fm4lt5ksr0000gn/T/ipykernel_1280/165316287.py:6: PerformanceWarning: DataFrame is highly fragmented.  This is usually the result of calling `frame.insert` many times, which has poor performance.  Consider joining all columns at once using pd.concat(axis=1) instead. To get a de-fragmented frame, use `newframe = frame.copy()`\n",
      "  data1['v_'+str(i)] = [j[i] for j in embeddings]\n",
      "/var/folders/4z/bnyz3w2s6lg97h_fm4lt5ksr0000gn/T/ipykernel_1280/165316287.py:6: PerformanceWarning: DataFrame is highly fragmented.  This is usually the result of calling `frame.insert` many times, which has poor performance.  Consider joining all columns at once using pd.concat(axis=1) instead. To get a de-fragmented frame, use `newframe = frame.copy()`\n",
      "  data1['v_'+str(i)] = [j[i] for j in embeddings]\n",
      "/var/folders/4z/bnyz3w2s6lg97h_fm4lt5ksr0000gn/T/ipykernel_1280/165316287.py:6: PerformanceWarning: DataFrame is highly fragmented.  This is usually the result of calling `frame.insert` many times, which has poor performance.  Consider joining all columns at once using pd.concat(axis=1) instead. To get a de-fragmented frame, use `newframe = frame.copy()`\n",
      "  data1['v_'+str(i)] = [j[i] for j in embeddings]\n",
      "/var/folders/4z/bnyz3w2s6lg97h_fm4lt5ksr0000gn/T/ipykernel_1280/165316287.py:6: PerformanceWarning: DataFrame is highly fragmented.  This is usually the result of calling `frame.insert` many times, which has poor performance.  Consider joining all columns at once using pd.concat(axis=1) instead. To get a de-fragmented frame, use `newframe = frame.copy()`\n",
      "  data1['v_'+str(i)] = [j[i] for j in embeddings]\n",
      "/var/folders/4z/bnyz3w2s6lg97h_fm4lt5ksr0000gn/T/ipykernel_1280/165316287.py:6: PerformanceWarning: DataFrame is highly fragmented.  This is usually the result of calling `frame.insert` many times, which has poor performance.  Consider joining all columns at once using pd.concat(axis=1) instead. To get a de-fragmented frame, use `newframe = frame.copy()`\n",
      "  data1['v_'+str(i)] = [j[i] for j in embeddings]\n",
      "/var/folders/4z/bnyz3w2s6lg97h_fm4lt5ksr0000gn/T/ipykernel_1280/165316287.py:6: PerformanceWarning: DataFrame is highly fragmented.  This is usually the result of calling `frame.insert` many times, which has poor performance.  Consider joining all columns at once using pd.concat(axis=1) instead. To get a de-fragmented frame, use `newframe = frame.copy()`\n",
      "  data1['v_'+str(i)] = [j[i] for j in embeddings]\n",
      "/var/folders/4z/bnyz3w2s6lg97h_fm4lt5ksr0000gn/T/ipykernel_1280/165316287.py:6: PerformanceWarning: DataFrame is highly fragmented.  This is usually the result of calling `frame.insert` many times, which has poor performance.  Consider joining all columns at once using pd.concat(axis=1) instead. To get a de-fragmented frame, use `newframe = frame.copy()`\n",
      "  data1['v_'+str(i)] = [j[i] for j in embeddings]\n",
      "/var/folders/4z/bnyz3w2s6lg97h_fm4lt5ksr0000gn/T/ipykernel_1280/165316287.py:6: PerformanceWarning: DataFrame is highly fragmented.  This is usually the result of calling `frame.insert` many times, which has poor performance.  Consider joining all columns at once using pd.concat(axis=1) instead. To get a de-fragmented frame, use `newframe = frame.copy()`\n",
      "  data1['v_'+str(i)] = [j[i] for j in embeddings]\n",
      "/var/folders/4z/bnyz3w2s6lg97h_fm4lt5ksr0000gn/T/ipykernel_1280/165316287.py:6: PerformanceWarning: DataFrame is highly fragmented.  This is usually the result of calling `frame.insert` many times, which has poor performance.  Consider joining all columns at once using pd.concat(axis=1) instead. To get a de-fragmented frame, use `newframe = frame.copy()`\n",
      "  data1['v_'+str(i)] = [j[i] for j in embeddings]\n",
      "/var/folders/4z/bnyz3w2s6lg97h_fm4lt5ksr0000gn/T/ipykernel_1280/165316287.py:6: PerformanceWarning: DataFrame is highly fragmented.  This is usually the result of calling `frame.insert` many times, which has poor performance.  Consider joining all columns at once using pd.concat(axis=1) instead. To get a de-fragmented frame, use `newframe = frame.copy()`\n",
      "  data1['v_'+str(i)] = [j[i] for j in embeddings]\n",
      "/var/folders/4z/bnyz3w2s6lg97h_fm4lt5ksr0000gn/T/ipykernel_1280/165316287.py:6: PerformanceWarning: DataFrame is highly fragmented.  This is usually the result of calling `frame.insert` many times, which has poor performance.  Consider joining all columns at once using pd.concat(axis=1) instead. To get a de-fragmented frame, use `newframe = frame.copy()`\n",
      "  data1['v_'+str(i)] = [j[i] for j in embeddings]\n",
      "/var/folders/4z/bnyz3w2s6lg97h_fm4lt5ksr0000gn/T/ipykernel_1280/165316287.py:6: PerformanceWarning: DataFrame is highly fragmented.  This is usually the result of calling `frame.insert` many times, which has poor performance.  Consider joining all columns at once using pd.concat(axis=1) instead. To get a de-fragmented frame, use `newframe = frame.copy()`\n",
      "  data1['v_'+str(i)] = [j[i] for j in embeddings]\n",
      "/var/folders/4z/bnyz3w2s6lg97h_fm4lt5ksr0000gn/T/ipykernel_1280/165316287.py:6: PerformanceWarning: DataFrame is highly fragmented.  This is usually the result of calling `frame.insert` many times, which has poor performance.  Consider joining all columns at once using pd.concat(axis=1) instead. To get a de-fragmented frame, use `newframe = frame.copy()`\n",
      "  data1['v_'+str(i)] = [j[i] for j in embeddings]\n",
      "/var/folders/4z/bnyz3w2s6lg97h_fm4lt5ksr0000gn/T/ipykernel_1280/165316287.py:6: PerformanceWarning: DataFrame is highly fragmented.  This is usually the result of calling `frame.insert` many times, which has poor performance.  Consider joining all columns at once using pd.concat(axis=1) instead. To get a de-fragmented frame, use `newframe = frame.copy()`\n",
      "  data1['v_'+str(i)] = [j[i] for j in embeddings]\n",
      "/var/folders/4z/bnyz3w2s6lg97h_fm4lt5ksr0000gn/T/ipykernel_1280/165316287.py:6: PerformanceWarning: DataFrame is highly fragmented.  This is usually the result of calling `frame.insert` many times, which has poor performance.  Consider joining all columns at once using pd.concat(axis=1) instead. To get a de-fragmented frame, use `newframe = frame.copy()`\n",
      "  data1['v_'+str(i)] = [j[i] for j in embeddings]\n",
      "/var/folders/4z/bnyz3w2s6lg97h_fm4lt5ksr0000gn/T/ipykernel_1280/165316287.py:6: PerformanceWarning: DataFrame is highly fragmented.  This is usually the result of calling `frame.insert` many times, which has poor performance.  Consider joining all columns at once using pd.concat(axis=1) instead. To get a de-fragmented frame, use `newframe = frame.copy()`\n",
      "  data1['v_'+str(i)] = [j[i] for j in embeddings]\n",
      "/var/folders/4z/bnyz3w2s6lg97h_fm4lt5ksr0000gn/T/ipykernel_1280/165316287.py:6: PerformanceWarning: DataFrame is highly fragmented.  This is usually the result of calling `frame.insert` many times, which has poor performance.  Consider joining all columns at once using pd.concat(axis=1) instead. To get a de-fragmented frame, use `newframe = frame.copy()`\n",
      "  data1['v_'+str(i)] = [j[i] for j in embeddings]\n",
      "/var/folders/4z/bnyz3w2s6lg97h_fm4lt5ksr0000gn/T/ipykernel_1280/165316287.py:6: PerformanceWarning: DataFrame is highly fragmented.  This is usually the result of calling `frame.insert` many times, which has poor performance.  Consider joining all columns at once using pd.concat(axis=1) instead. To get a de-fragmented frame, use `newframe = frame.copy()`\n",
      "  data1['v_'+str(i)] = [j[i] for j in embeddings]\n",
      "/var/folders/4z/bnyz3w2s6lg97h_fm4lt5ksr0000gn/T/ipykernel_1280/165316287.py:6: PerformanceWarning: DataFrame is highly fragmented.  This is usually the result of calling `frame.insert` many times, which has poor performance.  Consider joining all columns at once using pd.concat(axis=1) instead. To get a de-fragmented frame, use `newframe = frame.copy()`\n",
      "  data1['v_'+str(i)] = [j[i] for j in embeddings]\n",
      "/var/folders/4z/bnyz3w2s6lg97h_fm4lt5ksr0000gn/T/ipykernel_1280/165316287.py:6: PerformanceWarning: DataFrame is highly fragmented.  This is usually the result of calling `frame.insert` many times, which has poor performance.  Consider joining all columns at once using pd.concat(axis=1) instead. To get a de-fragmented frame, use `newframe = frame.copy()`\n",
      "  data1['v_'+str(i)] = [j[i] for j in embeddings]\n",
      "/var/folders/4z/bnyz3w2s6lg97h_fm4lt5ksr0000gn/T/ipykernel_1280/165316287.py:6: PerformanceWarning: DataFrame is highly fragmented.  This is usually the result of calling `frame.insert` many times, which has poor performance.  Consider joining all columns at once using pd.concat(axis=1) instead. To get a de-fragmented frame, use `newframe = frame.copy()`\n",
      "  data1['v_'+str(i)] = [j[i] for j in embeddings]\n",
      "/var/folders/4z/bnyz3w2s6lg97h_fm4lt5ksr0000gn/T/ipykernel_1280/165316287.py:6: PerformanceWarning: DataFrame is highly fragmented.  This is usually the result of calling `frame.insert` many times, which has poor performance.  Consider joining all columns at once using pd.concat(axis=1) instead. To get a de-fragmented frame, use `newframe = frame.copy()`\n",
      "  data1['v_'+str(i)] = [j[i] for j in embeddings]\n",
      "/var/folders/4z/bnyz3w2s6lg97h_fm4lt5ksr0000gn/T/ipykernel_1280/165316287.py:6: PerformanceWarning: DataFrame is highly fragmented.  This is usually the result of calling `frame.insert` many times, which has poor performance.  Consider joining all columns at once using pd.concat(axis=1) instead. To get a de-fragmented frame, use `newframe = frame.copy()`\n",
      "  data1['v_'+str(i)] = [j[i] for j in embeddings]\n",
      "/var/folders/4z/bnyz3w2s6lg97h_fm4lt5ksr0000gn/T/ipykernel_1280/165316287.py:6: PerformanceWarning: DataFrame is highly fragmented.  This is usually the result of calling `frame.insert` many times, which has poor performance.  Consider joining all columns at once using pd.concat(axis=1) instead. To get a de-fragmented frame, use `newframe = frame.copy()`\n",
      "  data1['v_'+str(i)] = [j[i] for j in embeddings]\n",
      "/var/folders/4z/bnyz3w2s6lg97h_fm4lt5ksr0000gn/T/ipykernel_1280/165316287.py:6: PerformanceWarning: DataFrame is highly fragmented.  This is usually the result of calling `frame.insert` many times, which has poor performance.  Consider joining all columns at once using pd.concat(axis=1) instead. To get a de-fragmented frame, use `newframe = frame.copy()`\n",
      "  data1['v_'+str(i)] = [j[i] for j in embeddings]\n",
      "/var/folders/4z/bnyz3w2s6lg97h_fm4lt5ksr0000gn/T/ipykernel_1280/165316287.py:6: PerformanceWarning: DataFrame is highly fragmented.  This is usually the result of calling `frame.insert` many times, which has poor performance.  Consider joining all columns at once using pd.concat(axis=1) instead. To get a de-fragmented frame, use `newframe = frame.copy()`\n",
      "  data1['v_'+str(i)] = [j[i] for j in embeddings]\n",
      "/var/folders/4z/bnyz3w2s6lg97h_fm4lt5ksr0000gn/T/ipykernel_1280/165316287.py:6: PerformanceWarning: DataFrame is highly fragmented.  This is usually the result of calling `frame.insert` many times, which has poor performance.  Consider joining all columns at once using pd.concat(axis=1) instead. To get a de-fragmented frame, use `newframe = frame.copy()`\n",
      "  data1['v_'+str(i)] = [j[i] for j in embeddings]\n",
      "/var/folders/4z/bnyz3w2s6lg97h_fm4lt5ksr0000gn/T/ipykernel_1280/165316287.py:6: PerformanceWarning: DataFrame is highly fragmented.  This is usually the result of calling `frame.insert` many times, which has poor performance.  Consider joining all columns at once using pd.concat(axis=1) instead. To get a de-fragmented frame, use `newframe = frame.copy()`\n",
      "  data1['v_'+str(i)] = [j[i] for j in embeddings]\n",
      "/var/folders/4z/bnyz3w2s6lg97h_fm4lt5ksr0000gn/T/ipykernel_1280/165316287.py:6: PerformanceWarning: DataFrame is highly fragmented.  This is usually the result of calling `frame.insert` many times, which has poor performance.  Consider joining all columns at once using pd.concat(axis=1) instead. To get a de-fragmented frame, use `newframe = frame.copy()`\n",
      "  data1['v_'+str(i)] = [j[i] for j in embeddings]\n",
      "/var/folders/4z/bnyz3w2s6lg97h_fm4lt5ksr0000gn/T/ipykernel_1280/165316287.py:6: PerformanceWarning: DataFrame is highly fragmented.  This is usually the result of calling `frame.insert` many times, which has poor performance.  Consider joining all columns at once using pd.concat(axis=1) instead. To get a de-fragmented frame, use `newframe = frame.copy()`\n",
      "  data1['v_'+str(i)] = [j[i] for j in embeddings]\n",
      "/var/folders/4z/bnyz3w2s6lg97h_fm4lt5ksr0000gn/T/ipykernel_1280/165316287.py:6: PerformanceWarning: DataFrame is highly fragmented.  This is usually the result of calling `frame.insert` many times, which has poor performance.  Consider joining all columns at once using pd.concat(axis=1) instead. To get a de-fragmented frame, use `newframe = frame.copy()`\n",
      "  data1['v_'+str(i)] = [j[i] for j in embeddings]\n",
      "/var/folders/4z/bnyz3w2s6lg97h_fm4lt5ksr0000gn/T/ipykernel_1280/165316287.py:6: PerformanceWarning: DataFrame is highly fragmented.  This is usually the result of calling `frame.insert` many times, which has poor performance.  Consider joining all columns at once using pd.concat(axis=1) instead. To get a de-fragmented frame, use `newframe = frame.copy()`\n",
      "  data1['v_'+str(i)] = [j[i] for j in embeddings]\n",
      "/var/folders/4z/bnyz3w2s6lg97h_fm4lt5ksr0000gn/T/ipykernel_1280/165316287.py:6: PerformanceWarning: DataFrame is highly fragmented.  This is usually the result of calling `frame.insert` many times, which has poor performance.  Consider joining all columns at once using pd.concat(axis=1) instead. To get a de-fragmented frame, use `newframe = frame.copy()`\n",
      "  data1['v_'+str(i)] = [j[i] for j in embeddings]\n",
      "/var/folders/4z/bnyz3w2s6lg97h_fm4lt5ksr0000gn/T/ipykernel_1280/165316287.py:6: PerformanceWarning: DataFrame is highly fragmented.  This is usually the result of calling `frame.insert` many times, which has poor performance.  Consider joining all columns at once using pd.concat(axis=1) instead. To get a de-fragmented frame, use `newframe = frame.copy()`\n",
      "  data1['v_'+str(i)] = [j[i] for j in embeddings]\n",
      "/var/folders/4z/bnyz3w2s6lg97h_fm4lt5ksr0000gn/T/ipykernel_1280/165316287.py:6: PerformanceWarning: DataFrame is highly fragmented.  This is usually the result of calling `frame.insert` many times, which has poor performance.  Consider joining all columns at once using pd.concat(axis=1) instead. To get a de-fragmented frame, use `newframe = frame.copy()`\n",
      "  data1['v_'+str(i)] = [j[i] for j in embeddings]\n",
      "/var/folders/4z/bnyz3w2s6lg97h_fm4lt5ksr0000gn/T/ipykernel_1280/165316287.py:6: PerformanceWarning: DataFrame is highly fragmented.  This is usually the result of calling `frame.insert` many times, which has poor performance.  Consider joining all columns at once using pd.concat(axis=1) instead. To get a de-fragmented frame, use `newframe = frame.copy()`\n",
      "  data1['v_'+str(i)] = [j[i] for j in embeddings]\n",
      "/var/folders/4z/bnyz3w2s6lg97h_fm4lt5ksr0000gn/T/ipykernel_1280/165316287.py:6: PerformanceWarning: DataFrame is highly fragmented.  This is usually the result of calling `frame.insert` many times, which has poor performance.  Consider joining all columns at once using pd.concat(axis=1) instead. To get a de-fragmented frame, use `newframe = frame.copy()`\n",
      "  data1['v_'+str(i)] = [j[i] for j in embeddings]\n",
      "/var/folders/4z/bnyz3w2s6lg97h_fm4lt5ksr0000gn/T/ipykernel_1280/165316287.py:6: PerformanceWarning: DataFrame is highly fragmented.  This is usually the result of calling `frame.insert` many times, which has poor performance.  Consider joining all columns at once using pd.concat(axis=1) instead. To get a de-fragmented frame, use `newframe = frame.copy()`\n",
      "  data1['v_'+str(i)] = [j[i] for j in embeddings]\n",
      "/var/folders/4z/bnyz3w2s6lg97h_fm4lt5ksr0000gn/T/ipykernel_1280/165316287.py:6: PerformanceWarning: DataFrame is highly fragmented.  This is usually the result of calling `frame.insert` many times, which has poor performance.  Consider joining all columns at once using pd.concat(axis=1) instead. To get a de-fragmented frame, use `newframe = frame.copy()`\n",
      "  data1['v_'+str(i)] = [j[i] for j in embeddings]\n",
      "/var/folders/4z/bnyz3w2s6lg97h_fm4lt5ksr0000gn/T/ipykernel_1280/165316287.py:6: PerformanceWarning: DataFrame is highly fragmented.  This is usually the result of calling `frame.insert` many times, which has poor performance.  Consider joining all columns at once using pd.concat(axis=1) instead. To get a de-fragmented frame, use `newframe = frame.copy()`\n",
      "  data1['v_'+str(i)] = [j[i] for j in embeddings]\n",
      "/var/folders/4z/bnyz3w2s6lg97h_fm4lt5ksr0000gn/T/ipykernel_1280/165316287.py:6: PerformanceWarning: DataFrame is highly fragmented.  This is usually the result of calling `frame.insert` many times, which has poor performance.  Consider joining all columns at once using pd.concat(axis=1) instead. To get a de-fragmented frame, use `newframe = frame.copy()`\n",
      "  data1['v_'+str(i)] = [j[i] for j in embeddings]\n",
      "/var/folders/4z/bnyz3w2s6lg97h_fm4lt5ksr0000gn/T/ipykernel_1280/165316287.py:6: PerformanceWarning: DataFrame is highly fragmented.  This is usually the result of calling `frame.insert` many times, which has poor performance.  Consider joining all columns at once using pd.concat(axis=1) instead. To get a de-fragmented frame, use `newframe = frame.copy()`\n",
      "  data1['v_'+str(i)] = [j[i] for j in embeddings]\n",
      "/var/folders/4z/bnyz3w2s6lg97h_fm4lt5ksr0000gn/T/ipykernel_1280/165316287.py:6: PerformanceWarning: DataFrame is highly fragmented.  This is usually the result of calling `frame.insert` many times, which has poor performance.  Consider joining all columns at once using pd.concat(axis=1) instead. To get a de-fragmented frame, use `newframe = frame.copy()`\n",
      "  data1['v_'+str(i)] = [j[i] for j in embeddings]\n",
      "/var/folders/4z/bnyz3w2s6lg97h_fm4lt5ksr0000gn/T/ipykernel_1280/165316287.py:6: PerformanceWarning: DataFrame is highly fragmented.  This is usually the result of calling `frame.insert` many times, which has poor performance.  Consider joining all columns at once using pd.concat(axis=1) instead. To get a de-fragmented frame, use `newframe = frame.copy()`\n",
      "  data1['v_'+str(i)] = [j[i] for j in embeddings]\n",
      "/var/folders/4z/bnyz3w2s6lg97h_fm4lt5ksr0000gn/T/ipykernel_1280/165316287.py:6: PerformanceWarning: DataFrame is highly fragmented.  This is usually the result of calling `frame.insert` many times, which has poor performance.  Consider joining all columns at once using pd.concat(axis=1) instead. To get a de-fragmented frame, use `newframe = frame.copy()`\n",
      "  data1['v_'+str(i)] = [j[i] for j in embeddings]\n",
      "/var/folders/4z/bnyz3w2s6lg97h_fm4lt5ksr0000gn/T/ipykernel_1280/165316287.py:6: PerformanceWarning: DataFrame is highly fragmented.  This is usually the result of calling `frame.insert` many times, which has poor performance.  Consider joining all columns at once using pd.concat(axis=1) instead. To get a de-fragmented frame, use `newframe = frame.copy()`\n",
      "  data1['v_'+str(i)] = [j[i] for j in embeddings]\n",
      "/var/folders/4z/bnyz3w2s6lg97h_fm4lt5ksr0000gn/T/ipykernel_1280/165316287.py:6: PerformanceWarning: DataFrame is highly fragmented.  This is usually the result of calling `frame.insert` many times, which has poor performance.  Consider joining all columns at once using pd.concat(axis=1) instead. To get a de-fragmented frame, use `newframe = frame.copy()`\n",
      "  data1['v_'+str(i)] = [j[i] for j in embeddings]\n",
      "/var/folders/4z/bnyz3w2s6lg97h_fm4lt5ksr0000gn/T/ipykernel_1280/165316287.py:6: PerformanceWarning: DataFrame is highly fragmented.  This is usually the result of calling `frame.insert` many times, which has poor performance.  Consider joining all columns at once using pd.concat(axis=1) instead. To get a de-fragmented frame, use `newframe = frame.copy()`\n",
      "  data1['v_'+str(i)] = [j[i] for j in embeddings]\n",
      "/var/folders/4z/bnyz3w2s6lg97h_fm4lt5ksr0000gn/T/ipykernel_1280/165316287.py:6: PerformanceWarning: DataFrame is highly fragmented.  This is usually the result of calling `frame.insert` many times, which has poor performance.  Consider joining all columns at once using pd.concat(axis=1) instead. To get a de-fragmented frame, use `newframe = frame.copy()`\n",
      "  data1['v_'+str(i)] = [j[i] for j in embeddings]\n",
      "/var/folders/4z/bnyz3w2s6lg97h_fm4lt5ksr0000gn/T/ipykernel_1280/165316287.py:6: PerformanceWarning: DataFrame is highly fragmented.  This is usually the result of calling `frame.insert` many times, which has poor performance.  Consider joining all columns at once using pd.concat(axis=1) instead. To get a de-fragmented frame, use `newframe = frame.copy()`\n",
      "  data1['v_'+str(i)] = [j[i] for j in embeddings]\n",
      "/var/folders/4z/bnyz3w2s6lg97h_fm4lt5ksr0000gn/T/ipykernel_1280/165316287.py:6: PerformanceWarning: DataFrame is highly fragmented.  This is usually the result of calling `frame.insert` many times, which has poor performance.  Consider joining all columns at once using pd.concat(axis=1) instead. To get a de-fragmented frame, use `newframe = frame.copy()`\n",
      "  data1['v_'+str(i)] = [j[i] for j in embeddings]\n",
      "/var/folders/4z/bnyz3w2s6lg97h_fm4lt5ksr0000gn/T/ipykernel_1280/165316287.py:6: PerformanceWarning: DataFrame is highly fragmented.  This is usually the result of calling `frame.insert` many times, which has poor performance.  Consider joining all columns at once using pd.concat(axis=1) instead. To get a de-fragmented frame, use `newframe = frame.copy()`\n",
      "  data1['v_'+str(i)] = [j[i] for j in embeddings]\n",
      "/var/folders/4z/bnyz3w2s6lg97h_fm4lt5ksr0000gn/T/ipykernel_1280/165316287.py:6: PerformanceWarning: DataFrame is highly fragmented.  This is usually the result of calling `frame.insert` many times, which has poor performance.  Consider joining all columns at once using pd.concat(axis=1) instead. To get a de-fragmented frame, use `newframe = frame.copy()`\n",
      "  data1['v_'+str(i)] = [j[i] for j in embeddings]\n",
      "/var/folders/4z/bnyz3w2s6lg97h_fm4lt5ksr0000gn/T/ipykernel_1280/165316287.py:6: PerformanceWarning: DataFrame is highly fragmented.  This is usually the result of calling `frame.insert` many times, which has poor performance.  Consider joining all columns at once using pd.concat(axis=1) instead. To get a de-fragmented frame, use `newframe = frame.copy()`\n",
      "  data1['v_'+str(i)] = [j[i] for j in embeddings]\n",
      "/var/folders/4z/bnyz3w2s6lg97h_fm4lt5ksr0000gn/T/ipykernel_1280/165316287.py:6: PerformanceWarning: DataFrame is highly fragmented.  This is usually the result of calling `frame.insert` many times, which has poor performance.  Consider joining all columns at once using pd.concat(axis=1) instead. To get a de-fragmented frame, use `newframe = frame.copy()`\n",
      "  data1['v_'+str(i)] = [j[i] for j in embeddings]\n",
      "/var/folders/4z/bnyz3w2s6lg97h_fm4lt5ksr0000gn/T/ipykernel_1280/165316287.py:6: PerformanceWarning: DataFrame is highly fragmented.  This is usually the result of calling `frame.insert` many times, which has poor performance.  Consider joining all columns at once using pd.concat(axis=1) instead. To get a de-fragmented frame, use `newframe = frame.copy()`\n",
      "  data1['v_'+str(i)] = [j[i] for j in embeddings]\n",
      "/var/folders/4z/bnyz3w2s6lg97h_fm4lt5ksr0000gn/T/ipykernel_1280/165316287.py:6: PerformanceWarning: DataFrame is highly fragmented.  This is usually the result of calling `frame.insert` many times, which has poor performance.  Consider joining all columns at once using pd.concat(axis=1) instead. To get a de-fragmented frame, use `newframe = frame.copy()`\n",
      "  data1['v_'+str(i)] = [j[i] for j in embeddings]\n",
      "/var/folders/4z/bnyz3w2s6lg97h_fm4lt5ksr0000gn/T/ipykernel_1280/165316287.py:6: PerformanceWarning: DataFrame is highly fragmented.  This is usually the result of calling `frame.insert` many times, which has poor performance.  Consider joining all columns at once using pd.concat(axis=1) instead. To get a de-fragmented frame, use `newframe = frame.copy()`\n",
      "  data1['v_'+str(i)] = [j[i] for j in embeddings]\n",
      "/var/folders/4z/bnyz3w2s6lg97h_fm4lt5ksr0000gn/T/ipykernel_1280/165316287.py:6: PerformanceWarning: DataFrame is highly fragmented.  This is usually the result of calling `frame.insert` many times, which has poor performance.  Consider joining all columns at once using pd.concat(axis=1) instead. To get a de-fragmented frame, use `newframe = frame.copy()`\n",
      "  data1['v_'+str(i)] = [j[i] for j in embeddings]\n",
      "/var/folders/4z/bnyz3w2s6lg97h_fm4lt5ksr0000gn/T/ipykernel_1280/165316287.py:6: PerformanceWarning: DataFrame is highly fragmented.  This is usually the result of calling `frame.insert` many times, which has poor performance.  Consider joining all columns at once using pd.concat(axis=1) instead. To get a de-fragmented frame, use `newframe = frame.copy()`\n",
      "  data1['v_'+str(i)] = [j[i] for j in embeddings]\n",
      "/var/folders/4z/bnyz3w2s6lg97h_fm4lt5ksr0000gn/T/ipykernel_1280/165316287.py:6: PerformanceWarning: DataFrame is highly fragmented.  This is usually the result of calling `frame.insert` many times, which has poor performance.  Consider joining all columns at once using pd.concat(axis=1) instead. To get a de-fragmented frame, use `newframe = frame.copy()`\n",
      "  data1['v_'+str(i)] = [j[i] for j in embeddings]\n",
      "/var/folders/4z/bnyz3w2s6lg97h_fm4lt5ksr0000gn/T/ipykernel_1280/165316287.py:6: PerformanceWarning: DataFrame is highly fragmented.  This is usually the result of calling `frame.insert` many times, which has poor performance.  Consider joining all columns at once using pd.concat(axis=1) instead. To get a de-fragmented frame, use `newframe = frame.copy()`\n",
      "  data1['v_'+str(i)] = [j[i] for j in embeddings]\n",
      "/var/folders/4z/bnyz3w2s6lg97h_fm4lt5ksr0000gn/T/ipykernel_1280/165316287.py:6: PerformanceWarning: DataFrame is highly fragmented.  This is usually the result of calling `frame.insert` many times, which has poor performance.  Consider joining all columns at once using pd.concat(axis=1) instead. To get a de-fragmented frame, use `newframe = frame.copy()`\n",
      "  data1['v_'+str(i)] = [j[i] for j in embeddings]\n",
      "/var/folders/4z/bnyz3w2s6lg97h_fm4lt5ksr0000gn/T/ipykernel_1280/165316287.py:6: PerformanceWarning: DataFrame is highly fragmented.  This is usually the result of calling `frame.insert` many times, which has poor performance.  Consider joining all columns at once using pd.concat(axis=1) instead. To get a de-fragmented frame, use `newframe = frame.copy()`\n",
      "  data1['v_'+str(i)] = [j[i] for j in embeddings]\n",
      "/var/folders/4z/bnyz3w2s6lg97h_fm4lt5ksr0000gn/T/ipykernel_1280/165316287.py:6: PerformanceWarning: DataFrame is highly fragmented.  This is usually the result of calling `frame.insert` many times, which has poor performance.  Consider joining all columns at once using pd.concat(axis=1) instead. To get a de-fragmented frame, use `newframe = frame.copy()`\n",
      "  data1['v_'+str(i)] = [j[i] for j in embeddings]\n",
      "/var/folders/4z/bnyz3w2s6lg97h_fm4lt5ksr0000gn/T/ipykernel_1280/165316287.py:6: PerformanceWarning: DataFrame is highly fragmented.  This is usually the result of calling `frame.insert` many times, which has poor performance.  Consider joining all columns at once using pd.concat(axis=1) instead. To get a de-fragmented frame, use `newframe = frame.copy()`\n",
      "  data1['v_'+str(i)] = [j[i] for j in embeddings]\n",
      "/var/folders/4z/bnyz3w2s6lg97h_fm4lt5ksr0000gn/T/ipykernel_1280/165316287.py:6: PerformanceWarning: DataFrame is highly fragmented.  This is usually the result of calling `frame.insert` many times, which has poor performance.  Consider joining all columns at once using pd.concat(axis=1) instead. To get a de-fragmented frame, use `newframe = frame.copy()`\n",
      "  data1['v_'+str(i)] = [j[i] for j in embeddings]\n",
      "/var/folders/4z/bnyz3w2s6lg97h_fm4lt5ksr0000gn/T/ipykernel_1280/165316287.py:6: PerformanceWarning: DataFrame is highly fragmented.  This is usually the result of calling `frame.insert` many times, which has poor performance.  Consider joining all columns at once using pd.concat(axis=1) instead. To get a de-fragmented frame, use `newframe = frame.copy()`\n",
      "  data1['v_'+str(i)] = [j[i] for j in embeddings]\n",
      "/var/folders/4z/bnyz3w2s6lg97h_fm4lt5ksr0000gn/T/ipykernel_1280/165316287.py:6: PerformanceWarning: DataFrame is highly fragmented.  This is usually the result of calling `frame.insert` many times, which has poor performance.  Consider joining all columns at once using pd.concat(axis=1) instead. To get a de-fragmented frame, use `newframe = frame.copy()`\n",
      "  data1['v_'+str(i)] = [j[i] for j in embeddings]\n",
      "/var/folders/4z/bnyz3w2s6lg97h_fm4lt5ksr0000gn/T/ipykernel_1280/165316287.py:6: PerformanceWarning: DataFrame is highly fragmented.  This is usually the result of calling `frame.insert` many times, which has poor performance.  Consider joining all columns at once using pd.concat(axis=1) instead. To get a de-fragmented frame, use `newframe = frame.copy()`\n",
      "  data1['v_'+str(i)] = [j[i] for j in embeddings]\n",
      "/var/folders/4z/bnyz3w2s6lg97h_fm4lt5ksr0000gn/T/ipykernel_1280/165316287.py:6: PerformanceWarning: DataFrame is highly fragmented.  This is usually the result of calling `frame.insert` many times, which has poor performance.  Consider joining all columns at once using pd.concat(axis=1) instead. To get a de-fragmented frame, use `newframe = frame.copy()`\n",
      "  data1['v_'+str(i)] = [j[i] for j in embeddings]\n",
      "/var/folders/4z/bnyz3w2s6lg97h_fm4lt5ksr0000gn/T/ipykernel_1280/165316287.py:6: PerformanceWarning: DataFrame is highly fragmented.  This is usually the result of calling `frame.insert` many times, which has poor performance.  Consider joining all columns at once using pd.concat(axis=1) instead. To get a de-fragmented frame, use `newframe = frame.copy()`\n",
      "  data1['v_'+str(i)] = [j[i] for j in embeddings]\n",
      "/var/folders/4z/bnyz3w2s6lg97h_fm4lt5ksr0000gn/T/ipykernel_1280/165316287.py:6: PerformanceWarning: DataFrame is highly fragmented.  This is usually the result of calling `frame.insert` many times, which has poor performance.  Consider joining all columns at once using pd.concat(axis=1) instead. To get a de-fragmented frame, use `newframe = frame.copy()`\n",
      "  data1['v_'+str(i)] = [j[i] for j in embeddings]\n",
      "/var/folders/4z/bnyz3w2s6lg97h_fm4lt5ksr0000gn/T/ipykernel_1280/165316287.py:6: PerformanceWarning: DataFrame is highly fragmented.  This is usually the result of calling `frame.insert` many times, which has poor performance.  Consider joining all columns at once using pd.concat(axis=1) instead. To get a de-fragmented frame, use `newframe = frame.copy()`\n",
      "  data1['v_'+str(i)] = [j[i] for j in embeddings]\n",
      "/var/folders/4z/bnyz3w2s6lg97h_fm4lt5ksr0000gn/T/ipykernel_1280/165316287.py:6: PerformanceWarning: DataFrame is highly fragmented.  This is usually the result of calling `frame.insert` many times, which has poor performance.  Consider joining all columns at once using pd.concat(axis=1) instead. To get a de-fragmented frame, use `newframe = frame.copy()`\n",
      "  data1['v_'+str(i)] = [j[i] for j in embeddings]\n",
      "/var/folders/4z/bnyz3w2s6lg97h_fm4lt5ksr0000gn/T/ipykernel_1280/165316287.py:6: PerformanceWarning: DataFrame is highly fragmented.  This is usually the result of calling `frame.insert` many times, which has poor performance.  Consider joining all columns at once using pd.concat(axis=1) instead. To get a de-fragmented frame, use `newframe = frame.copy()`\n",
      "  data1['v_'+str(i)] = [j[i] for j in embeddings]\n",
      "/var/folders/4z/bnyz3w2s6lg97h_fm4lt5ksr0000gn/T/ipykernel_1280/165316287.py:6: PerformanceWarning: DataFrame is highly fragmented.  This is usually the result of calling `frame.insert` many times, which has poor performance.  Consider joining all columns at once using pd.concat(axis=1) instead. To get a de-fragmented frame, use `newframe = frame.copy()`\n",
      "  data1['v_'+str(i)] = [j[i] for j in embeddings]\n",
      "/var/folders/4z/bnyz3w2s6lg97h_fm4lt5ksr0000gn/T/ipykernel_1280/165316287.py:6: PerformanceWarning: DataFrame is highly fragmented.  This is usually the result of calling `frame.insert` many times, which has poor performance.  Consider joining all columns at once using pd.concat(axis=1) instead. To get a de-fragmented frame, use `newframe = frame.copy()`\n",
      "  data1['v_'+str(i)] = [j[i] for j in embeddings]\n",
      "/var/folders/4z/bnyz3w2s6lg97h_fm4lt5ksr0000gn/T/ipykernel_1280/165316287.py:6: PerformanceWarning: DataFrame is highly fragmented.  This is usually the result of calling `frame.insert` many times, which has poor performance.  Consider joining all columns at once using pd.concat(axis=1) instead. To get a de-fragmented frame, use `newframe = frame.copy()`\n",
      "  data1['v_'+str(i)] = [j[i] for j in embeddings]\n",
      "/var/folders/4z/bnyz3w2s6lg97h_fm4lt5ksr0000gn/T/ipykernel_1280/165316287.py:6: PerformanceWarning: DataFrame is highly fragmented.  This is usually the result of calling `frame.insert` many times, which has poor performance.  Consider joining all columns at once using pd.concat(axis=1) instead. To get a de-fragmented frame, use `newframe = frame.copy()`\n",
      "  data1['v_'+str(i)] = [j[i] for j in embeddings]\n",
      "/var/folders/4z/bnyz3w2s6lg97h_fm4lt5ksr0000gn/T/ipykernel_1280/165316287.py:6: PerformanceWarning: DataFrame is highly fragmented.  This is usually the result of calling `frame.insert` many times, which has poor performance.  Consider joining all columns at once using pd.concat(axis=1) instead. To get a de-fragmented frame, use `newframe = frame.copy()`\n",
      "  data1['v_'+str(i)] = [j[i] for j in embeddings]\n",
      "/var/folders/4z/bnyz3w2s6lg97h_fm4lt5ksr0000gn/T/ipykernel_1280/165316287.py:6: PerformanceWarning: DataFrame is highly fragmented.  This is usually the result of calling `frame.insert` many times, which has poor performance.  Consider joining all columns at once using pd.concat(axis=1) instead. To get a de-fragmented frame, use `newframe = frame.copy()`\n",
      "  data1['v_'+str(i)] = [j[i] for j in embeddings]\n",
      "/var/folders/4z/bnyz3w2s6lg97h_fm4lt5ksr0000gn/T/ipykernel_1280/165316287.py:6: PerformanceWarning: DataFrame is highly fragmented.  This is usually the result of calling `frame.insert` many times, which has poor performance.  Consider joining all columns at once using pd.concat(axis=1) instead. To get a de-fragmented frame, use `newframe = frame.copy()`\n",
      "  data1['v_'+str(i)] = [j[i] for j in embeddings]\n",
      "/var/folders/4z/bnyz3w2s6lg97h_fm4lt5ksr0000gn/T/ipykernel_1280/165316287.py:6: PerformanceWarning: DataFrame is highly fragmented.  This is usually the result of calling `frame.insert` many times, which has poor performance.  Consider joining all columns at once using pd.concat(axis=1) instead. To get a de-fragmented frame, use `newframe = frame.copy()`\n",
      "  data1['v_'+str(i)] = [j[i] for j in embeddings]\n",
      "/var/folders/4z/bnyz3w2s6lg97h_fm4lt5ksr0000gn/T/ipykernel_1280/165316287.py:6: PerformanceWarning: DataFrame is highly fragmented.  This is usually the result of calling `frame.insert` many times, which has poor performance.  Consider joining all columns at once using pd.concat(axis=1) instead. To get a de-fragmented frame, use `newframe = frame.copy()`\n",
      "  data1['v_'+str(i)] = [j[i] for j in embeddings]\n",
      "/var/folders/4z/bnyz3w2s6lg97h_fm4lt5ksr0000gn/T/ipykernel_1280/165316287.py:6: PerformanceWarning: DataFrame is highly fragmented.  This is usually the result of calling `frame.insert` many times, which has poor performance.  Consider joining all columns at once using pd.concat(axis=1) instead. To get a de-fragmented frame, use `newframe = frame.copy()`\n",
      "  data1['v_'+str(i)] = [j[i] for j in embeddings]\n",
      "/var/folders/4z/bnyz3w2s6lg97h_fm4lt5ksr0000gn/T/ipykernel_1280/165316287.py:6: PerformanceWarning: DataFrame is highly fragmented.  This is usually the result of calling `frame.insert` many times, which has poor performance.  Consider joining all columns at once using pd.concat(axis=1) instead. To get a de-fragmented frame, use `newframe = frame.copy()`\n",
      "  data1['v_'+str(i)] = [j[i] for j in embeddings]\n",
      "/var/folders/4z/bnyz3w2s6lg97h_fm4lt5ksr0000gn/T/ipykernel_1280/165316287.py:6: PerformanceWarning: DataFrame is highly fragmented.  This is usually the result of calling `frame.insert` many times, which has poor performance.  Consider joining all columns at once using pd.concat(axis=1) instead. To get a de-fragmented frame, use `newframe = frame.copy()`\n",
      "  data1['v_'+str(i)] = [j[i] for j in embeddings]\n",
      "/var/folders/4z/bnyz3w2s6lg97h_fm4lt5ksr0000gn/T/ipykernel_1280/165316287.py:6: PerformanceWarning: DataFrame is highly fragmented.  This is usually the result of calling `frame.insert` many times, which has poor performance.  Consider joining all columns at once using pd.concat(axis=1) instead. To get a de-fragmented frame, use `newframe = frame.copy()`\n",
      "  data1['v_'+str(i)] = [j[i] for j in embeddings]\n",
      "/var/folders/4z/bnyz3w2s6lg97h_fm4lt5ksr0000gn/T/ipykernel_1280/165316287.py:6: PerformanceWarning: DataFrame is highly fragmented.  This is usually the result of calling `frame.insert` many times, which has poor performance.  Consider joining all columns at once using pd.concat(axis=1) instead. To get a de-fragmented frame, use `newframe = frame.copy()`\n",
      "  data1['v_'+str(i)] = [j[i] for j in embeddings]\n",
      "/var/folders/4z/bnyz3w2s6lg97h_fm4lt5ksr0000gn/T/ipykernel_1280/165316287.py:6: PerformanceWarning: DataFrame is highly fragmented.  This is usually the result of calling `frame.insert` many times, which has poor performance.  Consider joining all columns at once using pd.concat(axis=1) instead. To get a de-fragmented frame, use `newframe = frame.copy()`\n",
      "  data1['v_'+str(i)] = [j[i] for j in embeddings]\n",
      "/var/folders/4z/bnyz3w2s6lg97h_fm4lt5ksr0000gn/T/ipykernel_1280/165316287.py:6: PerformanceWarning: DataFrame is highly fragmented.  This is usually the result of calling `frame.insert` many times, which has poor performance.  Consider joining all columns at once using pd.concat(axis=1) instead. To get a de-fragmented frame, use `newframe = frame.copy()`\n",
      "  data1['v_'+str(i)] = [j[i] for j in embeddings]\n",
      "/var/folders/4z/bnyz3w2s6lg97h_fm4lt5ksr0000gn/T/ipykernel_1280/165316287.py:6: PerformanceWarning: DataFrame is highly fragmented.  This is usually the result of calling `frame.insert` many times, which has poor performance.  Consider joining all columns at once using pd.concat(axis=1) instead. To get a de-fragmented frame, use `newframe = frame.copy()`\n",
      "  data1['v_'+str(i)] = [j[i] for j in embeddings]\n",
      "/var/folders/4z/bnyz3w2s6lg97h_fm4lt5ksr0000gn/T/ipykernel_1280/165316287.py:6: PerformanceWarning: DataFrame is highly fragmented.  This is usually the result of calling `frame.insert` many times, which has poor performance.  Consider joining all columns at once using pd.concat(axis=1) instead. To get a de-fragmented frame, use `newframe = frame.copy()`\n",
      "  data1['v_'+str(i)] = [j[i] for j in embeddings]\n",
      "/var/folders/4z/bnyz3w2s6lg97h_fm4lt5ksr0000gn/T/ipykernel_1280/165316287.py:6: PerformanceWarning: DataFrame is highly fragmented.  This is usually the result of calling `frame.insert` many times, which has poor performance.  Consider joining all columns at once using pd.concat(axis=1) instead. To get a de-fragmented frame, use `newframe = frame.copy()`\n",
      "  data1['v_'+str(i)] = [j[i] for j in embeddings]\n",
      "/var/folders/4z/bnyz3w2s6lg97h_fm4lt5ksr0000gn/T/ipykernel_1280/165316287.py:6: PerformanceWarning: DataFrame is highly fragmented.  This is usually the result of calling `frame.insert` many times, which has poor performance.  Consider joining all columns at once using pd.concat(axis=1) instead. To get a de-fragmented frame, use `newframe = frame.copy()`\n",
      "  data1['v_'+str(i)] = [j[i] for j in embeddings]\n",
      "/var/folders/4z/bnyz3w2s6lg97h_fm4lt5ksr0000gn/T/ipykernel_1280/165316287.py:6: PerformanceWarning: DataFrame is highly fragmented.  This is usually the result of calling `frame.insert` many times, which has poor performance.  Consider joining all columns at once using pd.concat(axis=1) instead. To get a de-fragmented frame, use `newframe = frame.copy()`\n",
      "  data1['v_'+str(i)] = [j[i] for j in embeddings]\n",
      "/var/folders/4z/bnyz3w2s6lg97h_fm4lt5ksr0000gn/T/ipykernel_1280/165316287.py:6: PerformanceWarning: DataFrame is highly fragmented.  This is usually the result of calling `frame.insert` many times, which has poor performance.  Consider joining all columns at once using pd.concat(axis=1) instead. To get a de-fragmented frame, use `newframe = frame.copy()`\n",
      "  data1['v_'+str(i)] = [j[i] for j in embeddings]\n",
      "/var/folders/4z/bnyz3w2s6lg97h_fm4lt5ksr0000gn/T/ipykernel_1280/165316287.py:6: PerformanceWarning: DataFrame is highly fragmented.  This is usually the result of calling `frame.insert` many times, which has poor performance.  Consider joining all columns at once using pd.concat(axis=1) instead. To get a de-fragmented frame, use `newframe = frame.copy()`\n",
      "  data1['v_'+str(i)] = [j[i] for j in embeddings]\n",
      "/var/folders/4z/bnyz3w2s6lg97h_fm4lt5ksr0000gn/T/ipykernel_1280/165316287.py:6: PerformanceWarning: DataFrame is highly fragmented.  This is usually the result of calling `frame.insert` many times, which has poor performance.  Consider joining all columns at once using pd.concat(axis=1) instead. To get a de-fragmented frame, use `newframe = frame.copy()`\n",
      "  data1['v_'+str(i)] = [j[i] for j in embeddings]\n",
      "/var/folders/4z/bnyz3w2s6lg97h_fm4lt5ksr0000gn/T/ipykernel_1280/165316287.py:6: PerformanceWarning: DataFrame is highly fragmented.  This is usually the result of calling `frame.insert` many times, which has poor performance.  Consider joining all columns at once using pd.concat(axis=1) instead. To get a de-fragmented frame, use `newframe = frame.copy()`\n",
      "  data1['v_'+str(i)] = [j[i] for j in embeddings]\n",
      "/var/folders/4z/bnyz3w2s6lg97h_fm4lt5ksr0000gn/T/ipykernel_1280/165316287.py:6: PerformanceWarning: DataFrame is highly fragmented.  This is usually the result of calling `frame.insert` many times, which has poor performance.  Consider joining all columns at once using pd.concat(axis=1) instead. To get a de-fragmented frame, use `newframe = frame.copy()`\n",
      "  data1['v_'+str(i)] = [j[i] for j in embeddings]\n",
      "/var/folders/4z/bnyz3w2s6lg97h_fm4lt5ksr0000gn/T/ipykernel_1280/165316287.py:6: PerformanceWarning: DataFrame is highly fragmented.  This is usually the result of calling `frame.insert` many times, which has poor performance.  Consider joining all columns at once using pd.concat(axis=1) instead. To get a de-fragmented frame, use `newframe = frame.copy()`\n",
      "  data1['v_'+str(i)] = [j[i] for j in embeddings]\n",
      "/var/folders/4z/bnyz3w2s6lg97h_fm4lt5ksr0000gn/T/ipykernel_1280/165316287.py:6: PerformanceWarning: DataFrame is highly fragmented.  This is usually the result of calling `frame.insert` many times, which has poor performance.  Consider joining all columns at once using pd.concat(axis=1) instead. To get a de-fragmented frame, use `newframe = frame.copy()`\n",
      "  data1['v_'+str(i)] = [j[i] for j in embeddings]\n",
      "/var/folders/4z/bnyz3w2s6lg97h_fm4lt5ksr0000gn/T/ipykernel_1280/165316287.py:6: PerformanceWarning: DataFrame is highly fragmented.  This is usually the result of calling `frame.insert` many times, which has poor performance.  Consider joining all columns at once using pd.concat(axis=1) instead. To get a de-fragmented frame, use `newframe = frame.copy()`\n",
      "  data1['v_'+str(i)] = [j[i] for j in embeddings]\n",
      "/var/folders/4z/bnyz3w2s6lg97h_fm4lt5ksr0000gn/T/ipykernel_1280/165316287.py:6: PerformanceWarning: DataFrame is highly fragmented.  This is usually the result of calling `frame.insert` many times, which has poor performance.  Consider joining all columns at once using pd.concat(axis=1) instead. To get a de-fragmented frame, use `newframe = frame.copy()`\n",
      "  data1['v_'+str(i)] = [j[i] for j in embeddings]\n",
      "/var/folders/4z/bnyz3w2s6lg97h_fm4lt5ksr0000gn/T/ipykernel_1280/165316287.py:6: PerformanceWarning: DataFrame is highly fragmented.  This is usually the result of calling `frame.insert` many times, which has poor performance.  Consider joining all columns at once using pd.concat(axis=1) instead. To get a de-fragmented frame, use `newframe = frame.copy()`\n",
      "  data1['v_'+str(i)] = [j[i] for j in embeddings]\n",
      "/var/folders/4z/bnyz3w2s6lg97h_fm4lt5ksr0000gn/T/ipykernel_1280/165316287.py:6: PerformanceWarning: DataFrame is highly fragmented.  This is usually the result of calling `frame.insert` many times, which has poor performance.  Consider joining all columns at once using pd.concat(axis=1) instead. To get a de-fragmented frame, use `newframe = frame.copy()`\n",
      "  data1['v_'+str(i)] = [j[i] for j in embeddings]\n",
      "/var/folders/4z/bnyz3w2s6lg97h_fm4lt5ksr0000gn/T/ipykernel_1280/165316287.py:6: PerformanceWarning: DataFrame is highly fragmented.  This is usually the result of calling `frame.insert` many times, which has poor performance.  Consider joining all columns at once using pd.concat(axis=1) instead. To get a de-fragmented frame, use `newframe = frame.copy()`\n",
      "  data1['v_'+str(i)] = [j[i] for j in embeddings]\n",
      "/var/folders/4z/bnyz3w2s6lg97h_fm4lt5ksr0000gn/T/ipykernel_1280/165316287.py:6: PerformanceWarning: DataFrame is highly fragmented.  This is usually the result of calling `frame.insert` many times, which has poor performance.  Consider joining all columns at once using pd.concat(axis=1) instead. To get a de-fragmented frame, use `newframe = frame.copy()`\n",
      "  data1['v_'+str(i)] = [j[i] for j in embeddings]\n",
      "/var/folders/4z/bnyz3w2s6lg97h_fm4lt5ksr0000gn/T/ipykernel_1280/165316287.py:6: PerformanceWarning: DataFrame is highly fragmented.  This is usually the result of calling `frame.insert` many times, which has poor performance.  Consider joining all columns at once using pd.concat(axis=1) instead. To get a de-fragmented frame, use `newframe = frame.copy()`\n",
      "  data1['v_'+str(i)] = [j[i] for j in embeddings]\n",
      "/var/folders/4z/bnyz3w2s6lg97h_fm4lt5ksr0000gn/T/ipykernel_1280/165316287.py:6: PerformanceWarning: DataFrame is highly fragmented.  This is usually the result of calling `frame.insert` many times, which has poor performance.  Consider joining all columns at once using pd.concat(axis=1) instead. To get a de-fragmented frame, use `newframe = frame.copy()`\n",
      "  data1['v_'+str(i)] = [j[i] for j in embeddings]\n",
      "/var/folders/4z/bnyz3w2s6lg97h_fm4lt5ksr0000gn/T/ipykernel_1280/165316287.py:6: PerformanceWarning: DataFrame is highly fragmented.  This is usually the result of calling `frame.insert` many times, which has poor performance.  Consider joining all columns at once using pd.concat(axis=1) instead. To get a de-fragmented frame, use `newframe = frame.copy()`\n",
      "  data1['v_'+str(i)] = [j[i] for j in embeddings]\n",
      "/var/folders/4z/bnyz3w2s6lg97h_fm4lt5ksr0000gn/T/ipykernel_1280/165316287.py:6: PerformanceWarning: DataFrame is highly fragmented.  This is usually the result of calling `frame.insert` many times, which has poor performance.  Consider joining all columns at once using pd.concat(axis=1) instead. To get a de-fragmented frame, use `newframe = frame.copy()`\n",
      "  data1['v_'+str(i)] = [j[i] for j in embeddings]\n",
      "/var/folders/4z/bnyz3w2s6lg97h_fm4lt5ksr0000gn/T/ipykernel_1280/165316287.py:6: PerformanceWarning: DataFrame is highly fragmented.  This is usually the result of calling `frame.insert` many times, which has poor performance.  Consider joining all columns at once using pd.concat(axis=1) instead. To get a de-fragmented frame, use `newframe = frame.copy()`\n",
      "  data1['v_'+str(i)] = [j[i] for j in embeddings]\n",
      "/var/folders/4z/bnyz3w2s6lg97h_fm4lt5ksr0000gn/T/ipykernel_1280/165316287.py:6: PerformanceWarning: DataFrame is highly fragmented.  This is usually the result of calling `frame.insert` many times, which has poor performance.  Consider joining all columns at once using pd.concat(axis=1) instead. To get a de-fragmented frame, use `newframe = frame.copy()`\n",
      "  data1['v_'+str(i)] = [j[i] for j in embeddings]\n",
      "/var/folders/4z/bnyz3w2s6lg97h_fm4lt5ksr0000gn/T/ipykernel_1280/165316287.py:6: PerformanceWarning: DataFrame is highly fragmented.  This is usually the result of calling `frame.insert` many times, which has poor performance.  Consider joining all columns at once using pd.concat(axis=1) instead. To get a de-fragmented frame, use `newframe = frame.copy()`\n",
      "  data1['v_'+str(i)] = [j[i] for j in embeddings]\n",
      "/var/folders/4z/bnyz3w2s6lg97h_fm4lt5ksr0000gn/T/ipykernel_1280/165316287.py:6: PerformanceWarning: DataFrame is highly fragmented.  This is usually the result of calling `frame.insert` many times, which has poor performance.  Consider joining all columns at once using pd.concat(axis=1) instead. To get a de-fragmented frame, use `newframe = frame.copy()`\n",
      "  data1['v_'+str(i)] = [j[i] for j in embeddings]\n",
      "/var/folders/4z/bnyz3w2s6lg97h_fm4lt5ksr0000gn/T/ipykernel_1280/165316287.py:6: PerformanceWarning: DataFrame is highly fragmented.  This is usually the result of calling `frame.insert` many times, which has poor performance.  Consider joining all columns at once using pd.concat(axis=1) instead. To get a de-fragmented frame, use `newframe = frame.copy()`\n",
      "  data1['v_'+str(i)] = [j[i] for j in embeddings]\n",
      "/var/folders/4z/bnyz3w2s6lg97h_fm4lt5ksr0000gn/T/ipykernel_1280/165316287.py:6: PerformanceWarning: DataFrame is highly fragmented.  This is usually the result of calling `frame.insert` many times, which has poor performance.  Consider joining all columns at once using pd.concat(axis=1) instead. To get a de-fragmented frame, use `newframe = frame.copy()`\n",
      "  data1['v_'+str(i)] = [j[i] for j in embeddings]\n",
      "/var/folders/4z/bnyz3w2s6lg97h_fm4lt5ksr0000gn/T/ipykernel_1280/165316287.py:6: PerformanceWarning: DataFrame is highly fragmented.  This is usually the result of calling `frame.insert` many times, which has poor performance.  Consider joining all columns at once using pd.concat(axis=1) instead. To get a de-fragmented frame, use `newframe = frame.copy()`\n",
      "  data1['v_'+str(i)] = [j[i] for j in embeddings]\n",
      "/var/folders/4z/bnyz3w2s6lg97h_fm4lt5ksr0000gn/T/ipykernel_1280/165316287.py:6: PerformanceWarning: DataFrame is highly fragmented.  This is usually the result of calling `frame.insert` many times, which has poor performance.  Consider joining all columns at once using pd.concat(axis=1) instead. To get a de-fragmented frame, use `newframe = frame.copy()`\n",
      "  data1['v_'+str(i)] = [j[i] for j in embeddings]\n",
      "/var/folders/4z/bnyz3w2s6lg97h_fm4lt5ksr0000gn/T/ipykernel_1280/165316287.py:6: PerformanceWarning: DataFrame is highly fragmented.  This is usually the result of calling `frame.insert` many times, which has poor performance.  Consider joining all columns at once using pd.concat(axis=1) instead. To get a de-fragmented frame, use `newframe = frame.copy()`\n",
      "  data1['v_'+str(i)] = [j[i] for j in embeddings]\n",
      "/var/folders/4z/bnyz3w2s6lg97h_fm4lt5ksr0000gn/T/ipykernel_1280/165316287.py:6: PerformanceWarning: DataFrame is highly fragmented.  This is usually the result of calling `frame.insert` many times, which has poor performance.  Consider joining all columns at once using pd.concat(axis=1) instead. To get a de-fragmented frame, use `newframe = frame.copy()`\n",
      "  data1['v_'+str(i)] = [j[i] for j in embeddings]\n",
      "/var/folders/4z/bnyz3w2s6lg97h_fm4lt5ksr0000gn/T/ipykernel_1280/165316287.py:6: PerformanceWarning: DataFrame is highly fragmented.  This is usually the result of calling `frame.insert` many times, which has poor performance.  Consider joining all columns at once using pd.concat(axis=1) instead. To get a de-fragmented frame, use `newframe = frame.copy()`\n",
      "  data1['v_'+str(i)] = [j[i] for j in embeddings]\n",
      "/var/folders/4z/bnyz3w2s6lg97h_fm4lt5ksr0000gn/T/ipykernel_1280/165316287.py:6: PerformanceWarning: DataFrame is highly fragmented.  This is usually the result of calling `frame.insert` many times, which has poor performance.  Consider joining all columns at once using pd.concat(axis=1) instead. To get a de-fragmented frame, use `newframe = frame.copy()`\n",
      "  data1['v_'+str(i)] = [j[i] for j in embeddings]\n",
      "/var/folders/4z/bnyz3w2s6lg97h_fm4lt5ksr0000gn/T/ipykernel_1280/165316287.py:6: PerformanceWarning: DataFrame is highly fragmented.  This is usually the result of calling `frame.insert` many times, which has poor performance.  Consider joining all columns at once using pd.concat(axis=1) instead. To get a de-fragmented frame, use `newframe = frame.copy()`\n",
      "  data1['v_'+str(i)] = [j[i] for j in embeddings]\n",
      "/var/folders/4z/bnyz3w2s6lg97h_fm4lt5ksr0000gn/T/ipykernel_1280/165316287.py:6: PerformanceWarning: DataFrame is highly fragmented.  This is usually the result of calling `frame.insert` many times, which has poor performance.  Consider joining all columns at once using pd.concat(axis=1) instead. To get a de-fragmented frame, use `newframe = frame.copy()`\n",
      "  data1['v_'+str(i)] = [j[i] for j in embeddings]\n",
      "/var/folders/4z/bnyz3w2s6lg97h_fm4lt5ksr0000gn/T/ipykernel_1280/165316287.py:6: PerformanceWarning: DataFrame is highly fragmented.  This is usually the result of calling `frame.insert` many times, which has poor performance.  Consider joining all columns at once using pd.concat(axis=1) instead. To get a de-fragmented frame, use `newframe = frame.copy()`\n",
      "  data1['v_'+str(i)] = [j[i] for j in embeddings]\n",
      "/var/folders/4z/bnyz3w2s6lg97h_fm4lt5ksr0000gn/T/ipykernel_1280/165316287.py:6: PerformanceWarning: DataFrame is highly fragmented.  This is usually the result of calling `frame.insert` many times, which has poor performance.  Consider joining all columns at once using pd.concat(axis=1) instead. To get a de-fragmented frame, use `newframe = frame.copy()`\n",
      "  data1['v_'+str(i)] = [j[i] for j in embeddings]\n",
      "/var/folders/4z/bnyz3w2s6lg97h_fm4lt5ksr0000gn/T/ipykernel_1280/165316287.py:6: PerformanceWarning: DataFrame is highly fragmented.  This is usually the result of calling `frame.insert` many times, which has poor performance.  Consider joining all columns at once using pd.concat(axis=1) instead. To get a de-fragmented frame, use `newframe = frame.copy()`\n",
      "  data1['v_'+str(i)] = [j[i] for j in embeddings]\n",
      "/var/folders/4z/bnyz3w2s6lg97h_fm4lt5ksr0000gn/T/ipykernel_1280/165316287.py:6: PerformanceWarning: DataFrame is highly fragmented.  This is usually the result of calling `frame.insert` many times, which has poor performance.  Consider joining all columns at once using pd.concat(axis=1) instead. To get a de-fragmented frame, use `newframe = frame.copy()`\n",
      "  data1['v_'+str(i)] = [j[i] for j in embeddings]\n",
      "/var/folders/4z/bnyz3w2s6lg97h_fm4lt5ksr0000gn/T/ipykernel_1280/165316287.py:6: PerformanceWarning: DataFrame is highly fragmented.  This is usually the result of calling `frame.insert` many times, which has poor performance.  Consider joining all columns at once using pd.concat(axis=1) instead. To get a de-fragmented frame, use `newframe = frame.copy()`\n",
      "  data1['v_'+str(i)] = [j[i] for j in embeddings]\n",
      "/var/folders/4z/bnyz3w2s6lg97h_fm4lt5ksr0000gn/T/ipykernel_1280/165316287.py:6: PerformanceWarning: DataFrame is highly fragmented.  This is usually the result of calling `frame.insert` many times, which has poor performance.  Consider joining all columns at once using pd.concat(axis=1) instead. To get a de-fragmented frame, use `newframe = frame.copy()`\n",
      "  data1['v_'+str(i)] = [j[i] for j in embeddings]\n",
      "/var/folders/4z/bnyz3w2s6lg97h_fm4lt5ksr0000gn/T/ipykernel_1280/165316287.py:6: PerformanceWarning: DataFrame is highly fragmented.  This is usually the result of calling `frame.insert` many times, which has poor performance.  Consider joining all columns at once using pd.concat(axis=1) instead. To get a de-fragmented frame, use `newframe = frame.copy()`\n",
      "  data1['v_'+str(i)] = [j[i] for j in embeddings]\n",
      "/var/folders/4z/bnyz3w2s6lg97h_fm4lt5ksr0000gn/T/ipykernel_1280/165316287.py:6: PerformanceWarning: DataFrame is highly fragmented.  This is usually the result of calling `frame.insert` many times, which has poor performance.  Consider joining all columns at once using pd.concat(axis=1) instead. To get a de-fragmented frame, use `newframe = frame.copy()`\n",
      "  data1['v_'+str(i)] = [j[i] for j in embeddings]\n",
      "/var/folders/4z/bnyz3w2s6lg97h_fm4lt5ksr0000gn/T/ipykernel_1280/165316287.py:6: PerformanceWarning: DataFrame is highly fragmented.  This is usually the result of calling `frame.insert` many times, which has poor performance.  Consider joining all columns at once using pd.concat(axis=1) instead. To get a de-fragmented frame, use `newframe = frame.copy()`\n",
      "  data1['v_'+str(i)] = [j[i] for j in embeddings]\n",
      "/var/folders/4z/bnyz3w2s6lg97h_fm4lt5ksr0000gn/T/ipykernel_1280/165316287.py:6: PerformanceWarning: DataFrame is highly fragmented.  This is usually the result of calling `frame.insert` many times, which has poor performance.  Consider joining all columns at once using pd.concat(axis=1) instead. To get a de-fragmented frame, use `newframe = frame.copy()`\n",
      "  data1['v_'+str(i)] = [j[i] for j in embeddings]\n",
      "/var/folders/4z/bnyz3w2s6lg97h_fm4lt5ksr0000gn/T/ipykernel_1280/165316287.py:6: PerformanceWarning: DataFrame is highly fragmented.  This is usually the result of calling `frame.insert` many times, which has poor performance.  Consider joining all columns at once using pd.concat(axis=1) instead. To get a de-fragmented frame, use `newframe = frame.copy()`\n",
      "  data1['v_'+str(i)] = [j[i] for j in embeddings]\n",
      "/var/folders/4z/bnyz3w2s6lg97h_fm4lt5ksr0000gn/T/ipykernel_1280/165316287.py:6: PerformanceWarning: DataFrame is highly fragmented.  This is usually the result of calling `frame.insert` many times, which has poor performance.  Consider joining all columns at once using pd.concat(axis=1) instead. To get a de-fragmented frame, use `newframe = frame.copy()`\n",
      "  data1['v_'+str(i)] = [j[i] for j in embeddings]\n",
      "/var/folders/4z/bnyz3w2s6lg97h_fm4lt5ksr0000gn/T/ipykernel_1280/165316287.py:6: PerformanceWarning: DataFrame is highly fragmented.  This is usually the result of calling `frame.insert` many times, which has poor performance.  Consider joining all columns at once using pd.concat(axis=1) instead. To get a de-fragmented frame, use `newframe = frame.copy()`\n",
      "  data1['v_'+str(i)] = [j[i] for j in embeddings]\n",
      "/var/folders/4z/bnyz3w2s6lg97h_fm4lt5ksr0000gn/T/ipykernel_1280/165316287.py:6: PerformanceWarning: DataFrame is highly fragmented.  This is usually the result of calling `frame.insert` many times, which has poor performance.  Consider joining all columns at once using pd.concat(axis=1) instead. To get a de-fragmented frame, use `newframe = frame.copy()`\n",
      "  data1['v_'+str(i)] = [j[i] for j in embeddings]\n",
      "/var/folders/4z/bnyz3w2s6lg97h_fm4lt5ksr0000gn/T/ipykernel_1280/165316287.py:6: PerformanceWarning: DataFrame is highly fragmented.  This is usually the result of calling `frame.insert` many times, which has poor performance.  Consider joining all columns at once using pd.concat(axis=1) instead. To get a de-fragmented frame, use `newframe = frame.copy()`\n",
      "  data1['v_'+str(i)] = [j[i] for j in embeddings]\n",
      "/var/folders/4z/bnyz3w2s6lg97h_fm4lt5ksr0000gn/T/ipykernel_1280/165316287.py:6: PerformanceWarning: DataFrame is highly fragmented.  This is usually the result of calling `frame.insert` many times, which has poor performance.  Consider joining all columns at once using pd.concat(axis=1) instead. To get a de-fragmented frame, use `newframe = frame.copy()`\n",
      "  data1['v_'+str(i)] = [j[i] for j in embeddings]\n",
      "/var/folders/4z/bnyz3w2s6lg97h_fm4lt5ksr0000gn/T/ipykernel_1280/165316287.py:6: PerformanceWarning: DataFrame is highly fragmented.  This is usually the result of calling `frame.insert` many times, which has poor performance.  Consider joining all columns at once using pd.concat(axis=1) instead. To get a de-fragmented frame, use `newframe = frame.copy()`\n",
      "  data1['v_'+str(i)] = [j[i] for j in embeddings]\n",
      "/var/folders/4z/bnyz3w2s6lg97h_fm4lt5ksr0000gn/T/ipykernel_1280/165316287.py:6: PerformanceWarning: DataFrame is highly fragmented.  This is usually the result of calling `frame.insert` many times, which has poor performance.  Consider joining all columns at once using pd.concat(axis=1) instead. To get a de-fragmented frame, use `newframe = frame.copy()`\n",
      "  data1['v_'+str(i)] = [j[i] for j in embeddings]\n",
      "/var/folders/4z/bnyz3w2s6lg97h_fm4lt5ksr0000gn/T/ipykernel_1280/165316287.py:6: PerformanceWarning: DataFrame is highly fragmented.  This is usually the result of calling `frame.insert` many times, which has poor performance.  Consider joining all columns at once using pd.concat(axis=1) instead. To get a de-fragmented frame, use `newframe = frame.copy()`\n",
      "  data1['v_'+str(i)] = [j[i] for j in embeddings]\n",
      "/var/folders/4z/bnyz3w2s6lg97h_fm4lt5ksr0000gn/T/ipykernel_1280/165316287.py:6: PerformanceWarning: DataFrame is highly fragmented.  This is usually the result of calling `frame.insert` many times, which has poor performance.  Consider joining all columns at once using pd.concat(axis=1) instead. To get a de-fragmented frame, use `newframe = frame.copy()`\n",
      "  data1['v_'+str(i)] = [j[i] for j in embeddings]\n",
      "/var/folders/4z/bnyz3w2s6lg97h_fm4lt5ksr0000gn/T/ipykernel_1280/165316287.py:6: PerformanceWarning: DataFrame is highly fragmented.  This is usually the result of calling `frame.insert` many times, which has poor performance.  Consider joining all columns at once using pd.concat(axis=1) instead. To get a de-fragmented frame, use `newframe = frame.copy()`\n",
      "  data1['v_'+str(i)] = [j[i] for j in embeddings]\n",
      "/var/folders/4z/bnyz3w2s6lg97h_fm4lt5ksr0000gn/T/ipykernel_1280/165316287.py:6: PerformanceWarning: DataFrame is highly fragmented.  This is usually the result of calling `frame.insert` many times, which has poor performance.  Consider joining all columns at once using pd.concat(axis=1) instead. To get a de-fragmented frame, use `newframe = frame.copy()`\n",
      "  data1['v_'+str(i)] = [j[i] for j in embeddings]\n",
      "/var/folders/4z/bnyz3w2s6lg97h_fm4lt5ksr0000gn/T/ipykernel_1280/165316287.py:6: PerformanceWarning: DataFrame is highly fragmented.  This is usually the result of calling `frame.insert` many times, which has poor performance.  Consider joining all columns at once using pd.concat(axis=1) instead. To get a de-fragmented frame, use `newframe = frame.copy()`\n",
      "  data1['v_'+str(i)] = [j[i] for j in embeddings]\n",
      "/var/folders/4z/bnyz3w2s6lg97h_fm4lt5ksr0000gn/T/ipykernel_1280/165316287.py:6: PerformanceWarning: DataFrame is highly fragmented.  This is usually the result of calling `frame.insert` many times, which has poor performance.  Consider joining all columns at once using pd.concat(axis=1) instead. To get a de-fragmented frame, use `newframe = frame.copy()`\n",
      "  data1['v_'+str(i)] = [j[i] for j in embeddings]\n",
      "/var/folders/4z/bnyz3w2s6lg97h_fm4lt5ksr0000gn/T/ipykernel_1280/165316287.py:6: PerformanceWarning: DataFrame is highly fragmented.  This is usually the result of calling `frame.insert` many times, which has poor performance.  Consider joining all columns at once using pd.concat(axis=1) instead. To get a de-fragmented frame, use `newframe = frame.copy()`\n",
      "  data1['v_'+str(i)] = [j[i] for j in embeddings]\n",
      "/var/folders/4z/bnyz3w2s6lg97h_fm4lt5ksr0000gn/T/ipykernel_1280/165316287.py:6: PerformanceWarning: DataFrame is highly fragmented.  This is usually the result of calling `frame.insert` many times, which has poor performance.  Consider joining all columns at once using pd.concat(axis=1) instead. To get a de-fragmented frame, use `newframe = frame.copy()`\n",
      "  data1['v_'+str(i)] = [j[i] for j in embeddings]\n",
      "/var/folders/4z/bnyz3w2s6lg97h_fm4lt5ksr0000gn/T/ipykernel_1280/165316287.py:6: PerformanceWarning: DataFrame is highly fragmented.  This is usually the result of calling `frame.insert` many times, which has poor performance.  Consider joining all columns at once using pd.concat(axis=1) instead. To get a de-fragmented frame, use `newframe = frame.copy()`\n",
      "  data1['v_'+str(i)] = [j[i] for j in embeddings]\n",
      "/var/folders/4z/bnyz3w2s6lg97h_fm4lt5ksr0000gn/T/ipykernel_1280/165316287.py:6: PerformanceWarning: DataFrame is highly fragmented.  This is usually the result of calling `frame.insert` many times, which has poor performance.  Consider joining all columns at once using pd.concat(axis=1) instead. To get a de-fragmented frame, use `newframe = frame.copy()`\n",
      "  data1['v_'+str(i)] = [j[i] for j in embeddings]\n",
      "/var/folders/4z/bnyz3w2s6lg97h_fm4lt5ksr0000gn/T/ipykernel_1280/165316287.py:6: PerformanceWarning: DataFrame is highly fragmented.  This is usually the result of calling `frame.insert` many times, which has poor performance.  Consider joining all columns at once using pd.concat(axis=1) instead. To get a de-fragmented frame, use `newframe = frame.copy()`\n",
      "  data1['v_'+str(i)] = [j[i] for j in embeddings]\n",
      "/var/folders/4z/bnyz3w2s6lg97h_fm4lt5ksr0000gn/T/ipykernel_1280/165316287.py:6: PerformanceWarning: DataFrame is highly fragmented.  This is usually the result of calling `frame.insert` many times, which has poor performance.  Consider joining all columns at once using pd.concat(axis=1) instead. To get a de-fragmented frame, use `newframe = frame.copy()`\n",
      "  data1['v_'+str(i)] = [j[i] for j in embeddings]\n",
      "/var/folders/4z/bnyz3w2s6lg97h_fm4lt5ksr0000gn/T/ipykernel_1280/165316287.py:6: PerformanceWarning: DataFrame is highly fragmented.  This is usually the result of calling `frame.insert` many times, which has poor performance.  Consider joining all columns at once using pd.concat(axis=1) instead. To get a de-fragmented frame, use `newframe = frame.copy()`\n",
      "  data1['v_'+str(i)] = [j[i] for j in embeddings]\n",
      "/var/folders/4z/bnyz3w2s6lg97h_fm4lt5ksr0000gn/T/ipykernel_1280/165316287.py:6: PerformanceWarning: DataFrame is highly fragmented.  This is usually the result of calling `frame.insert` many times, which has poor performance.  Consider joining all columns at once using pd.concat(axis=1) instead. To get a de-fragmented frame, use `newframe = frame.copy()`\n",
      "  data1['v_'+str(i)] = [j[i] for j in embeddings]\n",
      "/var/folders/4z/bnyz3w2s6lg97h_fm4lt5ksr0000gn/T/ipykernel_1280/165316287.py:6: PerformanceWarning: DataFrame is highly fragmented.  This is usually the result of calling `frame.insert` many times, which has poor performance.  Consider joining all columns at once using pd.concat(axis=1) instead. To get a de-fragmented frame, use `newframe = frame.copy()`\n",
      "  data1['v_'+str(i)] = [j[i] for j in embeddings]\n",
      "/var/folders/4z/bnyz3w2s6lg97h_fm4lt5ksr0000gn/T/ipykernel_1280/165316287.py:6: PerformanceWarning: DataFrame is highly fragmented.  This is usually the result of calling `frame.insert` many times, which has poor performance.  Consider joining all columns at once using pd.concat(axis=1) instead. To get a de-fragmented frame, use `newframe = frame.copy()`\n",
      "  data1['v_'+str(i)] = [j[i] for j in embeddings]\n",
      "/var/folders/4z/bnyz3w2s6lg97h_fm4lt5ksr0000gn/T/ipykernel_1280/165316287.py:6: PerformanceWarning: DataFrame is highly fragmented.  This is usually the result of calling `frame.insert` many times, which has poor performance.  Consider joining all columns at once using pd.concat(axis=1) instead. To get a de-fragmented frame, use `newframe = frame.copy()`\n",
      "  data1['v_'+str(i)] = [j[i] for j in embeddings]\n",
      "/var/folders/4z/bnyz3w2s6lg97h_fm4lt5ksr0000gn/T/ipykernel_1280/165316287.py:6: PerformanceWarning: DataFrame is highly fragmented.  This is usually the result of calling `frame.insert` many times, which has poor performance.  Consider joining all columns at once using pd.concat(axis=1) instead. To get a de-fragmented frame, use `newframe = frame.copy()`\n",
      "  data1['v_'+str(i)] = [j[i] for j in embeddings]\n",
      "/var/folders/4z/bnyz3w2s6lg97h_fm4lt5ksr0000gn/T/ipykernel_1280/165316287.py:6: PerformanceWarning: DataFrame is highly fragmented.  This is usually the result of calling `frame.insert` many times, which has poor performance.  Consider joining all columns at once using pd.concat(axis=1) instead. To get a de-fragmented frame, use `newframe = frame.copy()`\n",
      "  data1['v_'+str(i)] = [j[i] for j in embeddings]\n",
      "/var/folders/4z/bnyz3w2s6lg97h_fm4lt5ksr0000gn/T/ipykernel_1280/165316287.py:6: PerformanceWarning: DataFrame is highly fragmented.  This is usually the result of calling `frame.insert` many times, which has poor performance.  Consider joining all columns at once using pd.concat(axis=1) instead. To get a de-fragmented frame, use `newframe = frame.copy()`\n",
      "  data1['v_'+str(i)] = [j[i] for j in embeddings]\n",
      "/var/folders/4z/bnyz3w2s6lg97h_fm4lt5ksr0000gn/T/ipykernel_1280/165316287.py:6: PerformanceWarning: DataFrame is highly fragmented.  This is usually the result of calling `frame.insert` many times, which has poor performance.  Consider joining all columns at once using pd.concat(axis=1) instead. To get a de-fragmented frame, use `newframe = frame.copy()`\n",
      "  data1['v_'+str(i)] = [j[i] for j in embeddings]\n",
      "/var/folders/4z/bnyz3w2s6lg97h_fm4lt5ksr0000gn/T/ipykernel_1280/165316287.py:6: PerformanceWarning: DataFrame is highly fragmented.  This is usually the result of calling `frame.insert` many times, which has poor performance.  Consider joining all columns at once using pd.concat(axis=1) instead. To get a de-fragmented frame, use `newframe = frame.copy()`\n",
      "  data1['v_'+str(i)] = [j[i] for j in embeddings]\n",
      "/var/folders/4z/bnyz3w2s6lg97h_fm4lt5ksr0000gn/T/ipykernel_1280/165316287.py:6: PerformanceWarning: DataFrame is highly fragmented.  This is usually the result of calling `frame.insert` many times, which has poor performance.  Consider joining all columns at once using pd.concat(axis=1) instead. To get a de-fragmented frame, use `newframe = frame.copy()`\n",
      "  data1['v_'+str(i)] = [j[i] for j in embeddings]\n",
      "/var/folders/4z/bnyz3w2s6lg97h_fm4lt5ksr0000gn/T/ipykernel_1280/165316287.py:6: PerformanceWarning: DataFrame is highly fragmented.  This is usually the result of calling `frame.insert` many times, which has poor performance.  Consider joining all columns at once using pd.concat(axis=1) instead. To get a de-fragmented frame, use `newframe = frame.copy()`\n",
      "  data1['v_'+str(i)] = [j[i] for j in embeddings]\n",
      "/var/folders/4z/bnyz3w2s6lg97h_fm4lt5ksr0000gn/T/ipykernel_1280/165316287.py:6: PerformanceWarning: DataFrame is highly fragmented.  This is usually the result of calling `frame.insert` many times, which has poor performance.  Consider joining all columns at once using pd.concat(axis=1) instead. To get a de-fragmented frame, use `newframe = frame.copy()`\n",
      "  data1['v_'+str(i)] = [j[i] for j in embeddings]\n",
      "/var/folders/4z/bnyz3w2s6lg97h_fm4lt5ksr0000gn/T/ipykernel_1280/165316287.py:6: PerformanceWarning: DataFrame is highly fragmented.  This is usually the result of calling `frame.insert` many times, which has poor performance.  Consider joining all columns at once using pd.concat(axis=1) instead. To get a de-fragmented frame, use `newframe = frame.copy()`\n",
      "  data1['v_'+str(i)] = [j[i] for j in embeddings]\n",
      "/var/folders/4z/bnyz3w2s6lg97h_fm4lt5ksr0000gn/T/ipykernel_1280/165316287.py:6: PerformanceWarning: DataFrame is highly fragmented.  This is usually the result of calling `frame.insert` many times, which has poor performance.  Consider joining all columns at once using pd.concat(axis=1) instead. To get a de-fragmented frame, use `newframe = frame.copy()`\n",
      "  data1['v_'+str(i)] = [j[i] for j in embeddings]\n",
      "/var/folders/4z/bnyz3w2s6lg97h_fm4lt5ksr0000gn/T/ipykernel_1280/165316287.py:6: PerformanceWarning: DataFrame is highly fragmented.  This is usually the result of calling `frame.insert` many times, which has poor performance.  Consider joining all columns at once using pd.concat(axis=1) instead. To get a de-fragmented frame, use `newframe = frame.copy()`\n",
      "  data1['v_'+str(i)] = [j[i] for j in embeddings]\n",
      "/var/folders/4z/bnyz3w2s6lg97h_fm4lt5ksr0000gn/T/ipykernel_1280/165316287.py:6: PerformanceWarning: DataFrame is highly fragmented.  This is usually the result of calling `frame.insert` many times, which has poor performance.  Consider joining all columns at once using pd.concat(axis=1) instead. To get a de-fragmented frame, use `newframe = frame.copy()`\n",
      "  data1['v_'+str(i)] = [j[i] for j in embeddings]\n",
      "/var/folders/4z/bnyz3w2s6lg97h_fm4lt5ksr0000gn/T/ipykernel_1280/165316287.py:6: PerformanceWarning: DataFrame is highly fragmented.  This is usually the result of calling `frame.insert` many times, which has poor performance.  Consider joining all columns at once using pd.concat(axis=1) instead. To get a de-fragmented frame, use `newframe = frame.copy()`\n",
      "  data1['v_'+str(i)] = [j[i] for j in embeddings]\n",
      "/var/folders/4z/bnyz3w2s6lg97h_fm4lt5ksr0000gn/T/ipykernel_1280/165316287.py:6: PerformanceWarning: DataFrame is highly fragmented.  This is usually the result of calling `frame.insert` many times, which has poor performance.  Consider joining all columns at once using pd.concat(axis=1) instead. To get a de-fragmented frame, use `newframe = frame.copy()`\n",
      "  data1['v_'+str(i)] = [j[i] for j in embeddings]\n",
      "/var/folders/4z/bnyz3w2s6lg97h_fm4lt5ksr0000gn/T/ipykernel_1280/165316287.py:6: PerformanceWarning: DataFrame is highly fragmented.  This is usually the result of calling `frame.insert` many times, which has poor performance.  Consider joining all columns at once using pd.concat(axis=1) instead. To get a de-fragmented frame, use `newframe = frame.copy()`\n",
      "  data1['v_'+str(i)] = [j[i] for j in embeddings]\n"
     ]
    }
   ],
   "source": [
    "data1 = pd.read_csv(\"/Users/temp/Documents/Spring 2024/NLP/mmontgomery1-master/project/implicit-hate-corpus/implicit_hate_v1_stg1_posts.tsv\",sep=\"\\t\")\n",
    "vecs = []\n",
    "sbert384 = SentenceTransformer(\"all-MiniLM-L6-v2\")\n",
    "embeddings = sbert384.encode(data1['post'])\n",
    "for i in range(384):\n",
    "    data1['v_'+str(i)] = [j[i] for j in embeddings]\n",
    "    vecs.append(\"v_\"+str(i))"
   ]
  },
  {
   "cell_type": "markdown",
   "metadata": {},
   "source": [
    "3-length embeddings"
   ]
  },
  {
   "cell_type": "code",
   "execution_count": 4,
   "metadata": {},
   "outputs": [
    {
     "data": {
      "application/vnd.jupyter.widget-view+json": {
       "model_id": "f994d7c4e56945018a08788efee02c5f",
       "version_major": 2,
       "version_minor": 0
      },
      "text/plain": [
       "Batches:   0%|          | 0/672 [00:00<?, ?it/s]"
      ]
     },
     "metadata": {},
     "output_type": "display_data"
    }
   ],
   "source": [
    "df = pd.read_csv(\"/Users/temp/Documents/Spring 2024/NLP/mmontgomery1-master/project/implicit-hate-corpus/implicit_hate_v1_stg1_posts.tsv\",sep=\"\\t\")\n",
    "sbert3 = sbert3 = SentenceTransformer(\"all-MiniLM-L6-v2\",truncate_dim=3)\n",
    "embeddings = sbert3.encode(df['post'],show_progress_bar=True)\n",
    "for i in range(3):\n",
    "    df['v_'+str(i)] = [j[i] for j in embeddings]"
   ]
  },
  {
   "cell_type": "markdown",
   "metadata": {},
   "source": [
    "<h1>Visualizing the raw 384</h1>"
   ]
  },
  {
   "cell_type": "code",
   "execution_count": 5,
   "metadata": {},
   "outputs": [
    {
     "data": {
      "text/plain": [
       "\"fig = px.scatter_3d(df, x='v_0', y='v_1', z='v_2',\\n                    color='class',size_max=.01,opacity=0.4)\\nfig.show()\""
      ]
     },
     "execution_count": 5,
     "metadata": {},
     "output_type": "execute_result"
    }
   ],
   "source": [
    "\"\"\"fig = px.scatter_3d(df, x='v_0', y='v_1', z='v_2',\n",
    "                    color='class',size_max=.01,opacity=0.4)\n",
    "fig.show()\"\"\""
   ]
  },
  {
   "cell_type": "markdown",
   "metadata": {},
   "source": [
    "<h1>Assembling Even Testing and Training Sets</h1>"
   ]
  },
  {
   "cell_type": "code",
   "execution_count": 6,
   "metadata": {},
   "outputs": [],
   "source": [
    "nh = data1.loc[data1['class']=='not_hate'][:1000]\n",
    "eh = data1.loc[data1['class']=='explicit_hate'][:1000]\n",
    "ih = data1.loc[data1['class']=='implicit_hate'][:1000]\n",
    "train_data1 = pd.concat([nh,eh,ih])\n",
    "nh2 = data1.loc[data1['class']=='not_hate'][1001:1089]\n",
    "eh2 = data1.loc[data1['class']=='explicit_hate'][1001:1089]\n",
    "ih2 = data1.loc[data1['class']=='implicit_hate'][1001:1089]\n",
    "test_data1 = pd.concat([nh2,eh2,ih2])"
   ]
  },
  {
   "cell_type": "code",
   "execution_count": 74,
   "metadata": {},
   "outputs": [],
   "source": [
    "train_data1 = train_data1.sample(frac=1)"
   ]
  },
  {
   "cell_type": "markdown",
   "metadata": {},
   "source": [
    "<h1>Classifying Model</h1>"
   ]
  },
  {
   "cell_type": "code",
   "execution_count": 200,
   "metadata": {},
   "outputs": [],
   "source": [
    "class IDHate_simple(nn.Module):\n",
    "    def __init__(self):\n",
    "        super(IDHate_simple,self).__init__()\n",
    "        self.softmax = nn.Softmax(dim=0)#Need this for the probabilities at the end\n",
    "        self.sigmoid = nn.Sigmoid()#Need this to normalize at each layer\n",
    "        self.tanh = nn.Tanh()#Need this for weights; want to be able to weight a component but in a way that doesn't affect the classification\n",
    "        self.W = nn.Parameter(torch.zeros((384,3),dtype=torch.float64),requires_grad=True)#used to make X-based weights\n",
    "        self.S = torch.zeros((1,3),requires_grad=False,dtype=torch.float64)\n",
    "        self.labels = ['implicit_hate', 'not_hate', 'explicit_hate']\n",
    "        self.output = torch.zeros((1,3))\n",
    "        return\n",
    "    \n",
    "    def forward(self,x):        \n",
    "        self.S= x @ self.W\n",
    "        self.output = self.softmax(self.S)\n",
    "        return self.output,self.S\n",
    "\n",
    "    def _print(self):\n",
    "        print(\"W\",\"\\n\",self.W)\n",
    "        print(\"S\",\"\\n\",self.S)\n",
    "        print(\"p\",\"\\n\",self.output)\n",
    "        return\n",
    "    def _train(self,data,epochs,learning_rate):\n",
    "        criterion = nn.CrossEntropyLoss()\n",
    "        torch.random.manual_seed(42)  \n",
    "        np.random.seed(42)\n",
    "        optimizer = torch.optim.Adam(self.parameters(),\n",
    "                                        lr=learning_rate)\n",
    "        sched = StepLR(optimizer,gamma=0.3,step_size=100)\n",
    "        loss_val = []\n",
    "        # main training loop\n",
    "        for epoch in range(epochs):\n",
    "            optimizer.zero_grad()\n",
    "            np.random.shuffle(data)\n",
    "            losses = []\n",
    "            for batch, (X, y) in enumerate(data[:300]):\n",
    "                #print(y)\n",
    "                result = self.forward(X)\n",
    "                loss = criterion(result[0],y)\n",
    "                loss.backward()      # computes all the gradients\n",
    "                optimizer.step()\n",
    "                losses.append(loss.item())\n",
    "            loss_val.append(np.mean(losses))\n",
    "            sched.step()\n",
    "        plt.figure()\n",
    "        plt.plot(loss_val, '-')\n",
    "        plt.ylabel('loss')\n",
    "        plt.xlabel('epoch')\n",
    "        plt.show()\n",
    "        return loss_val\n",
    "            "
   ]
  },
  {
   "cell_type": "markdown",
   "metadata": {},
   "source": [
    "Training"
   ]
  },
  {
   "cell_type": "code",
   "execution_count": 197,
   "metadata": {},
   "outputs": [],
   "source": [
    "train_X1 = torch.tensor(train_data1[vecs].to_numpy(),dtype=torch.float64)\n",
    "train_X1 = z(train_X1)\n",
    "train_Y1 = []\n",
    "for c in train_data1['class']:\n",
    "    y_hot = [0,0,0]\n",
    "    y_hot[int(['implicit_hate', 'not_hate', 'explicit_hate'].index(c))] = 1\n",
    "    y_hot = torch.tensor(y_hot,dtype=torch.float64)\n",
    "    train_Y1.append(y_hot)\n",
    "m1train_data1 = list(zip(train_X1,train_Y1))\n",
    "\n",
    "test_X1 = torch.tensor(test_data1[vecs].to_numpy(),dtype=torch.float64)\n",
    "test_X1 = z(test_X1)\n",
    "test_Y1 = []\n",
    "for c in test_data1['class']:\n",
    "    y_hot = [0,0,0]\n",
    "    y_hot[int(['implicit_hate', 'not_hate', 'explicit_hate'].index(c))] = 1\n",
    "    y_hot = torch.tensor(y_hot,dtype=torch.float64)\n",
    "    test_Y1.append(y_hot)\n",
    "m1test_data1 = list(zip(test_X1,test_Y1))"
   ]
  },
  {
   "cell_type": "code",
   "execution_count": 201,
   "metadata": {},
   "outputs": [
    {
     "data": {
      "image/png": "[encoded data removed]",
      "text/plain": [
       "<Figure size 640x480 with 1 Axes>"
      ]
     },
     "metadata": {},
     "output_type": "display_data"
    }
   ],
   "source": [
    "model = IDHate_simple()\n",
    "loss = model._train(m1train_data1,1000, 0.00001)"
   ]
  },
  {
   "cell_type": "markdown",
   "metadata": {},
   "source": [
    "Testing"
   ]
  },
  {
   "cell_type": "code",
   "execution_count": 202,
   "metadata": {},
   "outputs": [
    {
     "name": "stdout",
     "output_type": "stream",
     "text": [
      "trained 170\n",
      "untrained 88\n"
     ]
    }
   ],
   "source": [
    "correct = 0\n",
    "s1csmart = []\n",
    "s2csmart = []\n",
    "s3csmart = []\n",
    "actual = []\n",
    "pred = []\n",
    "for x,y in m1test_data1:\n",
    "    results = model(x)\n",
    "    if int(torch.argmax(results[0])) == list(y).index(1):\n",
    "        correct+=1\n",
    "    s1csmart.append(results[1][0].item())\n",
    "    s2csmart.append(results[1][1].item())\n",
    "    s3csmart.append(results[1][2].item())\n",
    "    actual.append(list(y).index(1))\n",
    "    pred.append(torch.argmax(results[0]))\n",
    "print(\"trained\",correct)\n",
    "stupid_model=IDHate_simple()\n",
    "correct = 0\n",
    "#test_data1 = train_data1[:500]\n",
    "for x,y in m1test_data1:\n",
    "    results = stupid_model(x)\n",
    "    if int(torch.argmax(results[0])) == list(y).index(1):\n",
    "        correct+=1\n",
    "print(\"untrained\",correct)"
   ]
  },
  {
   "cell_type": "code",
   "execution_count": 204,
   "metadata": {},
   "outputs": [
    {
     "data": {
      "application/vnd.plotly.v1+json": {
       "config": {
        "plotlyServerURL": "https://plot.ly"
       },
       "data": [
        {
         "hovertemplate": "v_1=%{x}<br>v_2=%{y}<br>v_3=%{z}<br>actual=%{marker.color}<extra></extra>",
         "legendgroup": "",
         "marker": {
          "color": [
           1,
           1,
           1,
           1,
           1,
           1,
           1,
           1,
           1,
           1,
           1,
           1,
           1,
           1,
           1,
           1,
           1,
           1,
           1,
           1,
           1,
           1,
           1,
           1,
           1,
           1,
           1,
           1,
           1,
           1,
           1,
           1,
           1,
           1,
           1,
           1,
           1,
           1,
           1,
           1,
           1,
           1,
           1,
           1,
           1,
           1,
           1,
           1,
           1,
           1,
           1,
           1,
           1,
           1,
           1,
           1,
           1,
           1,
           1,
           1,
           1,
           1,
           1,
           1,
           1,
           1,
           1,
           1,
           1,
           1,
           1,
           1,
           1,
           1,
           1,
           1,
           1,
           1,
           1,
           1,
           1,
           1,
           1,
           1,
           1,
           1,
           1,
           1,
           2,
           2,
           2,
           2,
           2,
           2,
           2,
           2,
           2,
           2,
           2,
           2,
           2,
           2,
           2,
           2,
           2,
           2,
           2,
           2,
           2,
           2,
           2,
           2,
           2,
           2,
           2,
           2,
           2,
           2,
           2,
           2,
           2,
           2,
           2,
           2,
           2,
           2,
           2,
           2,
           2,
           2,
           2,
           2,
           2,
           2,
           2,
           2,
           2,
           2,
           2,
           2,
           2,
           2,
           2,
           2,
           2,
           2,
           2,
           2,
           2,
           2,
           2,
           2,
           2,
           2,
           2,
           2,
           2,
           2,
           2,
           2,
           2,
           2,
           2,
           2,
           2,
           2,
           2,
           2,
           2,
           2,
           2,
           2,
           2,
           2,
           2,
           2,
           0,
           0,
           0,
           0,
           0,
           0,
           0,
           0,
           0,
           0,
           0,
           0,
           0,
           0,
           0,
           0,
           0,
           0,
           0,
           0,
           0,
           0,
           0,
           0,
           0,
           0,
           0,
           0,
           0,
           0,
           0,
           0,
           0,
           0,
           0,
           0,
           0,
           0,
           0,
           0,
           0,
           0,
           0,
           0,
           0,
           0,
           0,
           0,
           0,
           0,
           0,
           0,
           0,
           0,
           0,
           0,
           0,
           0,
           0,
           0,
           0,
           0,
           0,
           0,
           0,
           0,
           0,
           0,
           0,
           0,
           0,
           0,
           0,
           0,
           0,
           0,
           0,
           0,
           0,
           0,
           0,
           0,
           0,
           0,
           0,
           0,
           0,
           0
          ],
          "coloraxis": "coloraxis",
          "opacity": 0.4,
          "symbol": "circle"
         },
         "mode": "markers",
         "name": "",
         "scene": "scene",
         "showlegend": false,
         "type": "scatter3d",
         "x": [
          0.8387866851267805,
          -2.073770216650662,
          1.1495770362819793,
          0.5264714337120309,
          -0.9846454230969818,
          3.2678199548253515,
          2.622043202210782,
          -0.21135850827479608,
          -0.5954092186888436,
          -0.2915186891331253,
          -1.5211559228796636,
          0.3449189164444596,
          -1.0294577762152013,
          -1.5875080647511741,
          0.26543310554092076,
          -1.9248383914635632,
          0.8823572163329025,
          0.43591978240616397,
          -2.5156440913016835,
          -0.2462152138952386,
          2.8497176853093613,
          1.437692730641079,
          -0.9269784811253192,
          0.6004313862748736,
          0.8603621436259301,
          1.4138568052581362,
          0.6635966710591243,
          -0.23275685510898297,
          0.8832919867254234,
          0.2398932132845081,
          0.5416398451516597,
          3.7189261767738993,
          -1.6809677010597164,
          -0.789256431071211,
          3.093853530296046,
          -1.5445198794123707,
          0.09665863829471144,
          -1.6830225909375391,
          1.0382178355199936,
          0.18214837126402372,
          -1.548528671407601,
          2.4489857033894125,
          1.968557994025182,
          -0.38942383506593986,
          3.2708961115807726,
          -1.0381006895558433,
          -1.6073295393295595,
          1.0077875879459084,
          -0.11566693218691321,
          -1.9230910859314418,
          -1.1513704162241147,
          2.0253685352426682,
          -0.5812403582187204,
          0.00012550854437839987,
          -0.9663999050551002,
          -0.13082635683223032,
          1.6737541255756039,
          -0.9384641586981486,
          1.082024389312833,
          -0.07005266222472159,
          2.8204160539823246,
          1.6088307308033767,
          -1.0388166210095324,
          4.272569597965614,
          -0.17833287835544887,
          -3.2531749999503536,
          2.9893883833974,
          0.0575876724993408,
          0.5975454030811427,
          0.9287578332009753,
          0.8866376608991103,
          -1.1825886712618354,
          0.1056557165339066,
          0.724086380552721,
          -0.4577888213065626,
          -2.4112747043591107,
          3.2470084423082897,
          0.2693319093486726,
          -1.7128004611875733,
          -2.8547106879369237,
          0.8883436098592623,
          0.5103489003130942,
          0.4499678201814138,
          3.865136103471127,
          -0.7590115806609363,
          -1.1529638928168908,
          -0.8619893772466012,
          -0.6052870505138641,
          -3.9905366801592947,
          -1.3568919213981756,
          -3.2575887288261924,
          2.137376662193581,
          -1.8383460340883597,
          -1.7450427233287784,
          0.1980874475139457,
          -0.6427728329779454,
          -2.4262502828144346,
          -0.2338887034392572,
          -1.8791330944233806,
          -0.797036715968878,
          -0.46240746040957986,
          -2.428159567511115,
          -4.620041813082986,
          -1.6224634821067152,
          1.252961640663135,
          -1.3195033567812027,
          -2.0439784578621385,
          -1.5829906571523455,
          -3.2639923548886545,
          -0.4689480411078439,
          -2.406523411678063,
          -1.1427656385171847,
          -0.1749565796752678,
          -3.341746660682283,
          0.15151438810052842,
          -0.8764685464653854,
          -1.430013643518539,
          -1.3003979129014245,
          0.3156859977065152,
          1.4059606848186252,
          0.4302723232221357,
          -0.2720387848560284,
          -0.2950483624626726,
          -3.119648612180656,
          -2.385470886493662,
          -2.3499811102411563,
          -0.9679685281562171,
          0.11824752551997074,
          -1.8534336337993247,
          -4.176203191848279,
          -1.1574146742766722,
          -0.5151240807076364,
          -0.3351640625892756,
          -1.2215980565338818,
          -1.2215980565338818,
          0.5640387769781812,
          -1.6873375037958087,
          -3.270400594033119,
          -2.9879947706355923,
          -2.853523726002201,
          0.9954480784844982,
          -2.868370058561088,
          -1.5700145720858885,
          -0.06436386513195436,
          -2.4116809446075007,
          -0.10381516565835636,
          -2.124050190385591,
          -3.563628086498005,
          -2.4604338570078577,
          -2.261247298125391,
          -3.060067745257771,
          0.9294851752781876,
          -2.7334312902814375,
          -0.7615933426497505,
          -0.24611648815608145,
          -0.2550565004010094,
          -2.456750091344801,
          -0.6747277518924429,
          -1.241310741457527,
          -1.601578076566641,
          0.7049198943237982,
          -2.1511814193806713,
          -1.5273743701422906,
          -0.8288228923316499,
          -0.16403701100885382,
          -2.568479729075547,
          -2.457201984970327,
          -3.0449492045382116,
          -1.579788519361495,
          -4.190973263993629,
          1.2726383847806975,
          0.7264056762278661,
          -1.3027884835139432,
          0.42912919069714184,
          0.11585478511662095,
          -1.155867717773031,
          -0.2977168288213893,
          1.0017272860773034,
          -0.11972477231640058,
          1.801839567870574,
          1.8118651603685587,
          3.4492277514828014,
          0.6322754070372891,
          3.1441660926133412,
          3.3307713674027073,
          1.8552391225715144,
          4.102863183070761,
          -1.0454062661098273,
          3.4010617889903934,
          -2.2510877493730304,
          1.4363980869009185,
          3.093000541770227,
          -2.5052243872056095,
          -0.6296910761347227,
          2.4284573756666306,
          0.957766038553209,
          -0.7805255503861666,
          2.333996683181253,
          -1.9944764627408287,
          -0.22151778273422462,
          2.427830848381542,
          1.8573903282188864,
          -1.965344723212603,
          -0.049678548542468004,
          0.5221981819835979,
          1.314451516128746,
          -0.49807669865634113,
          0.3423438883831747,
          2.810172530551706,
          0.7171984438618284,
          0.6682071758156783,
          1.2862074341904197,
          3.640008175028831,
          -1.290140574204779,
          0.8458937265301594,
          3.1584478941763785,
          2.562711538671963,
          1.8348202720942106,
          1.3275357598510575,
          3.5463603977155183,
          1.221395132814071,
          -4.09982802240397,
          0.9899352499877356,
          6.035093274897092,
          2.4325100088765526,
          2.612141511247202,
          2.8095946940343977,
          -0.656837449968424,
          -1.3508036042130804,
          1.3630707319774358,
          -2.1050412252070685,
          1.7287415813809526,
          -0.1673972181753749,
          -1.6918349627668214,
          -0.33900753885413515,
          0.4880315398343176,
          0.18341543878413233,
          0.9934737546813154,
          0.7333678673805599,
          2.692311793714741,
          0.9672490889906228,
          2.598123155297623,
          2.386159655970244,
          2.2886557200619375,
          1.064791105998927,
          2.8547134935287306,
          1.4279995128953569,
          -0.05185247521099401,
          -1.3470081116507755,
          2.564684520031833,
          1.152113404140138,
          1.7855672856734874,
          2.2209702512898453,
          1.9869558809991241,
          0.1333939935446249,
          2.021960088229767,
          -0.46066908075534874,
          -0.8091356440559417,
          2.2003298553300845,
          0.5455915187674549,
          3.7223763559122025,
          2.0231584051023317,
          2.528680025336405,
          0.44903654532005544
         ],
         "y": [
          0.25317876640011183,
          4.468453939678616,
          -0.5242445442212513,
          3.5696762987005535,
          0.9235183628829922,
          -2.8610506336250587,
          2.4287869349956215,
          2.3219127517335347,
          5.98226693425495,
          0.9753684862384969,
          0.29289248546270397,
          -0.5327855572845211,
          3.8994541087991483,
          -2.9124310025691043,
          3.9817021610539114,
          4.412685179080311,
          1.0136930561441835,
          0.22169219400484125,
          2.5547880504522995,
          1.479526849671312,
          -0.26166799774248284,
          -0.3808279015218118,
          1.6932044593119517,
          2.6683255970694524,
          3.804258417352826,
          -0.8199818986901497,
          -1.0001168476006965,
          3.772840672074094,
          3.343470801338606,
          1.3357443177632837,
          1.8328236314465498,
          2.722845044634006,
          1.8462469524304537,
          4.9510879228193385,
          4.46604938403608,
          5.916731617856671,
          0.27560335260571134,
          2.0035083622018566,
          2.599277960801823,
          -0.5299678737887676,
          1.3589000976197037,
          -0.16870876669508034,
          -0.20938796367429469,
          -2.1437273369516934,
          -1.4279220288309238,
          -0.8857940016538659,
          5.811419593964334,
          1.8282637451868864,
          0.9351885182089427,
          1.2284939879394894,
          2.9293994377324797,
          2.086427418560406,
          0.033941753955260445,
          3.1126820942946267,
          -0.8596323762181308,
          2.9793951609317424,
          1.5300111190032668,
          3.3719998211616034,
          -2.561132265717389,
          0.970447549649202,
          -0.5628787499617518,
          1.534939850299763,
          -1.4627823561601365,
          -0.05805937873101108,
          4.631090229716735,
          1.4210984600265903,
          -1.8313099659097398,
          3.040176679098461,
          3.7820960409272626,
          2.230599777930397,
          2.9054059900892866,
          3.5621174172695715,
          -0.1809809510718005,
          2.262215304694968,
          1.0087636830755362,
          1.1357812918932142,
          -1.165394058183388,
          2.1283849406902773,
          2.129586647271564,
          2.4306443658214487,
          -0.8478868159624529,
          1.7437225461474628,
          2.900088344860361,
          -0.5838275505543206,
          -1.5692752742141423,
          3.068184218814796,
          2.3829137358386716,
          0.596346588679149,
          2.0544052985942605,
          -4.1294434797324895,
          -0.8880205514468759,
          -1.3145513243752058,
          -4.089486304863521,
          -3.573009975470451,
          -3.538951079771528,
          -2.0208419320924578,
          -0.7395173100619228,
          -2.493418131515014,
          -2.754124410860579,
          -3.4169198046362625,
          -4.01287508150867,
          -2.4720197001546484,
          1.9150906243439472,
          0.4883123168451275,
          -7.351607200053969,
          -0.05292602587574641,
          1.190007144012152,
          -4.167758981829586,
          -2.8096734094307316,
          -2.6729606309112555,
          -4.5311611520097905,
          2.021878122968971,
          -2.012575671261586,
          3.286516857244883,
          -2.6449500111245396,
          -0.17838107796421132,
          -1.8035388611224592,
          1.607950171022519,
          -3.383161061373515,
          -1.2375781972539048,
          -3.261774611705296,
          -0.9166216564726499,
          -1.2210968223598768,
          2.265158399671315,
          0.37173251616498926,
          0.6291987752734901,
          2.0213359042007424,
          -1.6700741836202355,
          -3.3786980023897475,
          -0.14202931884721087,
          0.29816037309004295,
          -0.02036680376716285,
          -0.009696916191742011,
          0.5559979345611269,
          0.5559979345611269,
          -3.0144526019502695,
          1.9796659851605085,
          0.1813292417196228,
          -1.8398929471317829,
          -3.109206279346713,
          -2.3043617120879287,
          -4.182652463558984,
          -0.4030013256852793,
          -1.2660178071683557,
          -0.8740447619875777,
          -4.684843072414653,
          1.6321931835443262,
          -3.759575723919129,
          3.4946591397515805,
          -2.265276840453204,
          0.00976279834322924,
          -1.7756074168299047,
          2.583494330290481,
          -0.4012996719078893,
          2.381576631074279,
          0.3703260311389699,
          -2.3160126340895832,
          2.8615088283897068,
          -0.43230870205002175,
          1.748126261630012,
          -2.6845201228319886,
          0.6768040243084501,
          -3.703878111776331,
          0.6470430647231782,
          -5.701482571600552,
          -3.507095695259158,
          -1.8752545690931819,
          1.825525722086798,
          0.02716538502158128,
          1.576484708598168,
          -2.628964661770367,
          -1.2327177707715744,
          2.088380964200502,
          -1.520999798182165,
          -2.4814922742488177,
          -2.3357606357161274,
          -1.2445427539952059,
          -0.2856508195979291,
          0.6013713653539516,
          -4.001831591381824,
          -1.4280221724348878,
          -0.3306668483612111,
          -0.6977610775586414,
          -0.058612081007334865,
          -1.7736338114450172,
          2.9598834712563504,
          -1.2168031447536078,
          2.6989350277443127,
          -1.9421821207272436,
          1.11553999234444,
          -0.36473905970032283,
          -0.6999868934919057,
          2.7518516721340873,
          -2.641129677317638,
          -0.9967735642089015,
          0.5928614362952409,
          -1.7231500486893108,
          -1.0896311051714165,
          2.528289796145304,
          1.2582493707715088,
          0.49286516950357706,
          -1.402375526677292,
          2.1889053311308206,
          -2.155172578772136,
          -1.3549406799105377,
          -1.4072791080734786,
          2.0729878293659296,
          0.812185797319579,
          -1.0428157040420138,
          0.5559256726908737,
          -0.5111790283061043,
          0.644853231324853,
          -3.13746928786732,
          1.5875423531580746,
          -1.6628831192491802,
          -1.695564896935604,
          -0.9487017394721596,
          0.2584984101722657,
          -2.239367495161619,
          -0.4309696346661856,
          -1.9959492392704905,
          2.156784483433285,
          -0.7169084342226895,
          -0.7205509586429206,
          -1.5225085519169856,
          -5.528279420865469,
          2.2446531659428697,
          -0.649681062008641,
          1.4355224780557636,
          -0.2669102151641976,
          3.779456618637946,
          -0.9510792484318016,
          -3.6978219335719773,
          3.316224915660375,
          -1.161947960934887,
          -1.6474817052635033,
          2.74384092410393,
          -1.4755908647288714,
          -0.19126860214382913,
          -0.9135693715448763,
          -1.22458423711552,
          1.8724747761492444,
          0.2637291554191392,
          -2.7711401453386477,
          -2.059119365755785,
          -4.429372338460192,
          -1.1162991446512969,
          2.1032887480590077,
          1.3917382971938468,
          -0.9702723180035545,
          -2.0359005927699227,
          -0.42327975435911064,
          -2.212047399925403,
          0.3692240736735071,
          -1.7610071926987714,
          -1.44513660981283,
          1.15787181533258,
          0.8013526757199699,
          1.0007926396653395,
          1.5743899749213244,
          -1.4646324218036366,
          0.8114882427143124,
          0.44213679189573685,
          -1.6253672306729843
         ],
         "z": [
          -0.9059122264980993,
          -2.3406825794567707,
          -0.6569698738589147,
          -4.174167491596196,
          -0.1461458976126525,
          -0.9102540214727444,
          -4.9549765829378725,
          -2.169475902455811,
          -5.367221919803617,
          -0.6767720199187454,
          1.0245162943301183,
          0.21333087076680246,
          -3.316662970418874,
          4.21824722201471,
          -4.501253866541381,
          -2.3193284400107546,
          -1.712448781505761,
          -0.47733849444281784,
          -0.3919893311648842,
          -0.9711164708748268,
          -2.4505803312167007,
          -0.8147917199868331,
          -0.7367127992204598,
          -2.7565841590506275,
          -4.827376444401658,
          -0.45280005730324624,
          0.7288341361092168,
          -3.4268781530725065,
          -4.353592086974469,
          -1.362522787741749,
          -1.998391166042772,
          -6.413447983466178,
          0.3754037276596869,
          -3.9269577359766528,
          -7.494844809115003,
          -4.007132027083633,
          -0.34202859291306276,
          -0.03606081512112179,
          -3.65447768668931,
          0.5870705426378318,
          0.004242261950673676,
          -2.190022874106784,
          -1.2465091578166674,
          2.590998735866153,
          -1.8594791746587278,
          1.6298484904501964,
          -4.033911166233295,
          -2.560519905160385,
          -1.1555285770426151,
          0.7132711101956541,
          -1.9476201328936422,
          -4.163305302429333,
          1.0937083310435116,
          -3.4613328878922873,
          1.5879413669019262,
          -3.0763809605971306,
          -3.0529319723767516,
          -2.5729152649175417,
          1.3982688553300038,
          -0.7115229387742465,
          -2.100135457309415,
          -3.3138125975856125,
          2.2947427873133184,
          -4.093371547117163,
          -4.047422475184895,
          1.3517268743581057,
          -1.284515411242161,
          -3.1617041315388468,
          -4.278828324175008,
          -3.5925710147453507,
          -3.7847361399991084,
          -3.0174230084247977,
          -0.1542321096984156,
          -2.942042942887981,
          -0.4423611902542379,
          1.2193582246909356,
          -1.4456633823105274,
          -2.66838341819906,
          -0.8317264859291144,
          -0.2524325450952126,
          -0.09186279870354513,
          -2.379530902061986,
          -3.63972801446796,
          -3.4348076101014513,
          2.366646925038721,
          -2.003894408686383,
          -1.3725583396171261,
          -0.3121948450018215,
          1.9768877251488621,
          5.0814840773007806,
          4.235074701743898,
          -0.7842031075573519,
          5.614390356856802,
          5.02824946208367,
          2.97037722255011,
          2.4351026263712825,
          2.8796436743913283,
          2.606828272953548,
          4.728928891321511,
          4.370599293281635,
          4.427612871382872,
          4.500766093077536,
          2.6047169807244517,
          1.3890855229603554,
          6.387376898591724,
          1.6195254336763598,
          0.7536041319389262,
          5.454431289859918,
          6.105622674164678,
          3.3369918217920005,
          6.810248974214037,
          -1.2197957303255151,
          1.9289919650712646,
          -0.21581838190305525,
          2.6776424886727996,
          1.4583966112270206,
          3.2321186854601285,
          -0.4830816002370028,
          3.4786441480545447,
          -0.12238291001700263,
          2.8819296233810623,
          1.384547437019838,
          1.6633439160607364,
          1.018366797508797,
          2.257175242256925,
          1.5027849163334754,
          -1.1955704479940992,
          1.6859027547044876,
          5.629253300050983,
          4.311790068650951,
          0.9778160354210851,
          0.4607458253261797,
          0.44124003797163025,
          0.3989268864132116,
          0.3989268864132116,
          2.355818721931445,
          -0.4540613450040135,
          2.808136504917081,
          4.606447651028462,
          5.8873113610844,
          1.3994731450161029,
          6.7944787209969615,
          1.8211673031615185,
          1.2301876398198002,
          3.2312121802859544,
          4.48520742336599,
          0.3558622401109771,
          6.953475443675995,
          -1.304827443540789,
          4.681430459615779,
          2.794769294684904,
          0.7945407955147088,
          0.7435577284437057,
          0.8795421181487216,
          -1.884341132318641,
          -0.4890106886175322,
          4.874327166066532,
          -2.1795928318303464,
          1.4866193428076309,
          -0.8028087844777351,
          1.8449133302978495,
          1.2887486897736748,
          5.631851313651488,
          0.22773275512592916,
          5.894648887068138,
          5.689269318944344,
          4.363473190376647,
          1.0883211014511982,
          1.3315733000390764,
          2.5791319745047026,
          1.5362222973760349,
          0.4754656559510229,
          -0.9833437637494048,
          1.4560095421533754,
          2.539394652238414,
          3.240472826643826,
          1.6290787531383784,
          -0.10545702156813308,
          -0.3350309309283694,
          2.7282385912570692,
          -0.5216510020766107,
          -3.049791628080241,
          0.08913675524035636,
          -2.9029616080596226,
          -1.5276872433781983,
          -4.858737548453558,
          -2.8264380413949777,
          -1.318461351028378,
          -1.321387206627297,
          0.8957846229362783,
          -1.4370516958185853,
          -2.503750017206147,
          -0.27142336207005446,
          3.5294266574456854,
          -1.2962187332737214,
          -1.7784063205880223,
          2.377376922154545,
          -1.089975266013435,
          -0.4341801615672167,
          -1.0654206357868141,
          -2.711653888873167,
          -0.8205377656933917,
          -0.1408670296357743,
          1.7332781918975417,
          0.7535312955843747,
          0.20202315623293887,
          -1.442528418376403,
          -1.2190552820360288,
          -1.7692992746024432,
          -0.6140173305076657,
          -0.06624224449064053,
          -1.7106508433318277,
          -0.18650320575778384,
          -0.380134658301611,
          0.9897745196469091,
          -1.0496199493551877,
          -1.6026813077788904,
          -1.830098385190852,
          0.3893026042994987,
          -3.0206120277870845,
          0.7411826916452819,
          1.9111057437928234,
          -0.008549137891323139,
          -5.144577655090625,
          -0.9404024896136701,
          3.1297303444373012,
          -5.225198430596035,
          1.015434599859852,
          -0.3763209576806328,
          -0.8141717210120072,
          -1.5514207027506786,
          -0.3271087058314869,
          3.9969252647893967,
          -1.6636920614276236,
          1.3392315113013353,
          1.0362769082362244,
          -2.891496279054469,
          0.4321048941111507,
          -0.7994489338419075,
          -1.8540611140995402,
          0.629946549888573,
          -4.522884496633183,
          -2.3926263748692556,
          0.5055194522558539,
          1.0180040146187634,
          1.7637767643726239,
          -0.012629925909178608,
          -2.068063596576615,
          -0.25716501438691297,
          -1.9257159290956491,
          1.175366846693328,
          -1.2472583724581714,
          -0.06414587307346914,
          -2.2927668238052865,
          1.81857450601471,
          -0.5966044820354182,
          -0.4995986652486968,
          -0.5381917125984262,
          -3.232355415380602,
          -1.5849247198568779,
          -1.6839147068209872,
          -3.0550967455400584,
          -2.6268765582553177,
          1.5452771786626434
         ]
        }
       ],
       "layout": {
        "coloraxis": {
         "colorbar": {
          "title": {
           "text": "actual"
          }
         },
         "colorscale": [
          [
           0,
           "#0d0887"
          ],
          [
           0.1111111111111111,
           "#46039f"
          ],
          [
           0.2222222222222222,
           "#7201a8"
          ],
          [
           0.3333333333333333,
           "#9c179e"
          ],
          [
           0.4444444444444444,
           "#bd3786"
          ],
          [
           0.5555555555555556,
           "#d8576b"
          ],
          [
           0.6666666666666666,
           "#ed7953"
          ],
          [
           0.7777777777777778,
           "#fb9f3a"
          ],
          [
           0.8888888888888888,
           "#fdca26"
          ],
          [
           1,
           "#f0f921"
          ]
         ]
        },
        "legend": {
         "tracegroupgap": 0
        },
        "margin": {
         "t": 60
        },
        "scene": {
         "domain": {
          "x": [
           0,
           1
          ],
          "y": [
           0,
           1
          ]
         },
         "xaxis": {
          "title": {
           "text": "v_1"
          }
         },
         "yaxis": {
          "title": {
           "text": "v_2"
          }
         },
         "zaxis": {
          "title": {
           "text": "v_3"
          }
         }
        },
        "template": {
         "data": {
          "bar": [
           {
            "error_x": {
             "color": "#2a3f5f"
            },
            "error_y": {
             "color": "#2a3f5f"
            },
            "marker": {
             "line": {
              "color": "#E5ECF6",
              "width": 0.5
             },
             "pattern": {
              "fillmode": "overlay",
              "size": 10,
              "solidity": 0.2
             }
            },
            "type": "bar"
           }
          ],
          "barpolar": [
           {
            "marker": {
             "line": {
              "color": "#E5ECF6",
              "width": 0.5
             },
             "pattern": {
              "fillmode": "overlay",
              "size": 10,
              "solidity": 0.2
             }
            },
            "type": "barpolar"
           }
          ],
          "carpet": [
           {
            "aaxis": {
             "endlinecolor": "#2a3f5f",
             "gridcolor": "white",
             "linecolor": "white",
             "minorgridcolor": "white",
             "startlinecolor": "#2a3f5f"
            },
            "baxis": {
             "endlinecolor": "#2a3f5f",
             "gridcolor": "white",
             "linecolor": "white",
             "minorgridcolor": "white",
             "startlinecolor": "#2a3f5f"
            },
            "type": "carpet"
           }
          ],
          "choropleth": [
           {
            "colorbar": {
             "outlinewidth": 0,
             "ticks": ""
            },
            "type": "choropleth"
           }
          ],
          "contour": [
           {
            "colorbar": {
             "outlinewidth": 0,
             "ticks": ""
            },
            "colorscale": [
             [
              0,
              "#0d0887"
             ],
             [
              0.1111111111111111,
              "#46039f"
             ],
             [
              0.2222222222222222,
              "#7201a8"
             ],
             [
              0.3333333333333333,
              "#9c179e"
             ],
             [
              0.4444444444444444,
              "#bd3786"
             ],
             [
              0.5555555555555556,
              "#d8576b"
             ],
             [
              0.6666666666666666,
              "#ed7953"
             ],
             [
              0.7777777777777778,
              "#fb9f3a"
             ],
             [
              0.8888888888888888,
              "#fdca26"
             ],
             [
              1,
              "#f0f921"
             ]
            ],
            "type": "contour"
           }
          ],
          "contourcarpet": [
           {
            "colorbar": {
             "outlinewidth": 0,
             "ticks": ""
            },
            "type": "contourcarpet"
           }
          ],
          "heatmap": [
           {
            "colorbar": {
             "outlinewidth": 0,
             "ticks": ""
            },
            "colorscale": [
             [
              0,
              "#0d0887"
             ],
             [
              0.1111111111111111,
              "#46039f"
             ],
             [
              0.2222222222222222,
              "#7201a8"
             ],
             [
              0.3333333333333333,
              "#9c179e"
             ],
             [
              0.4444444444444444,
              "#bd3786"
             ],
             [
              0.5555555555555556,
              "#d8576b"
             ],
             [
              0.6666666666666666,
              "#ed7953"
             ],
             [
              0.7777777777777778,
              "#fb9f3a"
             ],
             [
              0.8888888888888888,
              "#fdca26"
             ],
             [
              1,
              "#f0f921"
             ]
            ],
            "type": "heatmap"
           }
          ],
          "heatmapgl": [
           {
            "colorbar": {
             "outlinewidth": 0,
             "ticks": ""
            },
            "colorscale": [
             [
              0,
              "#0d0887"
             ],
             [
              0.1111111111111111,
              "#46039f"
             ],
             [
              0.2222222222222222,
              "#7201a8"
             ],
             [
              0.3333333333333333,
              "#9c179e"
             ],
             [
              0.4444444444444444,
              "#bd3786"
             ],
             [
              0.5555555555555556,
              "#d8576b"
             ],
             [
              0.6666666666666666,
              "#ed7953"
             ],
             [
              0.7777777777777778,
              "#fb9f3a"
             ],
             [
              0.8888888888888888,
              "#fdca26"
             ],
             [
              1,
              "#f0f921"
             ]
            ],
            "type": "heatmapgl"
           }
          ],
          "histogram": [
           {
            "marker": {
             "pattern": {
              "fillmode": "overlay",
              "size": 10,
              "solidity": 0.2
             }
            },
            "type": "histogram"
           }
          ],
          "histogram2d": [
           {
            "colorbar": {
             "outlinewidth": 0,
             "ticks": ""
            },
            "colorscale": [
             [
              0,
              "#0d0887"
             ],
             [
              0.1111111111111111,
              "#46039f"
             ],
             [
              0.2222222222222222,
              "#7201a8"
             ],
             [
              0.3333333333333333,
              "#9c179e"
             ],
             [
              0.4444444444444444,
              "#bd3786"
             ],
             [
              0.5555555555555556,
              "#d8576b"
             ],
             [
              0.6666666666666666,
              "#ed7953"
             ],
             [
              0.7777777777777778,
              "#fb9f3a"
             ],
             [
              0.8888888888888888,
              "#fdca26"
             ],
             [
              1,
              "#f0f921"
             ]
            ],
            "type": "histogram2d"
           }
          ],
          "histogram2dcontour": [
           {
            "colorbar": {
             "outlinewidth": 0,
             "ticks": ""
            },
            "colorscale": [
             [
              0,
              "#0d0887"
             ],
             [
              0.1111111111111111,
              "#46039f"
             ],
             [
              0.2222222222222222,
              "#7201a8"
             ],
             [
              0.3333333333333333,
              "#9c179e"
             ],
             [
              0.4444444444444444,
              "#bd3786"
             ],
             [
              0.5555555555555556,
              "#d8576b"
             ],
             [
              0.6666666666666666,
              "#ed7953"
             ],
             [
              0.7777777777777778,
              "#fb9f3a"
             ],
             [
              0.8888888888888888,
              "#fdca26"
             ],
             [
              1,
              "#f0f921"
             ]
            ],
            "type": "histogram2dcontour"
           }
          ],
          "mesh3d": [
           {
            "colorbar": {
             "outlinewidth": 0,
             "ticks": ""
            },
            "type": "mesh3d"
           }
          ],
          "parcoords": [
           {
            "line": {
             "colorbar": {
              "outlinewidth": 0,
              "ticks": ""
             }
            },
            "type": "parcoords"
           }
          ],
          "pie": [
           {
            "automargin": true,
            "type": "pie"
           }
          ],
          "scatter": [
           {
            "fillpattern": {
             "fillmode": "overlay",
             "size": 10,
             "solidity": 0.2
            },
            "type": "scatter"
           }
          ],
          "scatter3d": [
           {
            "line": {
             "colorbar": {
              "outlinewidth": 0,
              "ticks": ""
             }
            },
            "marker": {
             "colorbar": {
              "outlinewidth": 0,
              "ticks": ""
             }
            },
            "type": "scatter3d"
           }
          ],
          "scattercarpet": [
           {
            "marker": {
             "colorbar": {
              "outlinewidth": 0,
              "ticks": ""
             }
            },
            "type": "scattercarpet"
           }
          ],
          "scattergeo": [
           {
            "marker": {
             "colorbar": {
              "outlinewidth": 0,
              "ticks": ""
             }
            },
            "type": "scattergeo"
           }
          ],
          "scattergl": [
           {
            "marker": {
             "colorbar": {
              "outlinewidth": 0,
              "ticks": ""
             }
            },
            "type": "scattergl"
           }
          ],
          "scattermapbox": [
           {
            "marker": {
             "colorbar": {
              "outlinewidth": 0,
              "ticks": ""
             }
            },
            "type": "scattermapbox"
           }
          ],
          "scatterpolar": [
           {
            "marker": {
             "colorbar": {
              "outlinewidth": 0,
              "ticks": ""
             }
            },
            "type": "scatterpolar"
           }
          ],
          "scatterpolargl": [
           {
            "marker": {
             "colorbar": {
              "outlinewidth": 0,
              "ticks": ""
             }
            },
            "type": "scatterpolargl"
           }
          ],
          "scatterternary": [
           {
            "marker": {
             "colorbar": {
              "outlinewidth": 0,
              "ticks": ""
             }
            },
            "type": "scatterternary"
           }
          ],
          "surface": [
           {
            "colorbar": {
             "outlinewidth": 0,
             "ticks": ""
            },
            "colorscale": [
             [
              0,
              "#0d0887"
             ],
             [
              0.1111111111111111,
              "#46039f"
             ],
             [
              0.2222222222222222,
              "#7201a8"
             ],
             [
              0.3333333333333333,
              "#9c179e"
             ],
             [
              0.4444444444444444,
              "#bd3786"
             ],
             [
              0.5555555555555556,
              "#d8576b"
             ],
             [
              0.6666666666666666,
              "#ed7953"
             ],
             [
              0.7777777777777778,
              "#fb9f3a"
             ],
             [
              0.8888888888888888,
              "#fdca26"
             ],
             [
              1,
              "#f0f921"
             ]
            ],
            "type": "surface"
           }
          ],
          "table": [
           {
            "cells": {
             "fill": {
              "color": "#EBF0F8"
             },
             "line": {
              "color": "white"
             }
            },
            "header": {
             "fill": {
              "color": "#C8D4E3"
             },
             "line": {
              "color": "white"
             }
            },
            "type": "table"
           }
          ]
         },
         "layout": {
          "annotationdefaults": {
           "arrowcolor": "#2a3f5f",
           "arrowhead": 0,
           "arrowwidth": 1
          },
          "autotypenumbers": "strict",
          "coloraxis": {
           "colorbar": {
            "outlinewidth": 0,
            "ticks": ""
           }
          },
          "colorscale": {
           "diverging": [
            [
             0,
             "#8e0152"
            ],
            [
             0.1,
             "#c51b7d"
            ],
            [
             0.2,
             "#de77ae"
            ],
            [
             0.3,
             "#f1b6da"
            ],
            [
             0.4,
             "#fde0ef"
            ],
            [
             0.5,
             "#f7f7f7"
            ],
            [
             0.6,
             "#e6f5d0"
            ],
            [
             0.7,
             "#b8e186"
            ],
            [
             0.8,
             "#7fbc41"
            ],
            [
             0.9,
             "#4d9221"
            ],
            [
             1,
             "#276419"
            ]
           ],
           "sequential": [
            [
             0,
             "#0d0887"
            ],
            [
             0.1111111111111111,
             "#46039f"
            ],
            [
             0.2222222222222222,
             "#7201a8"
            ],
            [
             0.3333333333333333,
             "#9c179e"
            ],
            [
             0.4444444444444444,
             "#bd3786"
            ],
            [
             0.5555555555555556,
             "#d8576b"
            ],
            [
             0.6666666666666666,
             "#ed7953"
            ],
            [
             0.7777777777777778,
             "#fb9f3a"
            ],
            [
             0.8888888888888888,
             "#fdca26"
            ],
            [
             1,
             "#f0f921"
            ]
           ],
           "sequentialminus": [
            [
             0,
             "#0d0887"
            ],
            [
             0.1111111111111111,
             "#46039f"
            ],
            [
             0.2222222222222222,
             "#7201a8"
            ],
            [
             0.3333333333333333,
             "#9c179e"
            ],
            [
             0.4444444444444444,
             "#bd3786"
            ],
            [
             0.5555555555555556,
             "#d8576b"
            ],
            [
             0.6666666666666666,
             "#ed7953"
            ],
            [
             0.7777777777777778,
             "#fb9f3a"
            ],
            [
             0.8888888888888888,
             "#fdca26"
            ],
            [
             1,
             "#f0f921"
            ]
           ]
          },
          "colorway": [
           "#636efa",
           "#EF553B",
           "#00cc96",
           "#ab63fa",
           "#FFA15A",
           "#19d3f3",
           "#FF6692",
           "#B6E880",
           "#FF97FF",
           "#FECB52"
          ],
          "font": {
           "color": "#2a3f5f"
          },
          "geo": {
           "bgcolor": "white",
           "lakecolor": "white",
           "landcolor": "#E5ECF6",
           "showlakes": true,
           "showland": true,
           "subunitcolor": "white"
          },
          "hoverlabel": {
           "align": "left"
          },
          "hovermode": "closest",
          "mapbox": {
           "style": "light"
          },
          "paper_bgcolor": "white",
          "plot_bgcolor": "#E5ECF6",
          "polar": {
           "angularaxis": {
            "gridcolor": "white",
            "linecolor": "white",
            "ticks": ""
           },
           "bgcolor": "#E5ECF6",
           "radialaxis": {
            "gridcolor": "white",
            "linecolor": "white",
            "ticks": ""
           }
          },
          "scene": {
           "xaxis": {
            "backgroundcolor": "#E5ECF6",
            "gridcolor": "white",
            "gridwidth": 2,
            "linecolor": "white",
            "showbackground": true,
            "ticks": "",
            "zerolinecolor": "white"
           },
           "yaxis": {
            "backgroundcolor": "#E5ECF6",
            "gridcolor": "white",
            "gridwidth": 2,
            "linecolor": "white",
            "showbackground": true,
            "ticks": "",
            "zerolinecolor": "white"
           },
           "zaxis": {
            "backgroundcolor": "#E5ECF6",
            "gridcolor": "white",
            "gridwidth": 2,
            "linecolor": "white",
            "showbackground": true,
            "ticks": "",
            "zerolinecolor": "white"
           }
          },
          "shapedefaults": {
           "line": {
            "color": "#2a3f5f"
           }
          },
          "ternary": {
           "aaxis": {
            "gridcolor": "white",
            "linecolor": "white",
            "ticks": ""
           },
           "baxis": {
            "gridcolor": "white",
            "linecolor": "white",
            "ticks": ""
           },
           "bgcolor": "#E5ECF6",
           "caxis": {
            "gridcolor": "white",
            "linecolor": "white",
            "ticks": ""
           }
          },
          "title": {
           "x": 0.05
          },
          "xaxis": {
           "automargin": true,
           "gridcolor": "white",
           "linecolor": "white",
           "ticks": "",
           "title": {
            "standoff": 15
           },
           "zerolinecolor": "white",
           "zerolinewidth": 2
          },
          "yaxis": {
           "automargin": true,
           "gridcolor": "white",
           "linecolor": "white",
           "ticks": "",
           "title": {
            "standoff": 15
           },
           "zerolinecolor": "white",
           "zerolinewidth": 2
          }
         }
        }
       }
      }
     },
     "metadata": {},
     "output_type": "display_data"
    }
   ],
   "source": [
    "cdfsmart = pd.DataFrame()\n",
    "cdfsmart['v_1'] = s1csmart\n",
    "cdfsmart['v_2'] = s2csmart\n",
    "cdfsmart['v_3'] = s3csmart\n",
    "cdfsmart['actual'] = actual\n",
    "fig = px.scatter_3d(cdfsmart, x='v_1', y='v_2', z='v_3',\n",
    "                    color='actual',size_max=.01,opacity=0.4)\n",
    "fig.show()"
   ]
  },
  {
   "cell_type": "code",
   "execution_count": 205,
   "metadata": {},
   "outputs": [
    {
     "data": {
      "text/plain": [
       "tensor([[52, 21, 15],\n",
       "        [22, 54, 12],\n",
       "        [ 4, 20, 64]])"
      ]
     },
     "execution_count": 205,
     "metadata": {},
     "output_type": "execute_result"
    }
   ],
   "source": [
    "multiclass_confusion_matrix(torch.tensor(pred,dtype=torch.int64),torch.tensor(actual,dtype=torch.int64),3)"
   ]
  },
  {
   "cell_type": "markdown",
   "metadata": {},
   "source": [
    "<h1>Regression-ish Style</h1>"
   ]
  },
  {
   "cell_type": "code",
   "execution_count": 228,
   "metadata": {},
   "outputs": [],
   "source": [
    "lindict = dict(zip(['not_hate','implicit_hate', 'explicit_hate'],[0,1,2]))"
   ]
  },
  {
   "cell_type": "code",
   "execution_count": 229,
   "metadata": {},
   "outputs": [
    {
     "name": "stderr",
     "output_type": "stream",
     "text": [
      "/var/folders/4z/bnyz3w2s6lg97h_fm4lt5ksr0000gn/T/ipykernel_1280/3850033164.py:2: UserWarning:\n",
      "\n",
      "To copy construct from a tensor, it is recommended to use sourceTensor.clone().detach() or sourceTensor.clone().detach().requires_grad_(True), rather than torch.tensor(sourceTensor).\n",
      "\n",
      "/var/folders/4z/bnyz3w2s6lg97h_fm4lt5ksr0000gn/T/ipykernel_1280/3850033164.py:8: UserWarning:\n",
      "\n",
      "To copy construct from a tensor, it is recommended to use sourceTensor.clone().detach() or sourceTensor.clone().detach().requires_grad_(True), rather than torch.tensor(sourceTensor).\n",
      "\n"
     ]
    }
   ],
   "source": [
    "train_X1 = torch.tensor(train_data1[vecs].to_numpy(),dtype=torch.float64)\n",
    "train_X1 = torch.tensor(z(train_X1),dtype=torch.float64)\n",
    "train_data1['lin_label'] = [lindict[e] for e in train_data1['class']]\n",
    "train_Y1 = torch.tensor(train_data1['lin_label'].to_numpy(),dtype=torch.float64)\n",
    "m2train_data1 = list(zip(train_X1,train_Y1))\n",
    "\n",
    "test_X1 = torch.tensor(test_data1[vecs].to_numpy(),dtype=torch.float64)\n",
    "test_X1 = torch.tensor(z(test_X1),dtype=torch.float64)\n",
    "test_data1['lin_label'] = [lindict[e] for e in test_data1['class']]\n",
    "test_Y1 = torch.tensor(test_data1['lin_label'].to_numpy(),dtype=torch.float64)\n",
    "m2test_data1 = list(zip(test_X1,test_Y1))"
   ]
  },
  {
   "cell_type": "code",
   "execution_count": 230,
   "metadata": {},
   "outputs": [
    {
     "data": {
      "text/plain": [
       "264"
      ]
     },
     "execution_count": 230,
     "metadata": {},
     "output_type": "execute_result"
    }
   ],
   "source": [
    "len(m2test_data1)"
   ]
  },
  {
   "cell_type": "markdown",
   "metadata": {},
   "source": [
    "Regression 1pc"
   ]
  },
  {
   "cell_type": "code",
   "execution_count": 231,
   "metadata": {},
   "outputs": [],
   "source": [
    "class RegressHate_1_notworking(nn.Module):\n",
    "    def __init__(self):\n",
    "        super(RegressHate_1_notworking,self).__init__()\n",
    "        self.linear = nn.Linear(384,1)\n",
    "        self.linear.weight = torch.nn.Parameter(torch.zeros((1,384),dtype=torch.float64,requires_grad=True))\n",
    "        self.linear.bias = torch.nn.Parameter(torch.tensor([0],dtype=torch.float64,requires_grad=True))\n",
    "        self.labels = ['not_hate','implicit_hate','explicit_hate']\n",
    "        self.diff = []\n",
    "        self.output = []\n",
    "        return\n",
    "    \n",
    "    def forward(self,x):   \n",
    "        self.output = self.linear(x)\n",
    "        return self.output\n",
    "    def score2class(self,a):\n",
    "        self.diff = torch.abs(torch.subtract(torch.tensor([0,1,2],dtype=torch.float64),torch.tensor([a,a,a],dtype=torch.float64)))\n",
    "        #print(self.diff)\n",
    "        return self.labels[torch.argmin(self.diff)]\n",
    "\n",
    "    def _print(self):\n",
    "        print(\"W\",\"\\n\",self.linear.weight)\n",
    "        print(\"p\",\"\\n\",self.output)\n",
    "        return\n",
    "    \n",
    "    def _train(self,data,epochs,learning_rate):\n",
    "        criterion = nn.MSELoss()\n",
    "        torch.random.manual_seed(42)  \n",
    "        np.random.seed(42)\n",
    "        optimizer = torch.optim.Adam(model.parameters(),\n",
    "                                        lr=learning_rate)\n",
    "        sched = StepLR(optimizer,gamma=0.3,step_size=100)\n",
    "        loss_avg = []\n",
    "        # main training loop\n",
    "        for epoch in range(epochs):\n",
    "            np.random.shuffle(data)\n",
    "            loss_val=[]\n",
    "            #self._print()\n",
    "            for batch, (X, y) in enumerate(data[:300]):\n",
    "                #print(y)\n",
    "                result = model.forward(X)\n",
    "                loss = criterion(result,y)\n",
    "                optimizer.zero_grad()\n",
    "                loss_val.append(loss.item())\n",
    "                loss.backward()\n",
    "                optimizer.step()\n",
    "            loss_avg.append(np.mean(loss_val))\n",
    "            sched.step()\n",
    "            \n",
    "        plt.figure()\n",
    "        plt.plot(loss_avg, '-')\n",
    "        plt.ylabel('loss')\n",
    "        plt.xlabel('epoch')\n",
    "        plt.show()\n",
    "        return loss_avg\n",
    "            "
   ]
  },
  {
   "cell_type": "markdown",
   "metadata": {},
   "source": [
    "Training"
   ]
  },
  {
   "cell_type": "code",
   "execution_count": 232,
   "metadata": {},
   "outputs": [
    {
     "name": "stderr",
     "output_type": "stream",
     "text": [
      "/Users/temp/Library/Python/3.9/lib/python/site-packages/torch/nn/modules/loss.py:535: UserWarning:\n",
      "\n",
      "Using a target size (torch.Size([])) that is different to the input size (torch.Size([1])). This will likely lead to incorrect results due to broadcasting. Please ensure they have the same size.\n",
      "\n"
     ]
    },
    {
     "data": {
      "image/png": "[encoded data removed]",
      "text/plain": [
       "<Figure size 640x480 with 1 Axes>"
      ]
     },
     "metadata": {},
     "output_type": "display_data"
    }
   ],
   "source": [
    "model = RegressHate_1_notworking()\n",
    "loss = model._train(m2train_data1,1000, 0.00001)"
   ]
  },
  {
   "cell_type": "markdown",
   "metadata": {},
   "source": [
    "Testing"
   ]
  },
  {
   "cell_type": "code",
   "execution_count": 233,
   "metadata": {},
   "outputs": [],
   "source": [
    "lindict_rev = dict([(l[1],l[0]) for l in lindict.items()])"
   ]
  },
  {
   "cell_type": "code",
   "execution_count": 234,
   "metadata": {},
   "outputs": [
    {
     "data": {
      "text/plain": [
       "{0: 'not_hate', 1: 'implicit_hate', 2: 'explicit_hate'}"
      ]
     },
     "execution_count": 234,
     "metadata": {},
     "output_type": "execute_result"
    }
   ],
   "source": [
    "lindict_rev"
   ]
  },
  {
   "cell_type": "code",
   "execution_count": 235,
   "metadata": {},
   "outputs": [
    {
     "name": "stdout",
     "output_type": "stream",
     "text": [
      "trained 99\n",
      "untrained 88\n"
     ]
    }
   ],
   "source": [
    "correct = 0\n",
    "scoresmart = []\n",
    "ysmart = []\n",
    "predicted = []\n",
    "actual_labelsmart = []\n",
    "for x,y in m2test_data1:\n",
    "    score = model.forward(x)\n",
    "    results = model.score2class(score.item())\n",
    "    if results == lindict_rev[y.item()]:\n",
    "        correct+=1\n",
    "    scoresmart.append(score.item())\n",
    "    ysmart.append(y.item())\n",
    "    actual_labelsmart.append(lindict_rev[(y.item())])\n",
    "    predicted.append(results)\n",
    "print('trained', correct)\n",
    "\n",
    "stupid_model = RegressHate_1_notworking()\n",
    "correct = 0\n",
    "scorestupid = []\n",
    "ystupid = []\n",
    "actual_labelstupid = []\n",
    "for x,y in m2test_data1:\n",
    "    score = stupid_model.forward(x)\n",
    "    results = stupid_model.score2class(score.item())\n",
    "    if results == lindict_rev[y.item()]:\n",
    "        correct+=1\n",
    "    scorestupid.append(score.item())\n",
    "    ystupid.append(y.item())\n",
    "    actual_labelstupid.append(lindict_rev[y.item()])\n",
    "print(\"untrained\",correct)"
   ]
  },
  {
   "cell_type": "code",
   "execution_count": 236,
   "metadata": {},
   "outputs": [
    {
     "name": "stderr",
     "output_type": "stream",
     "text": [
      "/Users/temp/Library/Python/3.9/lib/python/site-packages/plotly/express/_core.py:1980: FutureWarning:\n",
      "\n",
      "When grouping with a length-1 list-like, you will need to pass a length-1 tuple to get_group in a future version of pandas. Pass `(name,)` instead of `name` to silence this warning.\n",
      "\n"
     ]
    },
    {
     "data": {
      "application/vnd.plotly.v1+json": {
       "config": {
        "plotlyServerURL": "https://plot.ly"
       },
       "data": [
        {
         "hovertemplate": "color=not_hate<br>predicted=%{x}<br>actual=%{y}<extra></extra>",
         "legendgroup": "not_hate",
         "marker": {
          "color": "#636efa",
          "opacity": 0.4,
          "symbol": "circle"
         },
         "mode": "markers",
         "name": "not_hate",
         "orientation": "v",
         "showlegend": true,
         "type": "scatter",
         "x": [
          0.16035675891767465,
          -0.4358102552263937,
          0.3364597910459949,
          -0.42585245258538584,
          0.420707710052567,
          0.5915241372598309,
          -0.43961452085662855,
          -0.06771860214620418,
          -0.7432410007286251,
          -0.028074243548861677,
          0.48981412091015125,
          0.6080704514948687,
          -0.18655846335291915,
          1.032575052282842,
          -0.5255903022675935,
          -0.3238618757057282,
          -0.11014340315932175,
          0.4773585437141932,
          0.04178166604997491,
          0.014621174828060524,
          0.3365987659312701,
          0.10580941718836151,
          0.12588371735522147,
          -0.1817453214263166,
          -0.8040449832534661,
          0.36021866814334946,
          0.5035946385938074,
          -0.4849257954104128,
          -0.47050744385406984,
          0.13765829720150202,
          0.10921413091741411,
          -0.5168749901220638,
          0.11433020920708686,
          -0.35172598512517894,
          -0.7899548222866292,
          -0.635164023125546,
          0.22750216548129587,
          0.0612832493261426,
          -0.2643597885154375,
          0.5518016395644527,
          -0.10011806340522139,
          -0.02194338952592023,
          0.3832251796028899,
          0.8891614409298639,
          0.20294682676758413,
          0.5661708172565216,
          -0.6608537285908082,
          0.10758366447231815,
          0.22965934416736428,
          0.2770483773384551,
          -0.21659826377654923,
          -0.35992647215200424,
          0.2913523869713664,
          -0.2600245383149339,
          0.5163609138800375,
          -0.3102443806395697,
          0.13065654349406702,
          -0.383287611407677,
          0.7311922926879553,
          0.1865126051073295,
          0.15079102761858487,
          -0.16581245410163886,
          0.4613402144890097,
          -0.1271923266297963,
          -0.17584049651938283,
          0.2157427858127353,
          0.37729755337499904,
          -0.4198927563016732,
          -0.44375480518678356,
          -0.25665085531152354,
          -0.09114856585981246,
          -0.23204990451361163,
          0.37695381494423563,
          0.05496728105408011,
          0.20442216795959484,
          0.11814014269652046,
          0.2970228443441756,
          -0.06750847535379889,
          -0.041084321323030526,
          0.006101441589639989,
          0.19297706421261004,
          -0.11454311812369794,
          -0.3674885266209623,
          0.020427728188674665,
          0.6358700873101288,
          -0.09981658514422875,
          -0.21114019868441436,
          0.09183948801488728
         ],
         "xaxis": "x",
         "y": [
          0,
          0,
          0,
          0,
          0,
          0,
          0,
          0,
          0,
          0,
          0,
          0,
          0,
          0,
          0,
          0,
          0,
          0,
          0,
          0,
          0,
          0,
          0,
          0,
          0,
          0,
          0,
          0,
          0,
          0,
          0,
          0,
          0,
          0,
          0,
          0,
          0,
          0,
          0,
          0,
          0,
          0,
          0,
          0,
          0,
          0,
          0,
          0,
          0,
          0,
          0,
          0,
          0,
          0,
          0,
          0,
          0,
          0,
          0,
          0,
          0,
          0,
          0,
          0,
          0,
          0,
          0,
          0,
          0,
          0,
          0,
          0,
          0,
          0,
          0,
          0,
          0,
          0,
          0,
          0,
          0,
          0,
          0,
          0,
          0,
          0,
          0,
          0
         ],
         "yaxis": "y"
        },
        {
         "hovertemplate": "color=explicit_hate<br>predicted=%{x}<br>actual=%{y}<extra></extra>",
         "legendgroup": "explicit_hate",
         "marker": {
          "color": "#EF553B",
          "opacity": 0.4,
          "symbol": "circle"
         },
         "mode": "markers",
         "name": "explicit_hate",
         "orientation": "v",
         "showlegend": true,
         "type": "scatter",
         "x": [
          0.36105235144090003,
          1.1169971199315993,
          0.9169292345759871,
          0.27629661770921343,
          1.2421154401172112,
          1.0576991924403125,
          0.8579761290310318,
          0.6427355440063591,
          0.6638201478208526,
          0.6266419378138887,
          0.8860875113761573,
          1.0134943742066822,
          1.0693183244420164,
          0.8850167466937262,
          0.37317992328387956,
          0.5879792679227681,
          1.5656528949859623,
          0.306993157560975,
          0.3384401360845384,
          1.2336780119030712,
          1.118445250618354,
          0.8453855865346768,
          1.3384114509220173,
          0.2053059430058402,
          0.6707189270562632,
          -0.12091332648206976,
          0.902828502045922,
          0.7221681515229039,
          0.8100671144962154,
          0.20076692370251256,
          1.0258698516601652,
          0.23258919987470664,
          0.9098053751563051,
          0.49581832246942203,
          0.5753530426968232,
          0.26700307634744463,
          0.5705100400247779,
          0.3385922831762018,
          0.06750496398423961,
          0.6247116906673327,
          1.2749627649005508,
          0.8088804401800468,
          0.4577370358706756,
          0.3900702710738808,
          0.3601823729388418,
          0.3442698753650813,
          0.3442698753650813,
          0.8626635515252479,
          0.10895225563418631,
          0.6859350075034776,
          0.9539867608369803,
          1.2727920218209454,
          0.6003904023765595,
          1.3201957545313578,
          0.3751511127687787,
          0.6844345078041665,
          0.5983109269506313,
          1.0690831879901874,
          0.3173444821384711,
          1.266068571371731,
          0.03213040226445296,
          1.0492450097104609,
          0.6106505444590633,
          0.535494144010115,
          0.11169938137827634,
          0.4595120287859242,
          0.2746139702709219,
          0.3589111148421409,
          1.0592550317833593,
          -0.0777781289163999,
          0.6575145542286605,
          0.2885695867787241,
          0.6478596079830649,
          0.5992312492665818,
          1.266487681514508,
          0.3712523230695881,
          1.3064951499302417,
          1.1288030932416122,
          0.8918786856967136,
          0.07769962617257098,
          0.40579333917687066,
          0.3359414490999735,
          0.4918354556650801,
          0.47451101724724964,
          0.02546613105200929,
          0.6202478582484521,
          0.9464684397626306,
          0.8028303101465508
         ],
         "xaxis": "x",
         "y": [
          2,
          2,
          2,
          2,
          2,
          2,
          2,
          2,
          2,
          2,
          2,
          2,
          2,
          2,
          2,
          2,
          2,
          2,
          2,
          2,
          2,
          2,
          2,
          2,
          2,
          2,
          2,
          2,
          2,
          2,
          2,
          2,
          2,
          2,
          2,
          2,
          2,
          2,
          2,
          2,
          2,
          2,
          2,
          2,
          2,
          2,
          2,
          2,
          2,
          2,
          2,
          2,
          2,
          2,
          2,
          2,
          2,
          2,
          2,
          2,
          2,
          2,
          2,
          2,
          2,
          2,
          2,
          2,
          2,
          2,
          2,
          2,
          2,
          2,
          2,
          2,
          2,
          2,
          2,
          2,
          2,
          2,
          2,
          2,
          2,
          2,
          2,
          2
         ],
         "yaxis": "y"
        },
        {
         "hovertemplate": "color=implicit_hate<br>predicted=%{x}<br>actual=%{y}<extra></extra>",
         "legendgroup": "implicit_hate",
         "marker": {
          "color": "#00cc96",
          "opacity": 0.4,
          "symbol": "circle"
         },
         "mode": "markers",
         "name": "implicit_hate",
         "orientation": "v",
         "showlegend": true,
         "type": "scatter",
         "x": [
          0.5898812299997369,
          0.214306345130267,
          0.30783739629936135,
          1.0958859681220277,
          0.431889382132713,
          -0.06888770880406941,
          0.49407686310192467,
          0.11966021187118353,
          0.3015164167936573,
          -0.5199346412935578,
          0.2867723707639701,
          0.12915832064302785,
          0.3233374643223569,
          0.27399636038996705,
          0.39983046563836777,
          0.2339546479786015,
          0.0780282470803659,
          0.6928297868085302,
          0.32013071155384404,
          0.20953264982765454,
          0.6474651739731974,
          0.3394818446369514,
          -0.07066247317178265,
          0.19302006820700557,
          0.25822897831046665,
          0.36468787075122344,
          0.22047887112371703,
          0.663260137487819,
          0.6194266282739027,
          0.4849204535540079,
          0.17893486122404406,
          0.10855156919278666,
          0.36833682236624654,
          0.14483528130371212,
          0.317324088732275,
          0.10012538498804807,
          0.5753876390460311,
          -0.04551325065977696,
          0.7289068670939813,
          0.3783431433952439,
          0.3001497481367953,
          -0.015341090114998623,
          0.7088550857564393,
          0.22527191189237233,
          0.7023093528316217,
          0.4255981591245207,
          0.2652832320689187,
          -0.08781538348150336,
          0.4261357266755803,
          1.0603157532151748,
          -0.310134609053319,
          0.5482478701995148,
          0.1161781964469476,
          0.12223598897599894,
          -0.28006430954531036,
          0.3881366285463905,
          0.93281240911271,
          -0.06979617893209528,
          0.44526888581301716,
          0.6770385151708325,
          -0.25784413337238987,
          0.4197644031356975,
          0.3203320542912545,
          0.3272635724530454,
          0.5030123669669582,
          -0.33191602253667296,
          -0.009749564866072757,
          0.4661523646762296,
          0.7829320249963685,
          0.9417377800470655,
          0.4183914322793088,
          0.04419799972844096,
          0.38212210599493446,
          0.13091650510569638,
          0.39242216232928895,
          0.31341055518752586,
          0.44141768516077245,
          -0.047841493811398406,
          0.7554862306414101,
          0.5275505454720456,
          0.19396223923236208,
          0.03949431551434085,
          -0.03100964260364608,
          0.05979605488959605,
          0.22948283243012027,
          0.03445295056144376,
          -0.026921056379422326,
          0.7245383161375342
         ],
         "xaxis": "x",
         "y": [
          1,
          1,
          1,
          1,
          1,
          1,
          1,
          1,
          1,
          1,
          1,
          1,
          1,
          1,
          1,
          1,
          1,
          1,
          1,
          1,
          1,
          1,
          1,
          1,
          1,
          1,
          1,
          1,
          1,
          1,
          1,
          1,
          1,
          1,
          1,
          1,
          1,
          1,
          1,
          1,
          1,
          1,
          1,
          1,
          1,
          1,
          1,
          1,
          1,
          1,
          1,
          1,
          1,
          1,
          1,
          1,
          1,
          1,
          1,
          1,
          1,
          1,
          1,
          1,
          1,
          1,
          1,
          1,
          1,
          1,
          1,
          1,
          1,
          1,
          1,
          1,
          1,
          1,
          1,
          1,
          1,
          1,
          1,
          1,
          1,
          1,
          1,
          1
         ],
         "yaxis": "y"
        }
       ],
       "layout": {
        "legend": {
         "title": {
          "text": "color"
         },
         "tracegroupgap": 0
        },
        "margin": {
         "t": 60
        },
        "template": {
         "data": {
          "bar": [
           {
            "error_x": {
             "color": "#2a3f5f"
            },
            "error_y": {
             "color": "#2a3f5f"
            },
            "marker": {
             "line": {
              "color": "#E5ECF6",
              "width": 0.5
             },
             "pattern": {
              "fillmode": "overlay",
              "size": 10,
              "solidity": 0.2
             }
            },
            "type": "bar"
           }
          ],
          "barpolar": [
           {
            "marker": {
             "line": {
              "color": "#E5ECF6",
              "width": 0.5
             },
             "pattern": {
              "fillmode": "overlay",
              "size": 10,
              "solidity": 0.2
             }
            },
            "type": "barpolar"
           }
          ],
          "carpet": [
           {
            "aaxis": {
             "endlinecolor": "#2a3f5f",
             "gridcolor": "white",
             "linecolor": "white",
             "minorgridcolor": "white",
             "startlinecolor": "#2a3f5f"
            },
            "baxis": {
             "endlinecolor": "#2a3f5f",
             "gridcolor": "white",
             "linecolor": "white",
             "minorgridcolor": "white",
             "startlinecolor": "#2a3f5f"
            },
            "type": "carpet"
           }
          ],
          "choropleth": [
           {
            "colorbar": {
             "outlinewidth": 0,
             "ticks": ""
            },
            "type": "choropleth"
           }
          ],
          "contour": [
           {
            "colorbar": {
             "outlinewidth": 0,
             "ticks": ""
            },
            "colorscale": [
             [
              0,
              "#0d0887"
             ],
             [
              0.1111111111111111,
              "#46039f"
             ],
             [
              0.2222222222222222,
              "#7201a8"
             ],
             [
              0.3333333333333333,
              "#9c179e"
             ],
             [
              0.4444444444444444,
              "#bd3786"
             ],
             [
              0.5555555555555556,
              "#d8576b"
             ],
             [
              0.6666666666666666,
              "#ed7953"
             ],
             [
              0.7777777777777778,
              "#fb9f3a"
             ],
             [
              0.8888888888888888,
              "#fdca26"
             ],
             [
              1,
              "#f0f921"
             ]
            ],
            "type": "contour"
           }
          ],
          "contourcarpet": [
           {
            "colorbar": {
             "outlinewidth": 0,
             "ticks": ""
            },
            "type": "contourcarpet"
           }
          ],
          "heatmap": [
           {
            "colorbar": {
             "outlinewidth": 0,
             "ticks": ""
            },
            "colorscale": [
             [
              0,
              "#0d0887"
             ],
             [
              0.1111111111111111,
              "#46039f"
             ],
             [
              0.2222222222222222,
              "#7201a8"
             ],
             [
              0.3333333333333333,
              "#9c179e"
             ],
             [
              0.4444444444444444,
              "#bd3786"
             ],
             [
              0.5555555555555556,
              "#d8576b"
             ],
             [
              0.6666666666666666,
              "#ed7953"
             ],
             [
              0.7777777777777778,
              "#fb9f3a"
             ],
             [
              0.8888888888888888,
              "#fdca26"
             ],
             [
              1,
              "#f0f921"
             ]
            ],
            "type": "heatmap"
           }
          ],
          "heatmapgl": [
           {
            "colorbar": {
             "outlinewidth": 0,
             "ticks": ""
            },
            "colorscale": [
             [
              0,
              "#0d0887"
             ],
             [
              0.1111111111111111,
              "#46039f"
             ],
             [
              0.2222222222222222,
              "#7201a8"
             ],
             [
              0.3333333333333333,
              "#9c179e"
             ],
             [
              0.4444444444444444,
              "#bd3786"
             ],
             [
              0.5555555555555556,
              "#d8576b"
             ],
             [
              0.6666666666666666,
              "#ed7953"
             ],
             [
              0.7777777777777778,
              "#fb9f3a"
             ],
             [
              0.8888888888888888,
              "#fdca26"
             ],
             [
              1,
              "#f0f921"
             ]
            ],
            "type": "heatmapgl"
           }
          ],
          "histogram": [
           {
            "marker": {
             "pattern": {
              "fillmode": "overlay",
              "size": 10,
              "solidity": 0.2
             }
            },
            "type": "histogram"
           }
          ],
          "histogram2d": [
           {
            "colorbar": {
             "outlinewidth": 0,
             "ticks": ""
            },
            "colorscale": [
             [
              0,
              "#0d0887"
             ],
             [
              0.1111111111111111,
              "#46039f"
             ],
             [
              0.2222222222222222,
              "#7201a8"
             ],
             [
              0.3333333333333333,
              "#9c179e"
             ],
             [
              0.4444444444444444,
              "#bd3786"
             ],
             [
              0.5555555555555556,
              "#d8576b"
             ],
             [
              0.6666666666666666,
              "#ed7953"
             ],
             [
              0.7777777777777778,
              "#fb9f3a"
             ],
             [
              0.8888888888888888,
              "#fdca26"
             ],
             [
              1,
              "#f0f921"
             ]
            ],
            "type": "histogram2d"
           }
          ],
          "histogram2dcontour": [
           {
            "colorbar": {
             "outlinewidth": 0,
             "ticks": ""
            },
            "colorscale": [
             [
              0,
              "#0d0887"
             ],
             [
              0.1111111111111111,
              "#46039f"
             ],
             [
              0.2222222222222222,
              "#7201a8"
             ],
             [
              0.3333333333333333,
              "#9c179e"
             ],
             [
              0.4444444444444444,
              "#bd3786"
             ],
             [
              0.5555555555555556,
              "#d8576b"
             ],
             [
              0.6666666666666666,
              "#ed7953"
             ],
             [
              0.7777777777777778,
              "#fb9f3a"
             ],
             [
              0.8888888888888888,
              "#fdca26"
             ],
             [
              1,
              "#f0f921"
             ]
            ],
            "type": "histogram2dcontour"
           }
          ],
          "mesh3d": [
           {
            "colorbar": {
             "outlinewidth": 0,
             "ticks": ""
            },
            "type": "mesh3d"
           }
          ],
          "parcoords": [
           {
            "line": {
             "colorbar": {
              "outlinewidth": 0,
              "ticks": ""
             }
            },
            "type": "parcoords"
           }
          ],
          "pie": [
           {
            "automargin": true,
            "type": "pie"
           }
          ],
          "scatter": [
           {
            "fillpattern": {
             "fillmode": "overlay",
             "size": 10,
             "solidity": 0.2
            },
            "type": "scatter"
           }
          ],
          "scatter3d": [
           {
            "line": {
             "colorbar": {
              "outlinewidth": 0,
              "ticks": ""
             }
            },
            "marker": {
             "colorbar": {
              "outlinewidth": 0,
              "ticks": ""
             }
            },
            "type": "scatter3d"
           }
          ],
          "scattercarpet": [
           {
            "marker": {
             "colorbar": {
              "outlinewidth": 0,
              "ticks": ""
             }
            },
            "type": "scattercarpet"
           }
          ],
          "scattergeo": [
           {
            "marker": {
             "colorbar": {
              "outlinewidth": 0,
              "ticks": ""
             }
            },
            "type": "scattergeo"
           }
          ],
          "scattergl": [
           {
            "marker": {
             "colorbar": {
              "outlinewidth": 0,
              "ticks": ""
             }
            },
            "type": "scattergl"
           }
          ],
          "scattermapbox": [
           {
            "marker": {
             "colorbar": {
              "outlinewidth": 0,
              "ticks": ""
             }
            },
            "type": "scattermapbox"
           }
          ],
          "scatterpolar": [
           {
            "marker": {
             "colorbar": {
              "outlinewidth": 0,
              "ticks": ""
             }
            },
            "type": "scatterpolar"
           }
          ],
          "scatterpolargl": [
           {
            "marker": {
             "colorbar": {
              "outlinewidth": 0,
              "ticks": ""
             }
            },
            "type": "scatterpolargl"
           }
          ],
          "scatterternary": [
           {
            "marker": {
             "colorbar": {
              "outlinewidth": 0,
              "ticks": ""
             }
            },
            "type": "scatterternary"
           }
          ],
          "surface": [
           {
            "colorbar": {
             "outlinewidth": 0,
             "ticks": ""
            },
            "colorscale": [
             [
              0,
              "#0d0887"
             ],
             [
              0.1111111111111111,
              "#46039f"
             ],
             [
              0.2222222222222222,
              "#7201a8"
             ],
             [
              0.3333333333333333,
              "#9c179e"
             ],
             [
              0.4444444444444444,
              "#bd3786"
             ],
             [
              0.5555555555555556,
              "#d8576b"
             ],
             [
              0.6666666666666666,
              "#ed7953"
             ],
             [
              0.7777777777777778,
              "#fb9f3a"
             ],
             [
              0.8888888888888888,
              "#fdca26"
             ],
             [
              1,
              "#f0f921"
             ]
            ],
            "type": "surface"
           }
          ],
          "table": [
           {
            "cells": {
             "fill": {
              "color": "#EBF0F8"
             },
             "line": {
              "color": "white"
             }
            },
            "header": {
             "fill": {
              "color": "#C8D4E3"
             },
             "line": {
              "color": "white"
             }
            },
            "type": "table"
           }
          ]
         },
         "layout": {
          "annotationdefaults": {
           "arrowcolor": "#2a3f5f",
           "arrowhead": 0,
           "arrowwidth": 1
          },
          "autotypenumbers": "strict",
          "coloraxis": {
           "colorbar": {
            "outlinewidth": 0,
            "ticks": ""
           }
          },
          "colorscale": {
           "diverging": [
            [
             0,
             "#8e0152"
            ],
            [
             0.1,
             "#c51b7d"
            ],
            [
             0.2,
             "#de77ae"
            ],
            [
             0.3,
             "#f1b6da"
            ],
            [
             0.4,
             "#fde0ef"
            ],
            [
             0.5,
             "#f7f7f7"
            ],
            [
             0.6,
             "#e6f5d0"
            ],
            [
             0.7,
             "#b8e186"
            ],
            [
             0.8,
             "#7fbc41"
            ],
            [
             0.9,
             "#4d9221"
            ],
            [
             1,
             "#276419"
            ]
           ],
           "sequential": [
            [
             0,
             "#0d0887"
            ],
            [
             0.1111111111111111,
             "#46039f"
            ],
            [
             0.2222222222222222,
             "#7201a8"
            ],
            [
             0.3333333333333333,
             "#9c179e"
            ],
            [
             0.4444444444444444,
             "#bd3786"
            ],
            [
             0.5555555555555556,
             "#d8576b"
            ],
            [
             0.6666666666666666,
             "#ed7953"
            ],
            [
             0.7777777777777778,
             "#fb9f3a"
            ],
            [
             0.8888888888888888,
             "#fdca26"
            ],
            [
             1,
             "#f0f921"
            ]
           ],
           "sequentialminus": [
            [
             0,
             "#0d0887"
            ],
            [
             0.1111111111111111,
             "#46039f"
            ],
            [
             0.2222222222222222,
             "#7201a8"
            ],
            [
             0.3333333333333333,
             "#9c179e"
            ],
            [
             0.4444444444444444,
             "#bd3786"
            ],
            [
             0.5555555555555556,
             "#d8576b"
            ],
            [
             0.6666666666666666,
             "#ed7953"
            ],
            [
             0.7777777777777778,
             "#fb9f3a"
            ],
            [
             0.8888888888888888,
             "#fdca26"
            ],
            [
             1,
             "#f0f921"
            ]
           ]
          },
          "colorway": [
           "#636efa",
           "#EF553B",
           "#00cc96",
           "#ab63fa",
           "#FFA15A",
           "#19d3f3",
           "#FF6692",
           "#B6E880",
           "#FF97FF",
           "#FECB52"
          ],
          "font": {
           "color": "#2a3f5f"
          },
          "geo": {
           "bgcolor": "white",
           "lakecolor": "white",
           "landcolor": "#E5ECF6",
           "showlakes": true,
           "showland": true,
           "subunitcolor": "white"
          },
          "hoverlabel": {
           "align": "left"
          },
          "hovermode": "closest",
          "mapbox": {
           "style": "light"
          },
          "paper_bgcolor": "white",
          "plot_bgcolor": "#E5ECF6",
          "polar": {
           "angularaxis": {
            "gridcolor": "white",
            "linecolor": "white",
            "ticks": ""
           },
           "bgcolor": "#E5ECF6",
           "radialaxis": {
            "gridcolor": "white",
            "linecolor": "white",
            "ticks": ""
           }
          },
          "scene": {
           "xaxis": {
            "backgroundcolor": "#E5ECF6",
            "gridcolor": "white",
            "gridwidth": 2,
            "linecolor": "white",
            "showbackground": true,
            "ticks": "",
            "zerolinecolor": "white"
           },
           "yaxis": {
            "backgroundcolor": "#E5ECF6",
            "gridcolor": "white",
            "gridwidth": 2,
            "linecolor": "white",
            "showbackground": true,
            "ticks": "",
            "zerolinecolor": "white"
           },
           "zaxis": {
            "backgroundcolor": "#E5ECF6",
            "gridcolor": "white",
            "gridwidth": 2,
            "linecolor": "white",
            "showbackground": true,
            "ticks": "",
            "zerolinecolor": "white"
           }
          },
          "shapedefaults": {
           "line": {
            "color": "#2a3f5f"
           }
          },
          "ternary": {
           "aaxis": {
            "gridcolor": "white",
            "linecolor": "white",
            "ticks": ""
           },
           "baxis": {
            "gridcolor": "white",
            "linecolor": "white",
            "ticks": ""
           },
           "bgcolor": "#E5ECF6",
           "caxis": {
            "gridcolor": "white",
            "linecolor": "white",
            "ticks": ""
           }
          },
          "title": {
           "x": 0.05
          },
          "xaxis": {
           "automargin": true,
           "gridcolor": "white",
           "linecolor": "white",
           "ticks": "",
           "title": {
            "standoff": 15
           },
           "zerolinecolor": "white",
           "zerolinewidth": 2
          },
          "yaxis": {
           "automargin": true,
           "gridcolor": "white",
           "linecolor": "white",
           "ticks": "",
           "title": {
            "standoff": 15
           },
           "zerolinecolor": "white",
           "zerolinewidth": 2
          }
         }
        },
        "xaxis": {
         "anchor": "y",
         "domain": [
          0,
          1
         ],
         "title": {
          "text": "predicted"
         }
        },
        "yaxis": {
         "anchor": "x",
         "domain": [
          0,
          1
         ],
         "title": {
          "text": "actual"
         }
        }
       }
      }
     },
     "metadata": {},
     "output_type": "display_data"
    }
   ],
   "source": [
    "rdfsmart = pd.DataFrame()\n",
    "rdfsmart['predicted'] = scoresmart\n",
    "rdfsmart['actual'] = ysmart\n",
    "rdfsmart['color'] = actual_labelsmart\n",
    "fig = px.scatter(rdfsmart, x='predicted', y='actual',\n",
    "                    color='color',size_max=.01,opacity=0.4)\n",
    "fig.show()"
   ]
  },
  {
   "cell_type": "code",
   "execution_count": 237,
   "metadata": {},
   "outputs": [
    {
     "name": "stderr",
     "output_type": "stream",
     "text": [
      "/Users/temp/Library/Python/3.9/lib/python/site-packages/plotly/express/_core.py:1980: FutureWarning:\n",
      "\n",
      "When grouping with a length-1 list-like, you will need to pass a length-1 tuple to get_group in a future version of pandas. Pass `(name,)` instead of `name` to silence this warning.\n",
      "\n"
     ]
    },
    {
     "data": {
      "application/vnd.plotly.v1+json": {
       "config": {
        "plotlyServerURL": "https://plot.ly"
       },
       "data": [
        {
         "hovertemplate": "color=not_hate<br>predicted=%{x}<br>actual=%{y}<extra></extra>",
         "legendgroup": "not_hate",
         "marker": {
          "color": "#636efa",
          "opacity": 0.4,
          "symbol": "circle"
         },
         "mode": "markers",
         "name": "not_hate",
         "orientation": "v",
         "showlegend": true,
         "type": "scatter",
         "x": [
          0,
          0,
          0,
          0,
          0,
          0,
          0,
          0,
          0,
          0,
          0,
          0,
          0,
          0,
          0,
          0,
          0,
          0,
          0,
          0,
          0,
          0,
          0,
          0,
          0,
          0,
          0,
          0,
          0,
          0,
          0,
          0,
          0,
          0,
          0,
          0,
          0,
          0,
          0,
          0,
          0,
          0,
          0,
          0,
          0,
          0,
          0,
          0,
          0,
          0,
          0,
          0,
          0,
          0,
          0,
          0,
          0,
          0,
          0,
          0,
          0,
          0,
          0,
          0,
          0,
          0,
          0,
          0,
          0,
          0,
          0,
          0,
          0,
          0,
          0,
          0,
          0,
          0,
          0,
          0,
          0,
          0,
          0,
          0,
          0,
          0,
          0,
          0
         ],
         "xaxis": "x",
         "y": [
          0,
          0,
          0,
          0,
          0,
          0,
          0,
          0,
          0,
          0,
          0,
          0,
          0,
          0,
          0,
          0,
          0,
          0,
          0,
          0,
          0,
          0,
          0,
          0,
          0,
          0,
          0,
          0,
          0,
          0,
          0,
          0,
          0,
          0,
          0,
          0,
          0,
          0,
          0,
          0,
          0,
          0,
          0,
          0,
          0,
          0,
          0,
          0,
          0,
          0,
          0,
          0,
          0,
          0,
          0,
          0,
          0,
          0,
          0,
          0,
          0,
          0,
          0,
          0,
          0,
          0,
          0,
          0,
          0,
          0,
          0,
          0,
          0,
          0,
          0,
          0,
          0,
          0,
          0,
          0,
          0,
          0,
          0,
          0,
          0,
          0,
          0,
          0
         ],
         "yaxis": "y"
        },
        {
         "hovertemplate": "color=explicit_hate<br>predicted=%{x}<br>actual=%{y}<extra></extra>",
         "legendgroup": "explicit_hate",
         "marker": {
          "color": "#EF553B",
          "opacity": 0.4,
          "symbol": "circle"
         },
         "mode": "markers",
         "name": "explicit_hate",
         "orientation": "v",
         "showlegend": true,
         "type": "scatter",
         "x": [
          0,
          0,
          0,
          0,
          0,
          0,
          0,
          0,
          0,
          0,
          0,
          0,
          0,
          0,
          0,
          0,
          0,
          0,
          0,
          0,
          0,
          0,
          0,
          0,
          0,
          0,
          0,
          0,
          0,
          0,
          0,
          0,
          0,
          0,
          0,
          0,
          0,
          0,
          0,
          0,
          0,
          0,
          0,
          0,
          0,
          0,
          0,
          0,
          0,
          0,
          0,
          0,
          0,
          0,
          0,
          0,
          0,
          0,
          0,
          0,
          0,
          0,
          0,
          0,
          0,
          0,
          0,
          0,
          0,
          0,
          0,
          0,
          0,
          0,
          0,
          0,
          0,
          0,
          0,
          0,
          0,
          0,
          0,
          0,
          0,
          0,
          0,
          0
         ],
         "xaxis": "x",
         "y": [
          2,
          2,
          2,
          2,
          2,
          2,
          2,
          2,
          2,
          2,
          2,
          2,
          2,
          2,
          2,
          2,
          2,
          2,
          2,
          2,
          2,
          2,
          2,
          2,
          2,
          2,
          2,
          2,
          2,
          2,
          2,
          2,
          2,
          2,
          2,
          2,
          2,
          2,
          2,
          2,
          2,
          2,
          2,
          2,
          2,
          2,
          2,
          2,
          2,
          2,
          2,
          2,
          2,
          2,
          2,
          2,
          2,
          2,
          2,
          2,
          2,
          2,
          2,
          2,
          2,
          2,
          2,
          2,
          2,
          2,
          2,
          2,
          2,
          2,
          2,
          2,
          2,
          2,
          2,
          2,
          2,
          2,
          2,
          2,
          2,
          2,
          2,
          2
         ],
         "yaxis": "y"
        },
        {
         "hovertemplate": "color=implicit_hate<br>predicted=%{x}<br>actual=%{y}<extra></extra>",
         "legendgroup": "implicit_hate",
         "marker": {
          "color": "#00cc96",
          "opacity": 0.4,
          "symbol": "circle"
         },
         "mode": "markers",
         "name": "implicit_hate",
         "orientation": "v",
         "showlegend": true,
         "type": "scatter",
         "x": [
          0,
          0,
          0,
          0,
          0,
          0,
          0,
          0,
          0,
          0,
          0,
          0,
          0,
          0,
          0,
          0,
          0,
          0,
          0,
          0,
          0,
          0,
          0,
          0,
          0,
          0,
          0,
          0,
          0,
          0,
          0,
          0,
          0,
          0,
          0,
          0,
          0,
          0,
          0,
          0,
          0,
          0,
          0,
          0,
          0,
          0,
          0,
          0,
          0,
          0,
          0,
          0,
          0,
          0,
          0,
          0,
          0,
          0,
          0,
          0,
          0,
          0,
          0,
          0,
          0,
          0,
          0,
          0,
          0,
          0,
          0,
          0,
          0,
          0,
          0,
          0,
          0,
          0,
          0,
          0,
          0,
          0,
          0,
          0,
          0,
          0,
          0,
          0
         ],
         "xaxis": "x",
         "y": [
          1,
          1,
          1,
          1,
          1,
          1,
          1,
          1,
          1,
          1,
          1,
          1,
          1,
          1,
          1,
          1,
          1,
          1,
          1,
          1,
          1,
          1,
          1,
          1,
          1,
          1,
          1,
          1,
          1,
          1,
          1,
          1,
          1,
          1,
          1,
          1,
          1,
          1,
          1,
          1,
          1,
          1,
          1,
          1,
          1,
          1,
          1,
          1,
          1,
          1,
          1,
          1,
          1,
          1,
          1,
          1,
          1,
          1,
          1,
          1,
          1,
          1,
          1,
          1,
          1,
          1,
          1,
          1,
          1,
          1,
          1,
          1,
          1,
          1,
          1,
          1,
          1,
          1,
          1,
          1,
          1,
          1,
          1,
          1,
          1,
          1,
          1,
          1
         ],
         "yaxis": "y"
        }
       ],
       "layout": {
        "legend": {
         "title": {
          "text": "color"
         },
         "tracegroupgap": 0
        },
        "margin": {
         "t": 60
        },
        "template": {
         "data": {
          "bar": [
           {
            "error_x": {
             "color": "#2a3f5f"
            },
            "error_y": {
             "color": "#2a3f5f"
            },
            "marker": {
             "line": {
              "color": "#E5ECF6",
              "width": 0.5
             },
             "pattern": {
              "fillmode": "overlay",
              "size": 10,
              "solidity": 0.2
             }
            },
            "type": "bar"
           }
          ],
          "barpolar": [
           {
            "marker": {
             "line": {
              "color": "#E5ECF6",
              "width": 0.5
             },
             "pattern": {
              "fillmode": "overlay",
              "size": 10,
              "solidity": 0.2
             }
            },
            "type": "barpolar"
           }
          ],
          "carpet": [
           {
            "aaxis": {
             "endlinecolor": "#2a3f5f",
             "gridcolor": "white",
             "linecolor": "white",
             "minorgridcolor": "white",
             "startlinecolor": "#2a3f5f"
            },
            "baxis": {
             "endlinecolor": "#2a3f5f",
             "gridcolor": "white",
             "linecolor": "white",
             "minorgridcolor": "white",
             "startlinecolor": "#2a3f5f"
            },
            "type": "carpet"
           }
          ],
          "choropleth": [
           {
            "colorbar": {
             "outlinewidth": 0,
             "ticks": ""
            },
            "type": "choropleth"
           }
          ],
          "contour": [
           {
            "colorbar": {
             "outlinewidth": 0,
             "ticks": ""
            },
            "colorscale": [
             [
              0,
              "#0d0887"
             ],
             [
              0.1111111111111111,
              "#46039f"
             ],
             [
              0.2222222222222222,
              "#7201a8"
             ],
             [
              0.3333333333333333,
              "#9c179e"
             ],
             [
              0.4444444444444444,
              "#bd3786"
             ],
             [
              0.5555555555555556,
              "#d8576b"
             ],
             [
              0.6666666666666666,
              "#ed7953"
             ],
             [
              0.7777777777777778,
              "#fb9f3a"
             ],
             [
              0.8888888888888888,
              "#fdca26"
             ],
             [
              1,
              "#f0f921"
             ]
            ],
            "type": "contour"
           }
          ],
          "contourcarpet": [
           {
            "colorbar": {
             "outlinewidth": 0,
             "ticks": ""
            },
            "type": "contourcarpet"
           }
          ],
          "heatmap": [
           {
            "colorbar": {
             "outlinewidth": 0,
             "ticks": ""
            },
            "colorscale": [
             [
              0,
              "#0d0887"
             ],
             [
              0.1111111111111111,
              "#46039f"
             ],
             [
              0.2222222222222222,
              "#7201a8"
             ],
             [
              0.3333333333333333,
              "#9c179e"
             ],
             [
              0.4444444444444444,
              "#bd3786"
             ],
             [
              0.5555555555555556,
              "#d8576b"
             ],
             [
              0.6666666666666666,
              "#ed7953"
             ],
             [
              0.7777777777777778,
              "#fb9f3a"
             ],
             [
              0.8888888888888888,
              "#fdca26"
             ],
             [
              1,
              "#f0f921"
             ]
            ],
            "type": "heatmap"
           }
          ],
          "heatmapgl": [
           {
            "colorbar": {
             "outlinewidth": 0,
             "ticks": ""
            },
            "colorscale": [
             [
              0,
              "#0d0887"
             ],
             [
              0.1111111111111111,
              "#46039f"
             ],
             [
              0.2222222222222222,
              "#7201a8"
             ],
             [
              0.3333333333333333,
              "#9c179e"
             ],
             [
              0.4444444444444444,
              "#bd3786"
             ],
             [
              0.5555555555555556,
              "#d8576b"
             ],
             [
              0.6666666666666666,
              "#ed7953"
             ],
             [
              0.7777777777777778,
              "#fb9f3a"
             ],
             [
              0.8888888888888888,
              "#fdca26"
             ],
             [
              1,
              "#f0f921"
             ]
            ],
            "type": "heatmapgl"
           }
          ],
          "histogram": [
           {
            "marker": {
             "pattern": {
              "fillmode": "overlay",
              "size": 10,
              "solidity": 0.2
             }
            },
            "type": "histogram"
           }
          ],
          "histogram2d": [
           {
            "colorbar": {
             "outlinewidth": 0,
             "ticks": ""
            },
            "colorscale": [
             [
              0,
              "#0d0887"
             ],
             [
              0.1111111111111111,
              "#46039f"
             ],
             [
              0.2222222222222222,
              "#7201a8"
             ],
             [
              0.3333333333333333,
              "#9c179e"
             ],
             [
              0.4444444444444444,
              "#bd3786"
             ],
             [
              0.5555555555555556,
              "#d8576b"
             ],
             [
              0.6666666666666666,
              "#ed7953"
             ],
             [
              0.7777777777777778,
              "#fb9f3a"
             ],
             [
              0.8888888888888888,
              "#fdca26"
             ],
             [
              1,
              "#f0f921"
             ]
            ],
            "type": "histogram2d"
           }
          ],
          "histogram2dcontour": [
           {
            "colorbar": {
             "outlinewidth": 0,
             "ticks": ""
            },
            "colorscale": [
             [
              0,
              "#0d0887"
             ],
             [
              0.1111111111111111,
              "#46039f"
             ],
             [
              0.2222222222222222,
              "#7201a8"
             ],
             [
              0.3333333333333333,
              "#9c179e"
             ],
             [
              0.4444444444444444,
              "#bd3786"
             ],
             [
              0.5555555555555556,
              "#d8576b"
             ],
             [
              0.6666666666666666,
              "#ed7953"
             ],
             [
              0.7777777777777778,
              "#fb9f3a"
             ],
             [
              0.8888888888888888,
              "#fdca26"
             ],
             [
              1,
              "#f0f921"
             ]
            ],
            "type": "histogram2dcontour"
           }
          ],
          "mesh3d": [
           {
            "colorbar": {
             "outlinewidth": 0,
             "ticks": ""
            },
            "type": "mesh3d"
           }
          ],
          "parcoords": [
           {
            "line": {
             "colorbar": {
              "outlinewidth": 0,
              "ticks": ""
             }
            },
            "type": "parcoords"
           }
          ],
          "pie": [
           {
            "automargin": true,
            "type": "pie"
           }
          ],
          "scatter": [
           {
            "fillpattern": {
             "fillmode": "overlay",
             "size": 10,
             "solidity": 0.2
            },
            "type": "scatter"
           }
          ],
          "scatter3d": [
           {
            "line": {
             "colorbar": {
              "outlinewidth": 0,
              "ticks": ""
             }
            },
            "marker": {
             "colorbar": {
              "outlinewidth": 0,
              "ticks": ""
             }
            },
            "type": "scatter3d"
           }
          ],
          "scattercarpet": [
           {
            "marker": {
             "colorbar": {
              "outlinewidth": 0,
              "ticks": ""
             }
            },
            "type": "scattercarpet"
           }
          ],
          "scattergeo": [
           {
            "marker": {
             "colorbar": {
              "outlinewidth": 0,
              "ticks": ""
             }
            },
            "type": "scattergeo"
           }
          ],
          "scattergl": [
           {
            "marker": {
             "colorbar": {
              "outlinewidth": 0,
              "ticks": ""
             }
            },
            "type": "scattergl"
           }
          ],
          "scattermapbox": [
           {
            "marker": {
             "colorbar": {
              "outlinewidth": 0,
              "ticks": ""
             }
            },
            "type": "scattermapbox"
           }
          ],
          "scatterpolar": [
           {
            "marker": {
             "colorbar": {
              "outlinewidth": 0,
              "ticks": ""
             }
            },
            "type": "scatterpolar"
           }
          ],
          "scatterpolargl": [
           {
            "marker": {
             "colorbar": {
              "outlinewidth": 0,
              "ticks": ""
             }
            },
            "type": "scatterpolargl"
           }
          ],
          "scatterternary": [
           {
            "marker": {
             "colorbar": {
              "outlinewidth": 0,
              "ticks": ""
             }
            },
            "type": "scatterternary"
           }
          ],
          "surface": [
           {
            "colorbar": {
             "outlinewidth": 0,
             "ticks": ""
            },
            "colorscale": [
             [
              0,
              "#0d0887"
             ],
             [
              0.1111111111111111,
              "#46039f"
             ],
             [
              0.2222222222222222,
              "#7201a8"
             ],
             [
              0.3333333333333333,
              "#9c179e"
             ],
             [
              0.4444444444444444,
              "#bd3786"
             ],
             [
              0.5555555555555556,
              "#d8576b"
             ],
             [
              0.6666666666666666,
              "#ed7953"
             ],
             [
              0.7777777777777778,
              "#fb9f3a"
             ],
             [
              0.8888888888888888,
              "#fdca26"
             ],
             [
              1,
              "#f0f921"
             ]
            ],
            "type": "surface"
           }
          ],
          "table": [
           {
            "cells": {
             "fill": {
              "color": "#EBF0F8"
             },
             "line": {
              "color": "white"
             }
            },
            "header": {
             "fill": {
              "color": "#C8D4E3"
             },
             "line": {
              "color": "white"
             }
            },
            "type": "table"
           }
          ]
         },
         "layout": {
          "annotationdefaults": {
           "arrowcolor": "#2a3f5f",
           "arrowhead": 0,
           "arrowwidth": 1
          },
          "autotypenumbers": "strict",
          "coloraxis": {
           "colorbar": {
            "outlinewidth": 0,
            "ticks": ""
           }
          },
          "colorscale": {
           "diverging": [
            [
             0,
             "#8e0152"
            ],
            [
             0.1,
             "#c51b7d"
            ],
            [
             0.2,
             "#de77ae"
            ],
            [
             0.3,
             "#f1b6da"
            ],
            [
             0.4,
             "#fde0ef"
            ],
            [
             0.5,
             "#f7f7f7"
            ],
            [
             0.6,
             "#e6f5d0"
            ],
            [
             0.7,
             "#b8e186"
            ],
            [
             0.8,
             "#7fbc41"
            ],
            [
             0.9,
             "#4d9221"
            ],
            [
             1,
             "#276419"
            ]
           ],
           "sequential": [
            [
             0,
             "#0d0887"
            ],
            [
             0.1111111111111111,
             "#46039f"
            ],
            [
             0.2222222222222222,
             "#7201a8"
            ],
            [
             0.3333333333333333,
             "#9c179e"
            ],
            [
             0.4444444444444444,
             "#bd3786"
            ],
            [
             0.5555555555555556,
             "#d8576b"
            ],
            [
             0.6666666666666666,
             "#ed7953"
            ],
            [
             0.7777777777777778,
             "#fb9f3a"
            ],
            [
             0.8888888888888888,
             "#fdca26"
            ],
            [
             1,
             "#f0f921"
            ]
           ],
           "sequentialminus": [
            [
             0,
             "#0d0887"
            ],
            [
             0.1111111111111111,
             "#46039f"
            ],
            [
             0.2222222222222222,
             "#7201a8"
            ],
            [
             0.3333333333333333,
             "#9c179e"
            ],
            [
             0.4444444444444444,
             "#bd3786"
            ],
            [
             0.5555555555555556,
             "#d8576b"
            ],
            [
             0.6666666666666666,
             "#ed7953"
            ],
            [
             0.7777777777777778,
             "#fb9f3a"
            ],
            [
             0.8888888888888888,
             "#fdca26"
            ],
            [
             1,
             "#f0f921"
            ]
           ]
          },
          "colorway": [
           "#636efa",
           "#EF553B",
           "#00cc96",
           "#ab63fa",
           "#FFA15A",
           "#19d3f3",
           "#FF6692",
           "#B6E880",
           "#FF97FF",
           "#FECB52"
          ],
          "font": {
           "color": "#2a3f5f"
          },
          "geo": {
           "bgcolor": "white",
           "lakecolor": "white",
           "landcolor": "#E5ECF6",
           "showlakes": true,
           "showland": true,
           "subunitcolor": "white"
          },
          "hoverlabel": {
           "align": "left"
          },
          "hovermode": "closest",
          "mapbox": {
           "style": "light"
          },
          "paper_bgcolor": "white",
          "plot_bgcolor": "#E5ECF6",
          "polar": {
           "angularaxis": {
            "gridcolor": "white",
            "linecolor": "white",
            "ticks": ""
           },
           "bgcolor": "#E5ECF6",
           "radialaxis": {
            "gridcolor": "white",
            "linecolor": "white",
            "ticks": ""
           }
          },
          "scene": {
           "xaxis": {
            "backgroundcolor": "#E5ECF6",
            "gridcolor": "white",
            "gridwidth": 2,
            "linecolor": "white",
            "showbackground": true,
            "ticks": "",
            "zerolinecolor": "white"
           },
           "yaxis": {
            "backgroundcolor": "#E5ECF6",
            "gridcolor": "white",
            "gridwidth": 2,
            "linecolor": "white",
            "showbackground": true,
            "ticks": "",
            "zerolinecolor": "white"
           },
           "zaxis": {
            "backgroundcolor": "#E5ECF6",
            "gridcolor": "white",
            "gridwidth": 2,
            "linecolor": "white",
            "showbackground": true,
            "ticks": "",
            "zerolinecolor": "white"
           }
          },
          "shapedefaults": {
           "line": {
            "color": "#2a3f5f"
           }
          },
          "ternary": {
           "aaxis": {
            "gridcolor": "white",
            "linecolor": "white",
            "ticks": ""
           },
           "baxis": {
            "gridcolor": "white",
            "linecolor": "white",
            "ticks": ""
           },
           "bgcolor": "#E5ECF6",
           "caxis": {
            "gridcolor": "white",
            "linecolor": "white",
            "ticks": ""
           }
          },
          "title": {
           "x": 0.05
          },
          "xaxis": {
           "automargin": true,
           "gridcolor": "white",
           "linecolor": "white",
           "ticks": "",
           "title": {
            "standoff": 15
           },
           "zerolinecolor": "white",
           "zerolinewidth": 2
          },
          "yaxis": {
           "automargin": true,
           "gridcolor": "white",
           "linecolor": "white",
           "ticks": "",
           "title": {
            "standoff": 15
           },
           "zerolinecolor": "white",
           "zerolinewidth": 2
          }
         }
        },
        "xaxis": {
         "anchor": "y",
         "domain": [
          0,
          1
         ],
         "title": {
          "text": "predicted"
         }
        },
        "yaxis": {
         "anchor": "x",
         "domain": [
          0,
          1
         ],
         "title": {
          "text": "actual"
         }
        }
       }
      }
     },
     "metadata": {},
     "output_type": "display_data"
    }
   ],
   "source": [
    "rdfstupid = pd.DataFrame()\n",
    "rdfstupid['predicted'] = scorestupid\n",
    "rdfstupid['actual'] = ystupid\n",
    "rdfstupid['color'] = actual_labelstupid\n",
    "fig = px.scatter(rdfstupid, x='predicted', y='actual',\n",
    "                    color='color',size_max=.01,opacity=0.4)\n",
    "fig.show()"
   ]
  },
  {
   "cell_type": "code",
   "execution_count": 238,
   "metadata": {},
   "outputs": [
    {
     "name": "stdout",
     "output_type": "stream",
     "text": [
      "Parameter containing:\n",
      "tensor([0.3261], dtype=torch.float64, requires_grad=True)\n"
     ]
    }
   ],
   "source": [
    "print(model.linear.bias)"
   ]
  },
  {
   "cell_type": "code",
   "execution_count": 239,
   "metadata": {},
   "outputs": [
    {
     "data": {
      "text/plain": [
       "actual  pred_num\n",
       "0.0     0           78\n",
       "1.0     0           68\n",
       "2.0     1           52\n",
       "        0           35\n",
       "1.0     1           20\n",
       "0.0     1           10\n",
       "2.0     2            1\n",
       "Name: count, dtype: int64"
      ]
     },
     "execution_count": 239,
     "metadata": {},
     "output_type": "execute_result"
    }
   ],
   "source": [
    "rdfsmart['pred_num'] = [(lindict[y]) for y in predicted]\n",
    "rdfsmart.value_counts([\"actual\",\"pred_num\"])"
   ]
  },
  {
   "cell_type": "code",
   "execution_count": 240,
   "metadata": {},
   "outputs": [
    {
     "name": "stderr",
     "output_type": "stream",
     "text": [
      "/var/folders/4z/bnyz3w2s6lg97h_fm4lt5ksr0000gn/T/ipykernel_1280/2638514855.py:1: DeprecationWarning:\n",
      "\n",
      "an integer is required (got type float).  Implicit conversion to integers using __int__ is deprecated, and may be removed in a future version of Python.\n",
      "\n"
     ]
    },
    {
     "data": {
      "text/plain": [
       "tensor([[78, 10,  0],\n",
       "        [68, 20,  0],\n",
       "        [35, 52,  1]])"
      ]
     },
     "execution_count": 240,
     "metadata": {},
     "output_type": "execute_result"
    }
   ],
   "source": [
    "multiclass_confusion_matrix(torch.tensor([(lindict[y]) for y in predicted],dtype=torch.int64),torch.tensor([(y) for y in ysmart],dtype=torch.int64),3)"
   ]
  },
  {
   "cell_type": "markdown",
   "metadata": {},
   "source": [
    "<h3>2-pc regression</h3>"
   ]
  },
  {
   "cell_type": "code",
   "execution_count": 241,
   "metadata": {},
   "outputs": [],
   "source": [
    "class Hate2pc_Lin(nn.Module):\n",
    "    def __init__(self):\n",
    "        super(Hate2pc_Lin,self).__init__()\n",
    "        self.linear1 = nn.Linear(384,1)\n",
    "        self.linear1.weight = torch.nn.Parameter(torch.zeros((1,384),dtype=torch.float64,requires_grad=True))\n",
    "        self.linear1.bias = torch.nn.Parameter(torch.tensor([0],dtype=torch.float64,requires_grad=True))\n",
    "\n",
    "        self.linear2 = nn.Linear(384,1)\n",
    "        self.linear2.weight = torch.nn.Parameter(torch.zeros((1,384),dtype=torch.float64,requires_grad=True))\n",
    "        self.linear2.bias = torch.nn.Parameter(torch.tensor([0],dtype=torch.float64,requires_grad=True))\n",
    "        \n",
    "        self.hate = torch.tensor([1],dtype=torch.float64,requires_grad=True)\n",
    "        self.nothate = torch.tensor([1],dtype=torch.float64,requires_grad=True)\n",
    "        self.S = torch.tensor([1],dtype=torch.float64,requires_grad=True)\n",
    "\n",
    "        self.labels = ['not_hate','implicit_hate','explicit_hate']\n",
    "        self.diff = []\n",
    "        self.output = torch.tensor([1],dtype=torch.float64,requires_grad=True)\n",
    "        return\n",
    "    \n",
    "    def forward(self,x):        \n",
    "        self.hate = self.linear1(x)\n",
    "        self.nothate = self.linear2(x)\n",
    "        self.S = torch.subtract(self.hate,self.nothate)\n",
    "        \n",
    "        return self.S,self.nothate,self.hate\n",
    "\n",
    "    def score2class(self,y):\n",
    "        self.diff = torch.abs(torch.subtract(torch.tensor([0,1,2],dtype=torch.float64),torch.tensor([y,y,y],dtype=torch.float64)))\n",
    "        return self.labels[torch.argmin(self.diff)]\n",
    "    \n",
    "    def _print(self):\n",
    "        print(\"W1\",\"\\n\",self.linear1.weight)\n",
    "        print(\"W2\",\"\\n\",self.linear2.weight)\n",
    "        print(\"S\",\"\\n\",self.S)\n",
    "        print(\"hate\",\"\\n\",self.hate)\n",
    "        print(\"not hate\",\"\\n\",self.nothate)\n",
    "        return\n",
    "    def _train(self,data,epochs,learning_rate):\n",
    "        criterion = nn.MSELoss()\n",
    "        torch.random.manual_seed(42)  \n",
    "        np.random.seed(42)\n",
    "        optimizer = torch.optim.Adam(self.parameters(),\n",
    "                                        lr=learning_rate)\n",
    "        sched = StepLR(optimizer,gamma=0.3,step_size=100)\n",
    "        loss_val = []\n",
    "        # main training loop\n",
    "        for epoch in range(epochs):\n",
    "            np.random.shuffle(data)\n",
    "            #self._print()\n",
    "            losses = []\n",
    "            for batch, (X, y) in enumerate(data[:300]):\n",
    "                #print(y)\n",
    "                result = self.forward(X)\n",
    "                loss = criterion(result[0],y)\n",
    "                optimizer.zero_grad()\n",
    "                loss.backward()      # computes all the gradients\n",
    "                optimizer.step()\n",
    "                losses.append(loss.item())\n",
    "            loss_val.append(np.mean(losses))\n",
    "            sched.step()\n",
    "        plt.figure()\n",
    "        plt.plot(loss_val, '-')\n",
    "        plt.ylabel('loss')\n",
    "        plt.xlabel('epoch')\n",
    "        plt.show()\n",
    "        return loss_val\n",
    "            "
   ]
  },
  {
   "cell_type": "code",
   "execution_count": 242,
   "metadata": {},
   "outputs": [
    {
     "name": "stderr",
     "output_type": "stream",
     "text": [
      "/Users/temp/Library/Python/3.9/lib/python/site-packages/torch/nn/modules/loss.py:535: UserWarning:\n",
      "\n",
      "Using a target size (torch.Size([])) that is different to the input size (torch.Size([1])). This will likely lead to incorrect results due to broadcasting. Please ensure they have the same size.\n",
      "\n"
     ]
    },
    {
     "data": {
      "image/png": "[encoded data removed]",
      "text/plain": [
       "<Figure size 640x480 with 1 Axes>"
      ]
     },
     "metadata": {},
     "output_type": "display_data"
    }
   ],
   "source": [
    "model = Hate2pc_Lin()\n",
    "loss = model._train(m2train_data1,1000, 0.00001)"
   ]
  },
  {
   "cell_type": "code",
   "execution_count": 243,
   "metadata": {},
   "outputs": [
    {
     "name": "stdout",
     "output_type": "stream",
     "text": [
      "trained 133\n",
      "untrained 88\n"
     ]
    }
   ],
   "source": [
    "correct = 0\n",
    "scoresmart = []\n",
    "predicted = []\n",
    "actual = []\n",
    "d1 = []\n",
    "d2 = []\n",
    "for x,y in m2test_data1:\n",
    "    score = model.forward(x)\n",
    "    results = model.score2class(score[0].item())\n",
    "    if results == lindict_rev[y.item()]:\n",
    "        correct+=1\n",
    "    scoresmart.append(score[0].item())\n",
    "    actual.append(model.score2class(y.item()))\n",
    "    predicted.append(results)\n",
    "    d1.append(score[1].item())\n",
    "    d2.append(score[2].item())\n",
    "\n",
    "print(\"trained\",correct)\n",
    "\n",
    "stupid_model = RegressHate_1_notworking()\n",
    "correct = 0\n",
    "scorestupid = []\n",
    "ystupid = []\n",
    "resultstupid = []\n",
    "for x,y in m2test_data1:\n",
    "    score = stupid_model.forward(x)\n",
    "    result = stupid_model.score2class(score.item())\n",
    "    if result == lindict_rev[y.item()]:\n",
    "        correct+=1\n",
    "    scorestupid.append(score.item())\n",
    "    ystupid.append(y.item())\n",
    "    actual_labelstupid.append(lindict_rev[y.item()])\n",
    "print(\"untrained\",correct)"
   ]
  },
  {
   "cell_type": "code",
   "execution_count": 244,
   "metadata": {},
   "outputs": [],
   "source": [
    "df2pc = pd.DataFrame()\n",
    "df2pc['d1'] = d1\n",
    "df2pc['d2'] = d2\n",
    "df2pc['actual'] = actual\n",
    "df2pc['predicted'] = predicted"
   ]
  },
  {
   "cell_type": "code",
   "execution_count": 245,
   "metadata": {},
   "outputs": [
    {
     "name": "stderr",
     "output_type": "stream",
     "text": [
      "/Users/temp/Library/Python/3.9/lib/python/site-packages/plotly/express/_core.py:1980: FutureWarning:\n",
      "\n",
      "When grouping with a length-1 list-like, you will need to pass a length-1 tuple to get_group in a future version of pandas. Pass `(name,)` instead of `name` to silence this warning.\n",
      "\n"
     ]
    },
    {
     "data": {
      "application/vnd.plotly.v1+json": {
       "config": {
        "plotlyServerURL": "https://plot.ly"
       },
       "data": [
        {
         "hovertemplate": "actual=not_hate<br>d1=%{x}<br>d2=%{y}<extra></extra>",
         "legendgroup": "not_hate",
         "marker": {
          "color": "#636efa",
          "opacity": 0.4,
          "symbol": "circle"
         },
         "mode": "markers",
         "name": "not_hate",
         "orientation": "v",
         "showlegend": true,
         "type": "scatter",
         "x": [
          -0.21517429923295334,
          0.06861528132066413,
          -0.2707043186744422,
          0.07183780152801106,
          -0.2966169160749341,
          -0.41801648992267093,
          0.1337451115987246,
          -0.06949764481062093,
          0.2817173180046107,
          -0.07142049263784062,
          -0.3214742283946723,
          -0.4200908483645569,
          0.014225006506886517,
          -0.7149290704011888,
          0.16008444017147916,
          0.13323962072790974,
          -0.08283730216545909,
          -0.3272770546038512,
          -0.10468201130106924,
          -0.11411636862103244,
          -0.23101182474066917,
          -0.21686444295003257,
          -0.1302441643372812,
          0.002759550371192687,
          0.2937901704152693,
          -0.27763597640106663,
          -0.3836389694293827,
          0.13426897262183696,
          0.11490126575175358,
          -0.20439945868241868,
          -0.11639273151516621,
          0.15848477123218435,
          -0.20899101409377435,
          0.12699153118766932,
          0.31773884176624306,
          0.2645616535564648,
          -0.2415623693991551,
          -0.2065101702499391,
          0.002336582731180259,
          -0.40378644396917895,
          -0.1155300898697206,
          -0.1347047141317747,
          -0.27804653350502984,
          -0.5947776008635326,
          -0.33207248201267037,
          -0.40391746763295555,
          0.2618093854475921,
          -0.08327897259164985,
          -0.21487159747027818,
          -0.21290508128360522,
          0.024343804696400906,
          0.05259147888905141,
          -0.33608274662775917,
          0.02488862259057878,
          -0.4215612369917683,
          0.04249713972351937,
          -0.11507139631328597,
          0.1055240980886265,
          -0.5105084511208229,
          -0.21256452854235997,
          -0.23312810821838068,
          -0.054218702425683024,
          -0.41958626878555816,
          -0.05643387941634026,
          0.10898773898505348,
          -0.23334608052215502,
          -0.30216341444115247,
          0.04824969297528775,
          0.12619456989925631,
          0.031071376353725588,
          -0.018770258374503246,
          0.008931690833840655,
          -0.36782168753515904,
          -0.08359716920352353,
          -0.26351787080314276,
          -0.2681001561952002,
          -0.2639808172464422,
          -0.03446632701634017,
          -0.09998624091313277,
          -0.11132463710353002,
          -0.2460949932719192,
          -0.0025721249572707716,
          0.05563486684166252,
          -0.09429538633760448,
          -0.4987650428902119,
          -0.08827841153323834,
          -0.004457162777428525,
          -0.2484444255917958
         ],
         "xaxis": "x",
         "y": [
          0.21517429923295334,
          -0.06861528132066413,
          0.2707043186744422,
          -0.07183780152801106,
          0.2966169160749341,
          0.41801648992267093,
          -0.1337451115987246,
          0.06949764481062093,
          -0.2817173180046107,
          0.07142049263784062,
          0.3214742283946723,
          0.4200908483645569,
          -0.014225006506886517,
          0.7149290704011888,
          -0.16008444017147916,
          -0.13323962072790974,
          0.08283730216545909,
          0.3272770546038512,
          0.10468201130106924,
          0.11411636862103244,
          0.23101182474066917,
          0.21686444295003257,
          0.1302441643372812,
          -0.002759550371192687,
          -0.2937901704152693,
          0.27763597640106663,
          0.3836389694293827,
          -0.13426897262183696,
          -0.11490126575175358,
          0.20439945868241868,
          0.11639273151516621,
          -0.15848477123218435,
          0.20899101409377435,
          -0.12699153118766932,
          -0.31773884176624306,
          -0.2645616535564648,
          0.2415623693991551,
          0.2065101702499391,
          -0.002336582731180259,
          0.40378644396917895,
          0.1155300898697206,
          0.1347047141317747,
          0.27804653350502984,
          0.5947776008635326,
          0.33207248201267037,
          0.40391746763295555,
          -0.2618093854475921,
          0.08327897259164985,
          0.21487159747027818,
          0.21290508128360522,
          -0.024343804696400906,
          -0.05259147888905141,
          0.33608274662775917,
          -0.02488862259057878,
          0.4215612369917683,
          -0.04249713972351937,
          0.11507139631328597,
          -0.1055240980886265,
          0.5105084511208229,
          0.21256452854235997,
          0.23312810821838068,
          0.054218702425683024,
          0.41958626878555816,
          0.05643387941634026,
          -0.10898773898505348,
          0.23334608052215502,
          0.30216341444115247,
          -0.04824969297528775,
          -0.12619456989925631,
          -0.031071376353725588,
          0.018770258374503246,
          -0.008931690833840655,
          0.36782168753515904,
          0.08359716920352353,
          0.26351787080314276,
          0.2681001561952002,
          0.2639808172464422,
          0.03446632701634017,
          0.09998624091313277,
          0.11132463710353002,
          0.2460949932719192,
          0.0025721249572707716,
          -0.05563486684166252,
          0.09429538633760448,
          0.4987650428902119,
          0.08827841153323834,
          0.004457162777428525,
          0.2484444255917958
         ],
         "yaxis": "y"
        },
        {
         "hovertemplate": "actual=explicit_hate<br>d1=%{x}<br>d2=%{y}<extra></extra>",
         "legendgroup": "explicit_hate",
         "marker": {
          "color": "#EF553B",
          "opacity": 0.4,
          "symbol": "circle"
         },
         "mode": "markers",
         "name": "explicit_hate",
         "orientation": "v",
         "showlegend": true,
         "type": "scatter",
         "x": [
          -0.31878736810997854,
          -0.8179370028503732,
          -0.6184821136566773,
          -0.2959040730750945,
          -0.8207357104560331,
          -0.7586899708348946,
          -0.6261220460876841,
          -0.5175971101613311,
          -0.5146843348541545,
          -0.4783517711440948,
          -0.642988204236004,
          -0.7082645973014683,
          -0.6902906058964169,
          -0.6941248033616796,
          -0.36765631852504255,
          -0.3644773362950804,
          -1.0712600366205676,
          -0.3491314265407057,
          -0.23113347401550452,
          -0.8169340992722887,
          -0.7703339166295464,
          -0.5599224543197932,
          -0.876481931875819,
          -0.18377294512115014,
          -0.4751397876985796,
          -0.07333579981691174,
          -0.5765862191736209,
          -0.503524720618984,
          -0.5597155049341067,
          -0.19817169735930018,
          -0.6667547177249931,
          -0.24641184636140195,
          -0.6929512378103678,
          -0.3939070230878239,
          -0.41009452016120673,
          -0.27580223152523337,
          -0.3861437128112625,
          -0.28717842465090215,
          -0.1390767303233527,
          -0.49019137962483983,
          -0.8264632778084697,
          -0.581587834748273,
          -0.32825481487056585,
          -0.3069890714193381,
          -0.30445614724361114,
          -0.2888787041261237,
          -0.2888787041261237,
          -0.6128627393994648,
          -0.16107372436824172,
          -0.45201063689086146,
          -0.6581208032117369,
          -0.8778079345335903,
          -0.48405732735048634,
          -0.8808971254704396,
          -0.37713607375686925,
          -0.49289803865292026,
          -0.440946535210497,
          -0.7832173727594955,
          -0.2824677932568395,
          -0.8811369515077612,
          -0.05851292744573372,
          -0.6789043646181316,
          -0.4518983475550644,
          -0.4676558964391659,
          -0.2211356809963292,
          -0.3731288705388124,
          -0.17490320420359257,
          -0.29698684716812335,
          -0.7646216502873611,
          -0.040270617181656754,
          -0.4376248697629419,
          -0.21591788423753205,
          -0.4660829937845231,
          -0.42129912928982105,
          -0.7861380620561693,
          -0.2995579701772697,
          -0.8853289589513638,
          -0.7809534025438851,
          -0.6082313745353052,
          -0.17282391699924,
          -0.4274473064292218,
          -0.3240429385139405,
          -0.39417091960719697,
          -0.3960313365429852,
          -0.11100601843823382,
          -0.5013929322303506,
          -0.6464648945101195,
          -0.6054022616849934
         ],
         "xaxis": "x",
         "y": [
          0.31878736810997854,
          0.8179370028503732,
          0.6184821136566773,
          0.2959040730750945,
          0.8207357104560331,
          0.7586899708348946,
          0.6261220460876841,
          0.5175971101613311,
          0.5146843348541545,
          0.4783517711440948,
          0.642988204236004,
          0.7082645973014683,
          0.6902906058964169,
          0.6941248033616796,
          0.36765631852504255,
          0.3644773362950804,
          1.0712600366205676,
          0.3491314265407057,
          0.23113347401550452,
          0.8169340992722887,
          0.7703339166295464,
          0.5599224543197932,
          0.876481931875819,
          0.18377294512115014,
          0.4751397876985796,
          0.07333579981691174,
          0.5765862191736209,
          0.503524720618984,
          0.5597155049341067,
          0.19817169735930018,
          0.6667547177249931,
          0.24641184636140195,
          0.6929512378103678,
          0.3939070230878239,
          0.41009452016120673,
          0.27580223152523337,
          0.3861437128112625,
          0.28717842465090215,
          0.1390767303233527,
          0.49019137962483983,
          0.8264632778084697,
          0.581587834748273,
          0.32825481487056585,
          0.3069890714193381,
          0.30445614724361114,
          0.2888787041261237,
          0.2888787041261237,
          0.6128627393994648,
          0.16107372436824172,
          0.45201063689086146,
          0.6581208032117369,
          0.8778079345335903,
          0.48405732735048634,
          0.8808971254704396,
          0.37713607375686925,
          0.49289803865292026,
          0.440946535210497,
          0.7832173727594955,
          0.2824677932568395,
          0.8811369515077612,
          0.05851292744573372,
          0.6789043646181316,
          0.4518983475550644,
          0.4676558964391659,
          0.2211356809963292,
          0.3731288705388124,
          0.17490320420359257,
          0.29698684716812335,
          0.7646216502873611,
          0.040270617181656754,
          0.4376248697629419,
          0.21591788423753205,
          0.4660829937845231,
          0.42129912928982105,
          0.7861380620561693,
          0.2995579701772697,
          0.8853289589513638,
          0.7809534025438851,
          0.6082313745353052,
          0.17282391699924,
          0.4274473064292218,
          0.3240429385139405,
          0.39417091960719697,
          0.3960313365429852,
          0.11100601843823382,
          0.5013929322303506,
          0.6464648945101195,
          0.6054022616849934
         ],
         "yaxis": "y"
        },
        {
         "hovertemplate": "actual=implicit_hate<br>d1=%{x}<br>d2=%{y}<extra></extra>",
         "legendgroup": "implicit_hate",
         "marker": {
          "color": "#00cc96",
          "opacity": 0.4,
          "symbol": "circle"
         },
         "mode": "markers",
         "name": "implicit_hate",
         "orientation": "v",
         "showlegend": true,
         "type": "scatter",
         "x": [
          -0.4093193591802709,
          -0.30108887061613326,
          -0.29169493283312686,
          -0.6859210143871266,
          -0.3659491227241112,
          -0.07944034247113946,
          -0.360798305414831,
          -0.1109375405735736,
          -0.2981633259804458,
          0.12810719660826037,
          -0.26589029498867656,
          -0.11525344442195062,
          -0.29516624069649444,
          -0.25182296669311593,
          -0.2917980341020479,
          -0.26722968292406624,
          -0.15176441998639417,
          -0.5776124809516581,
          -0.30123364511649137,
          -0.25229313909897444,
          -0.5005986830635875,
          -0.3274331447942461,
          -0.09576327527470466,
          -0.23599031868533632,
          -0.21404281429593128,
          -0.3391119525567261,
          -0.19537285887472294,
          -0.4948234662275989,
          -0.4438136938551814,
          -0.33779703387045856,
          -0.15729613349811133,
          -0.14973972819326334,
          -0.3423960856835379,
          -0.20071911306994838,
          -0.2558115948259158,
          -0.1848562312926021,
          -0.4914889012401019,
          -0.08583329836879267,
          -0.5061824314910568,
          -0.35102477418711675,
          -0.2610801146450894,
          -0.16936579509130661,
          -0.4809997229572389,
          -0.20510923802164455,
          -0.4947486950092427,
          -0.33715483463027573,
          -0.23674596128240452,
          -0.09631934370284978,
          -0.2890352539412861,
          -0.709471058272684,
          0.10001849201401536,
          -0.4023185717754495,
          -0.19710340665849052,
          -0.20013412433684577,
          0.02422901972362901,
          -0.3725345947465836,
          -0.7147301640569865,
          -0.04352792510652642,
          -0.365546119743994,
          -0.43725919075013236,
          0.05704932183688671,
          -0.3324623296104486,
          -0.32368976776340275,
          -0.282612283356054,
          -0.359582109744911,
          0.04197053087528857,
          -0.09623550775627943,
          -0.4297459873782855,
          -0.5080375764949785,
          -0.6425579549719145,
          -0.33574688027368216,
          -0.18569156574563897,
          -0.3243865312052645,
          -0.2040879058798183,
          -0.35862728969092755,
          -0.30099443637522266,
          -0.3743717918646966,
          -0.11665622746418869,
          -0.48747467464580885,
          -0.3563680746249608,
          -0.15748403031349273,
          -0.15753635836418958,
          -0.05837910246662956,
          -0.13399989744949703,
          -0.2673982567659193,
          -0.11830470525362613,
          -0.12731458918788432,
          -0.46676843205718255
         ],
         "xaxis": "x",
         "y": [
          0.4093193591802709,
          0.30108887061613326,
          0.29169493283312686,
          0.6859210143871266,
          0.3659491227241112,
          0.07944034247113946,
          0.360798305414831,
          0.1109375405735736,
          0.2981633259804458,
          -0.12810719660826037,
          0.26589029498867656,
          0.11525344442195062,
          0.29516624069649444,
          0.25182296669311593,
          0.2917980341020479,
          0.26722968292406624,
          0.15176441998639417,
          0.5776124809516581,
          0.30123364511649137,
          0.25229313909897444,
          0.5005986830635875,
          0.3274331447942461,
          0.09576327527470466,
          0.23599031868533632,
          0.21404281429593128,
          0.3391119525567261,
          0.19537285887472294,
          0.4948234662275989,
          0.4438136938551814,
          0.33779703387045856,
          0.15729613349811133,
          0.14973972819326334,
          0.3423960856835379,
          0.20071911306994838,
          0.2558115948259158,
          0.1848562312926021,
          0.4914889012401019,
          0.08583329836879267,
          0.5061824314910568,
          0.35102477418711675,
          0.2610801146450894,
          0.16936579509130661,
          0.4809997229572389,
          0.20510923802164455,
          0.4947486950092427,
          0.33715483463027573,
          0.23674596128240452,
          0.09631934370284978,
          0.2890352539412861,
          0.709471058272684,
          -0.10001849201401536,
          0.4023185717754495,
          0.19710340665849052,
          0.20013412433684577,
          -0.02422901972362901,
          0.3725345947465836,
          0.7147301640569865,
          0.04352792510652642,
          0.365546119743994,
          0.43725919075013236,
          -0.05704932183688671,
          0.3324623296104486,
          0.32368976776340275,
          0.282612283356054,
          0.359582109744911,
          -0.04197053087528857,
          0.09623550775627943,
          0.4297459873782855,
          0.5080375764949785,
          0.6425579549719145,
          0.33574688027368216,
          0.18569156574563897,
          0.3243865312052645,
          0.2040879058798183,
          0.35862728969092755,
          0.30099443637522266,
          0.3743717918646966,
          0.11665622746418869,
          0.48747467464580885,
          0.3563680746249608,
          0.15748403031349273,
          0.15753635836418958,
          0.05837910246662956,
          0.13399989744949703,
          0.2673982567659193,
          0.11830470525362613,
          0.12731458918788432,
          0.46676843205718255
         ],
         "yaxis": "y"
        }
       ],
       "layout": {
        "legend": {
         "title": {
          "text": "actual"
         },
         "tracegroupgap": 0
        },
        "margin": {
         "t": 60
        },
        "template": {
         "data": {
          "bar": [
           {
            "error_x": {
             "color": "#2a3f5f"
            },
            "error_y": {
             "color": "#2a3f5f"
            },
            "marker": {
             "line": {
              "color": "#E5ECF6",
              "width": 0.5
             },
             "pattern": {
              "fillmode": "overlay",
              "size": 10,
              "solidity": 0.2
             }
            },
            "type": "bar"
           }
          ],
          "barpolar": [
           {
            "marker": {
             "line": {
              "color": "#E5ECF6",
              "width": 0.5
             },
             "pattern": {
              "fillmode": "overlay",
              "size": 10,
              "solidity": 0.2
             }
            },
            "type": "barpolar"
           }
          ],
          "carpet": [
           {
            "aaxis": {
             "endlinecolor": "#2a3f5f",
             "gridcolor": "white",
             "linecolor": "white",
             "minorgridcolor": "white",
             "startlinecolor": "#2a3f5f"
            },
            "baxis": {
             "endlinecolor": "#2a3f5f",
             "gridcolor": "white",
             "linecolor": "white",
             "minorgridcolor": "white",
             "startlinecolor": "#2a3f5f"
            },
            "type": "carpet"
           }
          ],
          "choropleth": [
           {
            "colorbar": {
             "outlinewidth": 0,
             "ticks": ""
            },
            "type": "choropleth"
           }
          ],
          "contour": [
           {
            "colorbar": {
             "outlinewidth": 0,
             "ticks": ""
            },
            "colorscale": [
             [
              0,
              "#0d0887"
             ],
             [
              0.1111111111111111,
              "#46039f"
             ],
             [
              0.2222222222222222,
              "#7201a8"
             ],
             [
              0.3333333333333333,
              "#9c179e"
             ],
             [
              0.4444444444444444,
              "#bd3786"
             ],
             [
              0.5555555555555556,
              "#d8576b"
             ],
             [
              0.6666666666666666,
              "#ed7953"
             ],
             [
              0.7777777777777778,
              "#fb9f3a"
             ],
             [
              0.8888888888888888,
              "#fdca26"
             ],
             [
              1,
              "#f0f921"
             ]
            ],
            "type": "contour"
           }
          ],
          "contourcarpet": [
           {
            "colorbar": {
             "outlinewidth": 0,
             "ticks": ""
            },
            "type": "contourcarpet"
           }
          ],
          "heatmap": [
           {
            "colorbar": {
             "outlinewidth": 0,
             "ticks": ""
            },
            "colorscale": [
             [
              0,
              "#0d0887"
             ],
             [
              0.1111111111111111,
              "#46039f"
             ],
             [
              0.2222222222222222,
              "#7201a8"
             ],
             [
              0.3333333333333333,
              "#9c179e"
             ],
             [
              0.4444444444444444,
              "#bd3786"
             ],
             [
              0.5555555555555556,
              "#d8576b"
             ],
             [
              0.6666666666666666,
              "#ed7953"
             ],
             [
              0.7777777777777778,
              "#fb9f3a"
             ],
             [
              0.8888888888888888,
              "#fdca26"
             ],
             [
              1,
              "#f0f921"
             ]
            ],
            "type": "heatmap"
           }
          ],
          "heatmapgl": [
           {
            "colorbar": {
             "outlinewidth": 0,
             "ticks": ""
            },
            "colorscale": [
             [
              0,
              "#0d0887"
             ],
             [
              0.1111111111111111,
              "#46039f"
             ],
             [
              0.2222222222222222,
              "#7201a8"
             ],
             [
              0.3333333333333333,
              "#9c179e"
             ],
             [
              0.4444444444444444,
              "#bd3786"
             ],
             [
              0.5555555555555556,
              "#d8576b"
             ],
             [
              0.6666666666666666,
              "#ed7953"
             ],
             [
              0.7777777777777778,
              "#fb9f3a"
             ],
             [
              0.8888888888888888,
              "#fdca26"
             ],
             [
              1,
              "#f0f921"
             ]
            ],
            "type": "heatmapgl"
           }
          ],
          "histogram": [
           {
            "marker": {
             "pattern": {
              "fillmode": "overlay",
              "size": 10,
              "solidity": 0.2
             }
            },
            "type": "histogram"
           }
          ],
          "histogram2d": [
           {
            "colorbar": {
             "outlinewidth": 0,
             "ticks": ""
            },
            "colorscale": [
             [
              0,
              "#0d0887"
             ],
             [
              0.1111111111111111,
              "#46039f"
             ],
             [
              0.2222222222222222,
              "#7201a8"
             ],
             [
              0.3333333333333333,
              "#9c179e"
             ],
             [
              0.4444444444444444,
              "#bd3786"
             ],
             [
              0.5555555555555556,
              "#d8576b"
             ],
             [
              0.6666666666666666,
              "#ed7953"
             ],
             [
              0.7777777777777778,
              "#fb9f3a"
             ],
             [
              0.8888888888888888,
              "#fdca26"
             ],
             [
              1,
              "#f0f921"
             ]
            ],
            "type": "histogram2d"
           }
          ],
          "histogram2dcontour": [
           {
            "colorbar": {
             "outlinewidth": 0,
             "ticks": ""
            },
            "colorscale": [
             [
              0,
              "#0d0887"
             ],
             [
              0.1111111111111111,
              "#46039f"
             ],
             [
              0.2222222222222222,
              "#7201a8"
             ],
             [
              0.3333333333333333,
              "#9c179e"
             ],
             [
              0.4444444444444444,
              "#bd3786"
             ],
             [
              0.5555555555555556,
              "#d8576b"
             ],
             [
              0.6666666666666666,
              "#ed7953"
             ],
             [
              0.7777777777777778,
              "#fb9f3a"
             ],
             [
              0.8888888888888888,
              "#fdca26"
             ],
             [
              1,
              "#f0f921"
             ]
            ],
            "type": "histogram2dcontour"
           }
          ],
          "mesh3d": [
           {
            "colorbar": {
             "outlinewidth": 0,
             "ticks": ""
            },
            "type": "mesh3d"
           }
          ],
          "parcoords": [
           {
            "line": {
             "colorbar": {
              "outlinewidth": 0,
              "ticks": ""
             }
            },
            "type": "parcoords"
           }
          ],
          "pie": [
           {
            "automargin": true,
            "type": "pie"
           }
          ],
          "scatter": [
           {
            "fillpattern": {
             "fillmode": "overlay",
             "size": 10,
             "solidity": 0.2
            },
            "type": "scatter"
           }
          ],
          "scatter3d": [
           {
            "line": {
             "colorbar": {
              "outlinewidth": 0,
              "ticks": ""
             }
            },
            "marker": {
             "colorbar": {
              "outlinewidth": 0,
              "ticks": ""
             }
            },
            "type": "scatter3d"
           }
          ],
          "scattercarpet": [
           {
            "marker": {
             "colorbar": {
              "outlinewidth": 0,
              "ticks": ""
             }
            },
            "type": "scattercarpet"
           }
          ],
          "scattergeo": [
           {
            "marker": {
             "colorbar": {
              "outlinewidth": 0,
              "ticks": ""
             }
            },
            "type": "scattergeo"
           }
          ],
          "scattergl": [
           {
            "marker": {
             "colorbar": {
              "outlinewidth": 0,
              "ticks": ""
             }
            },
            "type": "scattergl"
           }
          ],
          "scattermapbox": [
           {
            "marker": {
             "colorbar": {
              "outlinewidth": 0,
              "ticks": ""
             }
            },
            "type": "scattermapbox"
           }
          ],
          "scatterpolar": [
           {
            "marker": {
             "colorbar": {
              "outlinewidth": 0,
              "ticks": ""
             }
            },
            "type": "scatterpolar"
           }
          ],
          "scatterpolargl": [
           {
            "marker": {
             "colorbar": {
              "outlinewidth": 0,
              "ticks": ""
             }
            },
            "type": "scatterpolargl"
           }
          ],
          "scatterternary": [
           {
            "marker": {
             "colorbar": {
              "outlinewidth": 0,
              "ticks": ""
             }
            },
            "type": "scatterternary"
           }
          ],
          "surface": [
           {
            "colorbar": {
             "outlinewidth": 0,
             "ticks": ""
            },
            "colorscale": [
             [
              0,
              "#0d0887"
             ],
             [
              0.1111111111111111,
              "#46039f"
             ],
             [
              0.2222222222222222,
              "#7201a8"
             ],
             [
              0.3333333333333333,
              "#9c179e"
             ],
             [
              0.4444444444444444,
              "#bd3786"
             ],
             [
              0.5555555555555556,
              "#d8576b"
             ],
             [
              0.6666666666666666,
              "#ed7953"
             ],
             [
              0.7777777777777778,
              "#fb9f3a"
             ],
             [
              0.8888888888888888,
              "#fdca26"
             ],
             [
              1,
              "#f0f921"
             ]
            ],
            "type": "surface"
           }
          ],
          "table": [
           {
            "cells": {
             "fill": {
              "color": "#EBF0F8"
             },
             "line": {
              "color": "white"
             }
            },
            "header": {
             "fill": {
              "color": "#C8D4E3"
             },
             "line": {
              "color": "white"
             }
            },
            "type": "table"
           }
          ]
         },
         "layout": {
          "annotationdefaults": {
           "arrowcolor": "#2a3f5f",
           "arrowhead": 0,
           "arrowwidth": 1
          },
          "autotypenumbers": "strict",
          "coloraxis": {
           "colorbar": {
            "outlinewidth": 0,
            "ticks": ""
           }
          },
          "colorscale": {
           "diverging": [
            [
             0,
             "#8e0152"
            ],
            [
             0.1,
             "#c51b7d"
            ],
            [
             0.2,
             "#de77ae"
            ],
            [
             0.3,
             "#f1b6da"
            ],
            [
             0.4,
             "#fde0ef"
            ],
            [
             0.5,
             "#f7f7f7"
            ],
            [
             0.6,
             "#e6f5d0"
            ],
            [
             0.7,
             "#b8e186"
            ],
            [
             0.8,
             "#7fbc41"
            ],
            [
             0.9,
             "#4d9221"
            ],
            [
             1,
             "#276419"
            ]
           ],
           "sequential": [
            [
             0,
             "#0d0887"
            ],
            [
             0.1111111111111111,
             "#46039f"
            ],
            [
             0.2222222222222222,
             "#7201a8"
            ],
            [
             0.3333333333333333,
             "#9c179e"
            ],
            [
             0.4444444444444444,
             "#bd3786"
            ],
            [
             0.5555555555555556,
             "#d8576b"
            ],
            [
             0.6666666666666666,
             "#ed7953"
            ],
            [
             0.7777777777777778,
             "#fb9f3a"
            ],
            [
             0.8888888888888888,
             "#fdca26"
            ],
            [
             1,
             "#f0f921"
            ]
           ],
           "sequentialminus": [
            [
             0,
             "#0d0887"
            ],
            [
             0.1111111111111111,
             "#46039f"
            ],
            [
             0.2222222222222222,
             "#7201a8"
            ],
            [
             0.3333333333333333,
             "#9c179e"
            ],
            [
             0.4444444444444444,
             "#bd3786"
            ],
            [
             0.5555555555555556,
             "#d8576b"
            ],
            [
             0.6666666666666666,
             "#ed7953"
            ],
            [
             0.7777777777777778,
             "#fb9f3a"
            ],
            [
             0.8888888888888888,
             "#fdca26"
            ],
            [
             1,
             "#f0f921"
            ]
           ]
          },
          "colorway": [
           "#636efa",
           "#EF553B",
           "#00cc96",
           "#ab63fa",
           "#FFA15A",
           "#19d3f3",
           "#FF6692",
           "#B6E880",
           "#FF97FF",
           "#FECB52"
          ],
          "font": {
           "color": "#2a3f5f"
          },
          "geo": {
           "bgcolor": "white",
           "lakecolor": "white",
           "landcolor": "#E5ECF6",
           "showlakes": true,
           "showland": true,
           "subunitcolor": "white"
          },
          "hoverlabel": {
           "align": "left"
          },
          "hovermode": "closest",
          "mapbox": {
           "style": "light"
          },
          "paper_bgcolor": "white",
          "plot_bgcolor": "#E5ECF6",
          "polar": {
           "angularaxis": {
            "gridcolor": "white",
            "linecolor": "white",
            "ticks": ""
           },
           "bgcolor": "#E5ECF6",
           "radialaxis": {
            "gridcolor": "white",
            "linecolor": "white",
            "ticks": ""
           }
          },
          "scene": {
           "xaxis": {
            "backgroundcolor": "#E5ECF6",
            "gridcolor": "white",
            "gridwidth": 2,
            "linecolor": "white",
            "showbackground": true,
            "ticks": "",
            "zerolinecolor": "white"
           },
           "yaxis": {
            "backgroundcolor": "#E5ECF6",
            "gridcolor": "white",
            "gridwidth": 2,
            "linecolor": "white",
            "showbackground": true,
            "ticks": "",
            "zerolinecolor": "white"
           },
           "zaxis": {
            "backgroundcolor": "#E5ECF6",
            "gridcolor": "white",
            "gridwidth": 2,
            "linecolor": "white",
            "showbackground": true,
            "ticks": "",
            "zerolinecolor": "white"
           }
          },
          "shapedefaults": {
           "line": {
            "color": "#2a3f5f"
           }
          },
          "ternary": {
           "aaxis": {
            "gridcolor": "white",
            "linecolor": "white",
            "ticks": ""
           },
           "baxis": {
            "gridcolor": "white",
            "linecolor": "white",
            "ticks": ""
           },
           "bgcolor": "#E5ECF6",
           "caxis": {
            "gridcolor": "white",
            "linecolor": "white",
            "ticks": ""
           }
          },
          "title": {
           "x": 0.05
          },
          "xaxis": {
           "automargin": true,
           "gridcolor": "white",
           "linecolor": "white",
           "ticks": "",
           "title": {
            "standoff": 15
           },
           "zerolinecolor": "white",
           "zerolinewidth": 2
          },
          "yaxis": {
           "automargin": true,
           "gridcolor": "white",
           "linecolor": "white",
           "ticks": "",
           "title": {
            "standoff": 15
           },
           "zerolinecolor": "white",
           "zerolinewidth": 2
          }
         }
        },
        "xaxis": {
         "anchor": "y",
         "domain": [
          0,
          1
         ],
         "title": {
          "text": "d1"
         }
        },
        "yaxis": {
         "anchor": "x",
         "domain": [
          0,
          1
         ],
         "title": {
          "text": "d2"
         }
        }
       }
      }
     },
     "metadata": {},
     "output_type": "display_data"
    }
   ],
   "source": [
    "fig = px.scatter(df2pc, x='d1', y='d2',\n",
    "                    color='actual',size_max=.01,opacity=0.4)\n",
    "fig.show()"
   ]
  },
  {
   "cell_type": "code",
   "execution_count": 246,
   "metadata": {},
   "outputs": [
    {
     "name": "stderr",
     "output_type": "stream",
     "text": [
      "/Users/temp/Library/Python/3.9/lib/python/site-packages/plotly/express/_core.py:1980: FutureWarning:\n",
      "\n",
      "When grouping with a length-1 list-like, you will need to pass a length-1 tuple to get_group in a future version of pandas. Pass `(name,)` instead of `name` to silence this warning.\n",
      "\n"
     ]
    },
    {
     "data": {
      "application/vnd.plotly.v1+json": {
       "config": {
        "plotlyServerURL": "https://plot.ly"
       },
       "data": [
        {
         "hovertemplate": "predicted=not_hate<br>d1=%{x}<br>d2=%{y}<extra></extra>",
         "legendgroup": "not_hate",
         "marker": {
          "color": "#636efa",
          "opacity": 0.4,
          "symbol": "circle"
         },
         "mode": "markers",
         "name": "not_hate",
         "orientation": "v",
         "showlegend": true,
         "type": "scatter",
         "x": [
          -0.21517429923295334,
          0.06861528132066413,
          0.07183780152801106,
          0.1337451115987246,
          -0.06949764481062093,
          0.2817173180046107,
          -0.07142049263784062,
          0.014225006506886517,
          0.16008444017147916,
          0.13323962072790974,
          -0.08283730216545909,
          -0.10468201130106924,
          -0.11411636862103244,
          -0.23101182474066917,
          -0.21686444295003257,
          -0.1302441643372812,
          0.002759550371192687,
          0.2937901704152693,
          0.13426897262183696,
          0.11490126575175358,
          -0.20439945868241868,
          -0.11639273151516621,
          0.15848477123218435,
          -0.20899101409377435,
          0.12699153118766932,
          0.31773884176624306,
          0.2645616535564648,
          -0.2415623693991551,
          -0.2065101702499391,
          0.002336582731180259,
          -0.1155300898697206,
          -0.1347047141317747,
          0.2618093854475921,
          -0.08327897259164985,
          -0.21487159747027818,
          -0.21290508128360522,
          0.024343804696400906,
          0.05259147888905141,
          0.02488862259057878,
          0.04249713972351937,
          -0.11507139631328597,
          0.1055240980886265,
          -0.21256452854235997,
          -0.23312810821838068,
          -0.054218702425683024,
          -0.05643387941634026,
          0.10898773898505348,
          -0.23334608052215502,
          0.04824969297528775,
          0.12619456989925631,
          0.031071376353725588,
          -0.018770258374503246,
          0.008931690833840655,
          -0.08359716920352353,
          -0.03446632701634017,
          -0.09998624091313277,
          -0.11132463710353002,
          -0.2460949932719192,
          -0.0025721249572707716,
          0.05563486684166252,
          -0.09429538633760448,
          -0.08827841153323834,
          -0.004457162777428525,
          -0.2484444255917958,
          -0.23113347401550452,
          -0.18377294512115014,
          -0.07333579981691174,
          -0.19817169735930018,
          -0.24641184636140195,
          -0.1390767303233527,
          -0.16107372436824172,
          -0.05851292744573372,
          -0.2211356809963292,
          -0.17490320420359257,
          -0.040270617181656754,
          -0.21591788423753205,
          -0.17282391699924,
          -0.11100601843823382,
          -0.07944034247113946,
          -0.1109375405735736,
          0.12810719660826037,
          -0.11525344442195062,
          -0.15176441998639417,
          -0.09576327527470466,
          -0.23599031868533632,
          -0.21404281429593128,
          -0.19537285887472294,
          -0.15729613349811133,
          -0.14973972819326334,
          -0.20071911306994838,
          -0.1848562312926021,
          -0.08583329836879267,
          -0.16936579509130661,
          -0.20510923802164455,
          -0.23674596128240452,
          -0.09631934370284978,
          0.10001849201401536,
          -0.19710340665849052,
          -0.20013412433684577,
          0.02422901972362901,
          -0.04352792510652642,
          0.05704932183688671,
          0.04197053087528857,
          -0.09623550775627943,
          -0.18569156574563897,
          -0.2040879058798183,
          -0.11665622746418869,
          -0.15748403031349273,
          -0.15753635836418958,
          -0.05837910246662956,
          -0.13399989744949703,
          -0.11830470525362613,
          -0.12731458918788432
         ],
         "xaxis": "x",
         "y": [
          0.21517429923295334,
          -0.06861528132066413,
          -0.07183780152801106,
          -0.1337451115987246,
          0.06949764481062093,
          -0.2817173180046107,
          0.07142049263784062,
          -0.014225006506886517,
          -0.16008444017147916,
          -0.13323962072790974,
          0.08283730216545909,
          0.10468201130106924,
          0.11411636862103244,
          0.23101182474066917,
          0.21686444295003257,
          0.1302441643372812,
          -0.002759550371192687,
          -0.2937901704152693,
          -0.13426897262183696,
          -0.11490126575175358,
          0.20439945868241868,
          0.11639273151516621,
          -0.15848477123218435,
          0.20899101409377435,
          -0.12699153118766932,
          -0.31773884176624306,
          -0.2645616535564648,
          0.2415623693991551,
          0.2065101702499391,
          -0.002336582731180259,
          0.1155300898697206,
          0.1347047141317747,
          -0.2618093854475921,
          0.08327897259164985,
          0.21487159747027818,
          0.21290508128360522,
          -0.024343804696400906,
          -0.05259147888905141,
          -0.02488862259057878,
          -0.04249713972351937,
          0.11507139631328597,
          -0.1055240980886265,
          0.21256452854235997,
          0.23312810821838068,
          0.054218702425683024,
          0.05643387941634026,
          -0.10898773898505348,
          0.23334608052215502,
          -0.04824969297528775,
          -0.12619456989925631,
          -0.031071376353725588,
          0.018770258374503246,
          -0.008931690833840655,
          0.08359716920352353,
          0.03446632701634017,
          0.09998624091313277,
          0.11132463710353002,
          0.2460949932719192,
          0.0025721249572707716,
          -0.05563486684166252,
          0.09429538633760448,
          0.08827841153323834,
          0.004457162777428525,
          0.2484444255917958,
          0.23113347401550452,
          0.18377294512115014,
          0.07333579981691174,
          0.19817169735930018,
          0.24641184636140195,
          0.1390767303233527,
          0.16107372436824172,
          0.05851292744573372,
          0.2211356809963292,
          0.17490320420359257,
          0.040270617181656754,
          0.21591788423753205,
          0.17282391699924,
          0.11100601843823382,
          0.07944034247113946,
          0.1109375405735736,
          -0.12810719660826037,
          0.11525344442195062,
          0.15176441998639417,
          0.09576327527470466,
          0.23599031868533632,
          0.21404281429593128,
          0.19537285887472294,
          0.15729613349811133,
          0.14973972819326334,
          0.20071911306994838,
          0.1848562312926021,
          0.08583329836879267,
          0.16936579509130661,
          0.20510923802164455,
          0.23674596128240452,
          0.09631934370284978,
          -0.10001849201401536,
          0.19710340665849052,
          0.20013412433684577,
          -0.02422901972362901,
          0.04352792510652642,
          -0.05704932183688671,
          -0.04197053087528857,
          0.09623550775627943,
          0.18569156574563897,
          0.2040879058798183,
          0.11665622746418869,
          0.15748403031349273,
          0.15753635836418958,
          0.05837910246662956,
          0.13399989744949703,
          0.11830470525362613,
          0.12731458918788432
         ],
         "yaxis": "y"
        },
        {
         "hovertemplate": "predicted=implicit_hate<br>d1=%{x}<br>d2=%{y}<extra></extra>",
         "legendgroup": "implicit_hate",
         "marker": {
          "color": "#EF553B",
          "opacity": 0.4,
          "symbol": "circle"
         },
         "mode": "markers",
         "name": "implicit_hate",
         "orientation": "v",
         "showlegend": true,
         "type": "scatter",
         "x": [
          -0.2707043186744422,
          -0.2966169160749341,
          -0.41801648992267093,
          -0.3214742283946723,
          -0.4200908483645569,
          -0.7149290704011888,
          -0.3272770546038512,
          -0.27763597640106663,
          -0.3836389694293827,
          -0.40378644396917895,
          -0.27804653350502984,
          -0.5947776008635326,
          -0.33207248201267037,
          -0.40391746763295555,
          -0.33608274662775917,
          -0.4215612369917683,
          -0.5105084511208229,
          -0.41958626878555816,
          -0.30216341444115247,
          -0.36782168753515904,
          -0.26351787080314276,
          -0.2681001561952002,
          -0.2639808172464422,
          -0.4987650428902119,
          -0.31878736810997854,
          -0.6184821136566773,
          -0.2959040730750945,
          -0.6261220460876841,
          -0.5175971101613311,
          -0.5146843348541545,
          -0.4783517711440948,
          -0.642988204236004,
          -0.7082645973014683,
          -0.6902906058964169,
          -0.6941248033616796,
          -0.36765631852504255,
          -0.3644773362950804,
          -0.3491314265407057,
          -0.5599224543197932,
          -0.4751397876985796,
          -0.5765862191736209,
          -0.503524720618984,
          -0.5597155049341067,
          -0.6667547177249931,
          -0.6929512378103678,
          -0.3939070230878239,
          -0.41009452016120673,
          -0.27580223152523337,
          -0.3861437128112625,
          -0.28717842465090215,
          -0.49019137962483983,
          -0.581587834748273,
          -0.32825481487056585,
          -0.3069890714193381,
          -0.30445614724361114,
          -0.2888787041261237,
          -0.2888787041261237,
          -0.6128627393994648,
          -0.45201063689086146,
          -0.6581208032117369,
          -0.48405732735048634,
          -0.37713607375686925,
          -0.49289803865292026,
          -0.440946535210497,
          -0.2824677932568395,
          -0.6789043646181316,
          -0.4518983475550644,
          -0.4676558964391659,
          -0.3731288705388124,
          -0.29698684716812335,
          -0.4376248697629419,
          -0.4660829937845231,
          -0.42129912928982105,
          -0.2995579701772697,
          -0.6082313745353052,
          -0.4274473064292218,
          -0.3240429385139405,
          -0.39417091960719697,
          -0.3960313365429852,
          -0.5013929322303506,
          -0.6464648945101195,
          -0.6054022616849934,
          -0.4093193591802709,
          -0.30108887061613326,
          -0.29169493283312686,
          -0.6859210143871266,
          -0.3659491227241112,
          -0.360798305414831,
          -0.2981633259804458,
          -0.26589029498867656,
          -0.29516624069649444,
          -0.25182296669311593,
          -0.2917980341020479,
          -0.26722968292406624,
          -0.5776124809516581,
          -0.30123364511649137,
          -0.25229313909897444,
          -0.5005986830635875,
          -0.3274331447942461,
          -0.3391119525567261,
          -0.4948234662275989,
          -0.4438136938551814,
          -0.33779703387045856,
          -0.3423960856835379,
          -0.2558115948259158,
          -0.4914889012401019,
          -0.5061824314910568,
          -0.35102477418711675,
          -0.2610801146450894,
          -0.4809997229572389,
          -0.4947486950092427,
          -0.33715483463027573,
          -0.2890352539412861,
          -0.709471058272684,
          -0.4023185717754495,
          -0.3725345947465836,
          -0.7147301640569865,
          -0.365546119743994,
          -0.43725919075013236,
          -0.3324623296104486,
          -0.32368976776340275,
          -0.282612283356054,
          -0.359582109744911,
          -0.4297459873782855,
          -0.5080375764949785,
          -0.6425579549719145,
          -0.33574688027368216,
          -0.3243865312052645,
          -0.35862728969092755,
          -0.30099443637522266,
          -0.3743717918646966,
          -0.48747467464580885,
          -0.3563680746249608,
          -0.2673982567659193,
          -0.46676843205718255
         ],
         "xaxis": "x",
         "y": [
          0.2707043186744422,
          0.2966169160749341,
          0.41801648992267093,
          0.3214742283946723,
          0.4200908483645569,
          0.7149290704011888,
          0.3272770546038512,
          0.27763597640106663,
          0.3836389694293827,
          0.40378644396917895,
          0.27804653350502984,
          0.5947776008635326,
          0.33207248201267037,
          0.40391746763295555,
          0.33608274662775917,
          0.4215612369917683,
          0.5105084511208229,
          0.41958626878555816,
          0.30216341444115247,
          0.36782168753515904,
          0.26351787080314276,
          0.2681001561952002,
          0.2639808172464422,
          0.4987650428902119,
          0.31878736810997854,
          0.6184821136566773,
          0.2959040730750945,
          0.6261220460876841,
          0.5175971101613311,
          0.5146843348541545,
          0.4783517711440948,
          0.642988204236004,
          0.7082645973014683,
          0.6902906058964169,
          0.6941248033616796,
          0.36765631852504255,
          0.3644773362950804,
          0.3491314265407057,
          0.5599224543197932,
          0.4751397876985796,
          0.5765862191736209,
          0.503524720618984,
          0.5597155049341067,
          0.6667547177249931,
          0.6929512378103678,
          0.3939070230878239,
          0.41009452016120673,
          0.27580223152523337,
          0.3861437128112625,
          0.28717842465090215,
          0.49019137962483983,
          0.581587834748273,
          0.32825481487056585,
          0.3069890714193381,
          0.30445614724361114,
          0.2888787041261237,
          0.2888787041261237,
          0.6128627393994648,
          0.45201063689086146,
          0.6581208032117369,
          0.48405732735048634,
          0.37713607375686925,
          0.49289803865292026,
          0.440946535210497,
          0.2824677932568395,
          0.6789043646181316,
          0.4518983475550644,
          0.4676558964391659,
          0.3731288705388124,
          0.29698684716812335,
          0.4376248697629419,
          0.4660829937845231,
          0.42129912928982105,
          0.2995579701772697,
          0.6082313745353052,
          0.4274473064292218,
          0.3240429385139405,
          0.39417091960719697,
          0.3960313365429852,
          0.5013929322303506,
          0.6464648945101195,
          0.6054022616849934,
          0.4093193591802709,
          0.30108887061613326,
          0.29169493283312686,
          0.6859210143871266,
          0.3659491227241112,
          0.360798305414831,
          0.2981633259804458,
          0.26589029498867656,
          0.29516624069649444,
          0.25182296669311593,
          0.2917980341020479,
          0.26722968292406624,
          0.5776124809516581,
          0.30123364511649137,
          0.25229313909897444,
          0.5005986830635875,
          0.3274331447942461,
          0.3391119525567261,
          0.4948234662275989,
          0.4438136938551814,
          0.33779703387045856,
          0.3423960856835379,
          0.2558115948259158,
          0.4914889012401019,
          0.5061824314910568,
          0.35102477418711675,
          0.2610801146450894,
          0.4809997229572389,
          0.4947486950092427,
          0.33715483463027573,
          0.2890352539412861,
          0.709471058272684,
          0.4023185717754495,
          0.3725345947465836,
          0.7147301640569865,
          0.365546119743994,
          0.43725919075013236,
          0.3324623296104486,
          0.32368976776340275,
          0.282612283356054,
          0.359582109744911,
          0.4297459873782855,
          0.5080375764949785,
          0.6425579549719145,
          0.33574688027368216,
          0.3243865312052645,
          0.35862728969092755,
          0.30099443637522266,
          0.3743717918646966,
          0.48747467464580885,
          0.3563680746249608,
          0.2673982567659193,
          0.46676843205718255
         ],
         "yaxis": "y"
        },
        {
         "hovertemplate": "predicted=explicit_hate<br>d1=%{x}<br>d2=%{y}<extra></extra>",
         "legendgroup": "explicit_hate",
         "marker": {
          "color": "#00cc96",
          "opacity": 0.4,
          "symbol": "circle"
         },
         "mode": "markers",
         "name": "explicit_hate",
         "orientation": "v",
         "showlegend": true,
         "type": "scatter",
         "x": [
          -0.8179370028503732,
          -0.8207357104560331,
          -0.7586899708348946,
          -1.0712600366205676,
          -0.8169340992722887,
          -0.7703339166295464,
          -0.876481931875819,
          -0.8264632778084697,
          -0.8778079345335903,
          -0.8808971254704396,
          -0.7832173727594955,
          -0.8811369515077612,
          -0.7646216502873611,
          -0.7861380620561693,
          -0.8853289589513638,
          -0.7809534025438851
         ],
         "xaxis": "x",
         "y": [
          0.8179370028503732,
          0.8207357104560331,
          0.7586899708348946,
          1.0712600366205676,
          0.8169340992722887,
          0.7703339166295464,
          0.876481931875819,
          0.8264632778084697,
          0.8778079345335903,
          0.8808971254704396,
          0.7832173727594955,
          0.8811369515077612,
          0.7646216502873611,
          0.7861380620561693,
          0.8853289589513638,
          0.7809534025438851
         ],
         "yaxis": "y"
        }
       ],
       "layout": {
        "legend": {
         "title": {
          "text": "predicted"
         },
         "tracegroupgap": 0
        },
        "margin": {
         "t": 60
        },
        "template": {
         "data": {
          "bar": [
           {
            "error_x": {
             "color": "#2a3f5f"
            },
            "error_y": {
             "color": "#2a3f5f"
            },
            "marker": {
             "line": {
              "color": "#E5ECF6",
              "width": 0.5
             },
             "pattern": {
              "fillmode": "overlay",
              "size": 10,
              "solidity": 0.2
             }
            },
            "type": "bar"
           }
          ],
          "barpolar": [
           {
            "marker": {
             "line": {
              "color": "#E5ECF6",
              "width": 0.5
             },
             "pattern": {
              "fillmode": "overlay",
              "size": 10,
              "solidity": 0.2
             }
            },
            "type": "barpolar"
           }
          ],
          "carpet": [
           {
            "aaxis": {
             "endlinecolor": "#2a3f5f",
             "gridcolor": "white",
             "linecolor": "white",
             "minorgridcolor": "white",
             "startlinecolor": "#2a3f5f"
            },
            "baxis": {
             "endlinecolor": "#2a3f5f",
             "gridcolor": "white",
             "linecolor": "white",
             "minorgridcolor": "white",
             "startlinecolor": "#2a3f5f"
            },
            "type": "carpet"
           }
          ],
          "choropleth": [
           {
            "colorbar": {
             "outlinewidth": 0,
             "ticks": ""
            },
            "type": "choropleth"
           }
          ],
          "contour": [
           {
            "colorbar": {
             "outlinewidth": 0,
             "ticks": ""
            },
            "colorscale": [
             [
              0,
              "#0d0887"
             ],
             [
              0.1111111111111111,
              "#46039f"
             ],
             [
              0.2222222222222222,
              "#7201a8"
             ],
             [
              0.3333333333333333,
              "#9c179e"
             ],
             [
              0.4444444444444444,
              "#bd3786"
             ],
             [
              0.5555555555555556,
              "#d8576b"
             ],
             [
              0.6666666666666666,
              "#ed7953"
             ],
             [
              0.7777777777777778,
              "#fb9f3a"
             ],
             [
              0.8888888888888888,
              "#fdca26"
             ],
             [
              1,
              "#f0f921"
             ]
            ],
            "type": "contour"
           }
          ],
          "contourcarpet": [
           {
            "colorbar": {
             "outlinewidth": 0,
             "ticks": ""
            },
            "type": "contourcarpet"
           }
          ],
          "heatmap": [
           {
            "colorbar": {
             "outlinewidth": 0,
             "ticks": ""
            },
            "colorscale": [
             [
              0,
              "#0d0887"
             ],
             [
              0.1111111111111111,
              "#46039f"
             ],
             [
              0.2222222222222222,
              "#7201a8"
             ],
             [
              0.3333333333333333,
              "#9c179e"
             ],
             [
              0.4444444444444444,
              "#bd3786"
             ],
             [
              0.5555555555555556,
              "#d8576b"
             ],
             [
              0.6666666666666666,
              "#ed7953"
             ],
             [
              0.7777777777777778,
              "#fb9f3a"
             ],
             [
              0.8888888888888888,
              "#fdca26"
             ],
             [
              1,
              "#f0f921"
             ]
            ],
            "type": "heatmap"
           }
          ],
          "heatmapgl": [
           {
            "colorbar": {
             "outlinewidth": 0,
             "ticks": ""
            },
            "colorscale": [
             [
              0,
              "#0d0887"
             ],
             [
              0.1111111111111111,
              "#46039f"
             ],
             [
              0.2222222222222222,
              "#7201a8"
             ],
             [
              0.3333333333333333,
              "#9c179e"
             ],
             [
              0.4444444444444444,
              "#bd3786"
             ],
             [
              0.5555555555555556,
              "#d8576b"
             ],
             [
              0.6666666666666666,
              "#ed7953"
             ],
             [
              0.7777777777777778,
              "#fb9f3a"
             ],
             [
              0.8888888888888888,
              "#fdca26"
             ],
             [
              1,
              "#f0f921"
             ]
            ],
            "type": "heatmapgl"
           }
          ],
          "histogram": [
           {
            "marker": {
             "pattern": {
              "fillmode": "overlay",
              "size": 10,
              "solidity": 0.2
             }
            },
            "type": "histogram"
           }
          ],
          "histogram2d": [
           {
            "colorbar": {
             "outlinewidth": 0,
             "ticks": ""
            },
            "colorscale": [
             [
              0,
              "#0d0887"
             ],
             [
              0.1111111111111111,
              "#46039f"
             ],
             [
              0.2222222222222222,
              "#7201a8"
             ],
             [
              0.3333333333333333,
              "#9c179e"
             ],
             [
              0.4444444444444444,
              "#bd3786"
             ],
             [
              0.5555555555555556,
              "#d8576b"
             ],
             [
              0.6666666666666666,
              "#ed7953"
             ],
             [
              0.7777777777777778,
              "#fb9f3a"
             ],
             [
              0.8888888888888888,
              "#fdca26"
             ],
             [
              1,
              "#f0f921"
             ]
            ],
            "type": "histogram2d"
           }
          ],
          "histogram2dcontour": [
           {
            "colorbar": {
             "outlinewidth": 0,
             "ticks": ""
            },
            "colorscale": [
             [
              0,
              "#0d0887"
             ],
             [
              0.1111111111111111,
              "#46039f"
             ],
             [
              0.2222222222222222,
              "#7201a8"
             ],
             [
              0.3333333333333333,
              "#9c179e"
             ],
             [
              0.4444444444444444,
              "#bd3786"
             ],
             [
              0.5555555555555556,
              "#d8576b"
             ],
             [
              0.6666666666666666,
              "#ed7953"
             ],
             [
              0.7777777777777778,
              "#fb9f3a"
             ],
             [
              0.8888888888888888,
              "#fdca26"
             ],
             [
              1,
              "#f0f921"
             ]
            ],
            "type": "histogram2dcontour"
           }
          ],
          "mesh3d": [
           {
            "colorbar": {
             "outlinewidth": 0,
             "ticks": ""
            },
            "type": "mesh3d"
           }
          ],
          "parcoords": [
           {
            "line": {
             "colorbar": {
              "outlinewidth": 0,
              "ticks": ""
             }
            },
            "type": "parcoords"
           }
          ],
          "pie": [
           {
            "automargin": true,
            "type": "pie"
           }
          ],
          "scatter": [
           {
            "fillpattern": {
             "fillmode": "overlay",
             "size": 10,
             "solidity": 0.2
            },
            "type": "scatter"
           }
          ],
          "scatter3d": [
           {
            "line": {
             "colorbar": {
              "outlinewidth": 0,
              "ticks": ""
             }
            },
            "marker": {
             "colorbar": {
              "outlinewidth": 0,
              "ticks": ""
             }
            },
            "type": "scatter3d"
           }
          ],
          "scattercarpet": [
           {
            "marker": {
             "colorbar": {
              "outlinewidth": 0,
              "ticks": ""
             }
            },
            "type": "scattercarpet"
           }
          ],
          "scattergeo": [
           {
            "marker": {
             "colorbar": {
              "outlinewidth": 0,
              "ticks": ""
             }
            },
            "type": "scattergeo"
           }
          ],
          "scattergl": [
           {
            "marker": {
             "colorbar": {
              "outlinewidth": 0,
              "ticks": ""
             }
            },
            "type": "scattergl"
           }
          ],
          "scattermapbox": [
           {
            "marker": {
             "colorbar": {
              "outlinewidth": 0,
              "ticks": ""
             }
            },
            "type": "scattermapbox"
           }
          ],
          "scatterpolar": [
           {
            "marker": {
             "colorbar": {
              "outlinewidth": 0,
              "ticks": ""
             }
            },
            "type": "scatterpolar"
           }
          ],
          "scatterpolargl": [
           {
            "marker": {
             "colorbar": {
              "outlinewidth": 0,
              "ticks": ""
             }
            },
            "type": "scatterpolargl"
           }
          ],
          "scatterternary": [
           {
            "marker": {
             "colorbar": {
              "outlinewidth": 0,
              "ticks": ""
             }
            },
            "type": "scatterternary"
           }
          ],
          "surface": [
           {
            "colorbar": {
             "outlinewidth": 0,
             "ticks": ""
            },
            "colorscale": [
             [
              0,
              "#0d0887"
             ],
             [
              0.1111111111111111,
              "#46039f"
             ],
             [
              0.2222222222222222,
              "#7201a8"
             ],
             [
              0.3333333333333333,
              "#9c179e"
             ],
             [
              0.4444444444444444,
              "#bd3786"
             ],
             [
              0.5555555555555556,
              "#d8576b"
             ],
             [
              0.6666666666666666,
              "#ed7953"
             ],
             [
              0.7777777777777778,
              "#fb9f3a"
             ],
             [
              0.8888888888888888,
              "#fdca26"
             ],
             [
              1,
              "#f0f921"
             ]
            ],
            "type": "surface"
           }
          ],
          "table": [
           {
            "cells": {
             "fill": {
              "color": "#EBF0F8"
             },
             "line": {
              "color": "white"
             }
            },
            "header": {
             "fill": {
              "color": "#C8D4E3"
             },
             "line": {
              "color": "white"
             }
            },
            "type": "table"
           }
          ]
         },
         "layout": {
          "annotationdefaults": {
           "arrowcolor": "#2a3f5f",
           "arrowhead": 0,
           "arrowwidth": 1
          },
          "autotypenumbers": "strict",
          "coloraxis": {
           "colorbar": {
            "outlinewidth": 0,
            "ticks": ""
           }
          },
          "colorscale": {
           "diverging": [
            [
             0,
             "#8e0152"
            ],
            [
             0.1,
             "#c51b7d"
            ],
            [
             0.2,
             "#de77ae"
            ],
            [
             0.3,
             "#f1b6da"
            ],
            [
             0.4,
             "#fde0ef"
            ],
            [
             0.5,
             "#f7f7f7"
            ],
            [
             0.6,
             "#e6f5d0"
            ],
            [
             0.7,
             "#b8e186"
            ],
            [
             0.8,
             "#7fbc41"
            ],
            [
             0.9,
             "#4d9221"
            ],
            [
             1,
             "#276419"
            ]
           ],
           "sequential": [
            [
             0,
             "#0d0887"
            ],
            [
             0.1111111111111111,
             "#46039f"
            ],
            [
             0.2222222222222222,
             "#7201a8"
            ],
            [
             0.3333333333333333,
             "#9c179e"
            ],
            [
             0.4444444444444444,
             "#bd3786"
            ],
            [
             0.5555555555555556,
             "#d8576b"
            ],
            [
             0.6666666666666666,
             "#ed7953"
            ],
            [
             0.7777777777777778,
             "#fb9f3a"
            ],
            [
             0.8888888888888888,
             "#fdca26"
            ],
            [
             1,
             "#f0f921"
            ]
           ],
           "sequentialminus": [
            [
             0,
             "#0d0887"
            ],
            [
             0.1111111111111111,
             "#46039f"
            ],
            [
             0.2222222222222222,
             "#7201a8"
            ],
            [
             0.3333333333333333,
             "#9c179e"
            ],
            [
             0.4444444444444444,
             "#bd3786"
            ],
            [
             0.5555555555555556,
             "#d8576b"
            ],
            [
             0.6666666666666666,
             "#ed7953"
            ],
            [
             0.7777777777777778,
             "#fb9f3a"
            ],
            [
             0.8888888888888888,
             "#fdca26"
            ],
            [
             1,
             "#f0f921"
            ]
           ]
          },
          "colorway": [
           "#636efa",
           "#EF553B",
           "#00cc96",
           "#ab63fa",
           "#FFA15A",
           "#19d3f3",
           "#FF6692",
           "#B6E880",
           "#FF97FF",
           "#FECB52"
          ],
          "font": {
           "color": "#2a3f5f"
          },
          "geo": {
           "bgcolor": "white",
           "lakecolor": "white",
           "landcolor": "#E5ECF6",
           "showlakes": true,
           "showland": true,
           "subunitcolor": "white"
          },
          "hoverlabel": {
           "align": "left"
          },
          "hovermode": "closest",
          "mapbox": {
           "style": "light"
          },
          "paper_bgcolor": "white",
          "plot_bgcolor": "#E5ECF6",
          "polar": {
           "angularaxis": {
            "gridcolor": "white",
            "linecolor": "white",
            "ticks": ""
           },
           "bgcolor": "#E5ECF6",
           "radialaxis": {
            "gridcolor": "white",
            "linecolor": "white",
            "ticks": ""
           }
          },
          "scene": {
           "xaxis": {
            "backgroundcolor": "#E5ECF6",
            "gridcolor": "white",
            "gridwidth": 2,
            "linecolor": "white",
            "showbackground": true,
            "ticks": "",
            "zerolinecolor": "white"
           },
           "yaxis": {
            "backgroundcolor": "#E5ECF6",
            "gridcolor": "white",
            "gridwidth": 2,
            "linecolor": "white",
            "showbackground": true,
            "ticks": "",
            "zerolinecolor": "white"
           },
           "zaxis": {
            "backgroundcolor": "#E5ECF6",
            "gridcolor": "white",
            "gridwidth": 2,
            "linecolor": "white",
            "showbackground": true,
            "ticks": "",
            "zerolinecolor": "white"
           }
          },
          "shapedefaults": {
           "line": {
            "color": "#2a3f5f"
           }
          },
          "ternary": {
           "aaxis": {
            "gridcolor": "white",
            "linecolor": "white",
            "ticks": ""
           },
           "baxis": {
            "gridcolor": "white",
            "linecolor": "white",
            "ticks": ""
           },
           "bgcolor": "#E5ECF6",
           "caxis": {
            "gridcolor": "white",
            "linecolor": "white",
            "ticks": ""
           }
          },
          "title": {
           "x": 0.05
          },
          "xaxis": {
           "automargin": true,
           "gridcolor": "white",
           "linecolor": "white",
           "ticks": "",
           "title": {
            "standoff": 15
           },
           "zerolinecolor": "white",
           "zerolinewidth": 2
          },
          "yaxis": {
           "automargin": true,
           "gridcolor": "white",
           "linecolor": "white",
           "ticks": "",
           "title": {
            "standoff": 15
           },
           "zerolinecolor": "white",
           "zerolinewidth": 2
          }
         }
        },
        "xaxis": {
         "anchor": "y",
         "domain": [
          0,
          1
         ],
         "title": {
          "text": "d1"
         }
        },
        "yaxis": {
         "anchor": "x",
         "domain": [
          0,
          1
         ],
         "title": {
          "text": "d2"
         }
        }
       }
      }
     },
     "metadata": {},
     "output_type": "display_data"
    }
   ],
   "source": [
    "fig = px.scatter(df2pc, x='d1', y='d2',\n",
    "                    color='predicted',size_max=.01,opacity=0.4)\n",
    "fig.show()"
   ]
  },
  {
   "cell_type": "code",
   "execution_count": 247,
   "metadata": {},
   "outputs": [
    {
     "name": "stdout",
     "output_type": "stream",
     "text": [
      "Parameter containing:\n",
      "tensor([0.2969], dtype=torch.float64, requires_grad=True) Parameter containing:\n",
      "tensor([-0.2969], dtype=torch.float64, requires_grad=True)\n"
     ]
    }
   ],
   "source": [
    "print(model.linear1.bias,model.linear2.bias)"
   ]
  },
  {
   "cell_type": "code",
   "execution_count": 248,
   "metadata": {},
   "outputs": [
    {
     "data": {
      "text/plain": [
       "tensor([[64, 35, 14],\n",
       "        [24, 53, 58],\n",
       "        [ 0,  0, 16]])"
      ]
     },
     "execution_count": 248,
     "metadata": {},
     "output_type": "execute_result"
    }
   ],
   "source": [
    "multiclass_confusion_matrix(torch.tensor([lindict[y] for y in actual],dtype=torch.int64),torch.tensor([lindict[y] for y in predicted],dtype=torch.int64),3)"
   ]
  }
 ],
 "metadata": {
  "kernelspec": {
   "display_name": "Python 3",
   "language": "python",
   "name": "python3"
  },
  "language_info": {
   "codemirror_mode": {
    "name": "ipython",
    "version": 3
   },
   "file_extension": ".py",
   "mimetype": "text/x-python",
   "name": "python",
   "nbconvert_exporter": "python",
   "pygments_lexer": "ipython3",
   "version": "3.9.6"
  }
 },
 "nbformat": 4,
 "nbformat_minor": 2
}
